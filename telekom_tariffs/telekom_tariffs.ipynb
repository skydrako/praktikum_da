{
 "cells": [
  {
   "cell_type": "markdown",
   "metadata": {},
   "source": [
    "# Определение выгодного тарифа для телеком компании"
   ]
  },
  {
   "cell_type": "markdown",
   "metadata": {
    "cellId": "9kcctjgwmy6ijfnasbtq4"
   },
   "source": [
    "## Описание проекта\n",
    "Компания «Мегалайн» — федеральный оператор сотовой связи. Компания предлагает клиентам два тарифных плана: «Смарт» и «Ультра»:  \n",
    "**Тариф «Смарт»**  \n",
    "Ежемесячная плата: 550 рублей  \n",
    "Включено 500 минут разговора, 50 сообщений и 15 Гб интернет-трафика  \n",
    "Стоимость услуг сверх тарифного пакета: 1. минута разговора: 3 рубля; 2. сообщение: 3 рубля; 3. 1 Гб интернет-трафика: 200 рублей.  \n",
    "**Тариф «Ультра»**  \n",
    "Ежемесячная плата: 1950 рублей  \n",
    "Включено 3000 минут разговора, 1000 сообщений и 30 Гб интернет-трафика  \n",
    "Стоимость услуг сверх тарифного пакета: 1. минута разговора: 1 рубль; 2. сообщение: 1 рубль; 3. 1 Гб интернет-трафика: 150 рублей.  \n",
    "\n",
    "Поступил запрос от коммерческого департамента на определение тарифа, который приносит больше денег. Данные анализа будут использоваться для корректировки рекламного бюджета.  \n",
    "Для анализа предоставлены данные 500 пользователей «Мегалайна»: кто они, откуда, каким тарифом пользуются, сколько звонков и сообщений каждый отправил за 2018 год. Нужно проанализировать поведение клиентов и сделать вывод — какой тариф лучше."
   ]
  },
  {
   "cell_type": "markdown",
   "metadata": {
    "cellId": "rswu03cfdwgcfecy406rro"
   },
   "source": [
    "## 1. Загрузка и общий анализ данных"
   ]
  },
  {
   "cell_type": "code",
   "execution_count": 1,
   "metadata": {
    "cellId": "z08a8njqm49bzz9dj46q9n"
   },
   "outputs": [],
   "source": [
    "# импорт необходимых библиотек\n",
    "import pandas as pd\n",
    "import datetime as dt\n",
    "import numpy as np\n",
    "import warnings\n",
    "from matplotlib import pyplot as plt\n",
    "from scipy import stats as st"
   ]
  },
  {
   "cell_type": "code",
   "execution_count": 2,
   "metadata": {
    "cellId": "1uyp1cxs6n4h7egyf24bus"
   },
   "outputs": [],
   "source": [
    "# получаем данные и сохраняем их в переменные\n",
    "data_calls = pd.read_csv('/datasets/calls.csv')\n",
    "data_internet = pd.read_csv('/datasets/internet.csv')\n",
    "data_messages = pd.read_csv('/datasets/messages.csv')\n",
    "data_tariffs = pd.read_csv('/datasets/tariffs.csv') \n",
    "data_users = pd.read_csv('/datasets/users.csv')"
   ]
  },
  {
   "cell_type": "code",
   "execution_count": 3,
   "metadata": {
    "cellId": "qlmfu7z0cd5t4qnjocdu"
   },
   "outputs": [],
   "source": [
    "# создаем функцию для просмотра общей информации по определенному набору данных\n",
    "def dataframe_information(dataframe, q_rows): # datafreim - имя переменной, в которой сохранен интересующий набор данных, rows количество строк для просмотра\n",
    "    display(dataframe.info())\n",
    "    display(dataframe.head(q_rows))"
   ]
  },
  {
   "cell_type": "code",
   "execution_count": 4,
   "metadata": {
    "cellId": "qggre3rolkfxx34n0pb6z"
   },
   "outputs": [
    {
     "name": "stdout",
     "output_type": "stream",
     "text": [
      "<class 'pandas.core.frame.DataFrame'>\n",
      "RangeIndex: 202607 entries, 0 to 202606\n",
      "Data columns (total 4 columns):\n",
      "id           202607 non-null object\n",
      "call_date    202607 non-null object\n",
      "duration     202607 non-null float64\n",
      "user_id      202607 non-null int64\n",
      "dtypes: float64(1), int64(1), object(2)\n",
      "memory usage: 6.2+ MB\n"
     ]
    },
    {
     "data": {
      "text/plain": [
       "None"
      ]
     },
     "metadata": {},
     "output_type": "display_data"
    },
    {
     "data": {
      "text/html": [
       "<div>\n",
       "<style scoped>\n",
       "    .dataframe tbody tr th:only-of-type {\n",
       "        vertical-align: middle;\n",
       "    }\n",
       "\n",
       "    .dataframe tbody tr th {\n",
       "        vertical-align: top;\n",
       "    }\n",
       "\n",
       "    .dataframe thead th {\n",
       "        text-align: right;\n",
       "    }\n",
       "</style>\n",
       "<table border=\"1\" class=\"dataframe\">\n",
       "  <thead>\n",
       "    <tr style=\"text-align: right;\">\n",
       "      <th></th>\n",
       "      <th>id</th>\n",
       "      <th>call_date</th>\n",
       "      <th>duration</th>\n",
       "      <th>user_id</th>\n",
       "    </tr>\n",
       "  </thead>\n",
       "  <tbody>\n",
       "    <tr>\n",
       "      <td>0</td>\n",
       "      <td>1000_0</td>\n",
       "      <td>2018-07-25</td>\n",
       "      <td>0.00</td>\n",
       "      <td>1000</td>\n",
       "    </tr>\n",
       "    <tr>\n",
       "      <td>1</td>\n",
       "      <td>1000_1</td>\n",
       "      <td>2018-08-17</td>\n",
       "      <td>0.00</td>\n",
       "      <td>1000</td>\n",
       "    </tr>\n",
       "    <tr>\n",
       "      <td>2</td>\n",
       "      <td>1000_2</td>\n",
       "      <td>2018-06-11</td>\n",
       "      <td>2.85</td>\n",
       "      <td>1000</td>\n",
       "    </tr>\n",
       "    <tr>\n",
       "      <td>3</td>\n",
       "      <td>1000_3</td>\n",
       "      <td>2018-09-21</td>\n",
       "      <td>13.80</td>\n",
       "      <td>1000</td>\n",
       "    </tr>\n",
       "    <tr>\n",
       "      <td>4</td>\n",
       "      <td>1000_4</td>\n",
       "      <td>2018-12-15</td>\n",
       "      <td>5.18</td>\n",
       "      <td>1000</td>\n",
       "    </tr>\n",
       "    <tr>\n",
       "      <td>5</td>\n",
       "      <td>1000_5</td>\n",
       "      <td>2018-11-02</td>\n",
       "      <td>0.00</td>\n",
       "      <td>1000</td>\n",
       "    </tr>\n",
       "    <tr>\n",
       "      <td>6</td>\n",
       "      <td>1000_6</td>\n",
       "      <td>2018-10-18</td>\n",
       "      <td>0.00</td>\n",
       "      <td>1000</td>\n",
       "    </tr>\n",
       "    <tr>\n",
       "      <td>7</td>\n",
       "      <td>1000_7</td>\n",
       "      <td>2018-08-22</td>\n",
       "      <td>18.31</td>\n",
       "      <td>1000</td>\n",
       "    </tr>\n",
       "    <tr>\n",
       "      <td>8</td>\n",
       "      <td>1000_8</td>\n",
       "      <td>2018-09-15</td>\n",
       "      <td>18.44</td>\n",
       "      <td>1000</td>\n",
       "    </tr>\n",
       "    <tr>\n",
       "      <td>9</td>\n",
       "      <td>1000_9</td>\n",
       "      <td>2018-08-15</td>\n",
       "      <td>0.00</td>\n",
       "      <td>1000</td>\n",
       "    </tr>\n",
       "  </tbody>\n",
       "</table>\n",
       "</div>"
      ],
      "text/plain": [
       "       id   call_date  duration  user_id\n",
       "0  1000_0  2018-07-25      0.00     1000\n",
       "1  1000_1  2018-08-17      0.00     1000\n",
       "2  1000_2  2018-06-11      2.85     1000\n",
       "3  1000_3  2018-09-21     13.80     1000\n",
       "4  1000_4  2018-12-15      5.18     1000\n",
       "5  1000_5  2018-11-02      0.00     1000\n",
       "6  1000_6  2018-10-18      0.00     1000\n",
       "7  1000_7  2018-08-22     18.31     1000\n",
       "8  1000_8  2018-09-15     18.44     1000\n",
       "9  1000_9  2018-08-15      0.00     1000"
      ]
     },
     "metadata": {},
     "output_type": "display_data"
    }
   ],
   "source": [
    "# просмотр общей информации о звонках\n",
    "dataframe_information(data_calls, 10)"
   ]
  },
  {
   "cell_type": "markdown",
   "metadata": {
    "cellId": "ssv08vfgf2jkz1zd4inlq"
   },
   "source": [
    "В наборе данных о звонках пользователей 202607 записей и 4 столбца: id записи, дата звонка, продолжительность, id абонента. Пропущенные данные в столбцах отсутствуют. Данные, содержащие дату звонка, имеют неверный формат. В дальнейшем необходимо будет преобразовать их к типу даты для возможности корректной обработки и анализа."
   ]
  },
  {
   "cell_type": "code",
   "execution_count": 5,
   "metadata": {
    "cellId": "w9pukqak3u3x9uenuvv2e"
   },
   "outputs": [
    {
     "name": "stdout",
     "output_type": "stream",
     "text": [
      "<class 'pandas.core.frame.DataFrame'>\n",
      "RangeIndex: 149396 entries, 0 to 149395\n",
      "Data columns (total 5 columns):\n",
      "Unnamed: 0      149396 non-null int64\n",
      "id              149396 non-null object\n",
      "mb_used         149396 non-null float64\n",
      "session_date    149396 non-null object\n",
      "user_id         149396 non-null int64\n",
      "dtypes: float64(1), int64(2), object(2)\n",
      "memory usage: 5.7+ MB\n"
     ]
    },
    {
     "data": {
      "text/plain": [
       "None"
      ]
     },
     "metadata": {},
     "output_type": "display_data"
    },
    {
     "data": {
      "text/html": [
       "<div>\n",
       "<style scoped>\n",
       "    .dataframe tbody tr th:only-of-type {\n",
       "        vertical-align: middle;\n",
       "    }\n",
       "\n",
       "    .dataframe tbody tr th {\n",
       "        vertical-align: top;\n",
       "    }\n",
       "\n",
       "    .dataframe thead th {\n",
       "        text-align: right;\n",
       "    }\n",
       "</style>\n",
       "<table border=\"1\" class=\"dataframe\">\n",
       "  <thead>\n",
       "    <tr style=\"text-align: right;\">\n",
       "      <th></th>\n",
       "      <th>Unnamed: 0</th>\n",
       "      <th>id</th>\n",
       "      <th>mb_used</th>\n",
       "      <th>session_date</th>\n",
       "      <th>user_id</th>\n",
       "    </tr>\n",
       "  </thead>\n",
       "  <tbody>\n",
       "    <tr>\n",
       "      <td>0</td>\n",
       "      <td>0</td>\n",
       "      <td>1000_0</td>\n",
       "      <td>112.95</td>\n",
       "      <td>2018-11-25</td>\n",
       "      <td>1000</td>\n",
       "    </tr>\n",
       "    <tr>\n",
       "      <td>1</td>\n",
       "      <td>1</td>\n",
       "      <td>1000_1</td>\n",
       "      <td>1052.81</td>\n",
       "      <td>2018-09-07</td>\n",
       "      <td>1000</td>\n",
       "    </tr>\n",
       "    <tr>\n",
       "      <td>2</td>\n",
       "      <td>2</td>\n",
       "      <td>1000_2</td>\n",
       "      <td>1197.26</td>\n",
       "      <td>2018-06-25</td>\n",
       "      <td>1000</td>\n",
       "    </tr>\n",
       "    <tr>\n",
       "      <td>3</td>\n",
       "      <td>3</td>\n",
       "      <td>1000_3</td>\n",
       "      <td>550.27</td>\n",
       "      <td>2018-08-22</td>\n",
       "      <td>1000</td>\n",
       "    </tr>\n",
       "    <tr>\n",
       "      <td>4</td>\n",
       "      <td>4</td>\n",
       "      <td>1000_4</td>\n",
       "      <td>302.56</td>\n",
       "      <td>2018-09-24</td>\n",
       "      <td>1000</td>\n",
       "    </tr>\n",
       "    <tr>\n",
       "      <td>5</td>\n",
       "      <td>5</td>\n",
       "      <td>1000_5</td>\n",
       "      <td>399.97</td>\n",
       "      <td>2018-10-02</td>\n",
       "      <td>1000</td>\n",
       "    </tr>\n",
       "    <tr>\n",
       "      <td>6</td>\n",
       "      <td>6</td>\n",
       "      <td>1000_6</td>\n",
       "      <td>540.08</td>\n",
       "      <td>2018-09-07</td>\n",
       "      <td>1000</td>\n",
       "    </tr>\n",
       "    <tr>\n",
       "      <td>7</td>\n",
       "      <td>7</td>\n",
       "      <td>1000_7</td>\n",
       "      <td>415.70</td>\n",
       "      <td>2018-07-11</td>\n",
       "      <td>1000</td>\n",
       "    </tr>\n",
       "    <tr>\n",
       "      <td>8</td>\n",
       "      <td>8</td>\n",
       "      <td>1000_8</td>\n",
       "      <td>505.40</td>\n",
       "      <td>2018-10-08</td>\n",
       "      <td>1000</td>\n",
       "    </tr>\n",
       "    <tr>\n",
       "      <td>9</td>\n",
       "      <td>9</td>\n",
       "      <td>1000_9</td>\n",
       "      <td>345.54</td>\n",
       "      <td>2018-09-03</td>\n",
       "      <td>1000</td>\n",
       "    </tr>\n",
       "  </tbody>\n",
       "</table>\n",
       "</div>"
      ],
      "text/plain": [
       "   Unnamed: 0      id  mb_used session_date  user_id\n",
       "0           0  1000_0   112.95   2018-11-25     1000\n",
       "1           1  1000_1  1052.81   2018-09-07     1000\n",
       "2           2  1000_2  1197.26   2018-06-25     1000\n",
       "3           3  1000_3   550.27   2018-08-22     1000\n",
       "4           4  1000_4   302.56   2018-09-24     1000\n",
       "5           5  1000_5   399.97   2018-10-02     1000\n",
       "6           6  1000_6   540.08   2018-09-07     1000\n",
       "7           7  1000_7   415.70   2018-07-11     1000\n",
       "8           8  1000_8   505.40   2018-10-08     1000\n",
       "9           9  1000_9   345.54   2018-09-03     1000"
      ]
     },
     "metadata": {},
     "output_type": "display_data"
    }
   ],
   "source": [
    "# просмотр общей информации об использовании интернета\n",
    "dataframe_information(data_internet, 10)"
   ]
  },
  {
   "cell_type": "markdown",
   "metadata": {
    "cellId": "16pxqxe3r7d4pafgipv37e"
   },
   "source": [
    "В наборе данных об использовании интернета 149396 записей и 4 столбца: id записи, количество использованных мегабайт, дата расходования трафика, id абонента. Пропущенные данные в столбцах отсутствуют. Данные, содержащие дату расходования трафика, имеют неверный формат. В дальнейшем необходимо будет преобразовать их к типу даты для возможности корректной обработки и анализа.  \n",
    "Кроме этого в наборе данных есть столбец Unnamed: 0, который дублирует столбец с индексом. Данный столбец можно будет удалить при исправлении ошибок в наборах данных."
   ]
  },
  {
   "cell_type": "code",
   "execution_count": 6,
   "metadata": {
    "cellId": "9u1qxo40j5bqf72zw7lnkf"
   },
   "outputs": [
    {
     "name": "stdout",
     "output_type": "stream",
     "text": [
      "<class 'pandas.core.frame.DataFrame'>\n",
      "RangeIndex: 123036 entries, 0 to 123035\n",
      "Data columns (total 3 columns):\n",
      "id              123036 non-null object\n",
      "message_date    123036 non-null object\n",
      "user_id         123036 non-null int64\n",
      "dtypes: int64(1), object(2)\n",
      "memory usage: 2.8+ MB\n"
     ]
    },
    {
     "data": {
      "text/plain": [
       "None"
      ]
     },
     "metadata": {},
     "output_type": "display_data"
    },
    {
     "data": {
      "text/html": [
       "<div>\n",
       "<style scoped>\n",
       "    .dataframe tbody tr th:only-of-type {\n",
       "        vertical-align: middle;\n",
       "    }\n",
       "\n",
       "    .dataframe tbody tr th {\n",
       "        vertical-align: top;\n",
       "    }\n",
       "\n",
       "    .dataframe thead th {\n",
       "        text-align: right;\n",
       "    }\n",
       "</style>\n",
       "<table border=\"1\" class=\"dataframe\">\n",
       "  <thead>\n",
       "    <tr style=\"text-align: right;\">\n",
       "      <th></th>\n",
       "      <th>id</th>\n",
       "      <th>message_date</th>\n",
       "      <th>user_id</th>\n",
       "    </tr>\n",
       "  </thead>\n",
       "  <tbody>\n",
       "    <tr>\n",
       "      <td>0</td>\n",
       "      <td>1000_0</td>\n",
       "      <td>2018-06-27</td>\n",
       "      <td>1000</td>\n",
       "    </tr>\n",
       "    <tr>\n",
       "      <td>1</td>\n",
       "      <td>1000_1</td>\n",
       "      <td>2018-10-08</td>\n",
       "      <td>1000</td>\n",
       "    </tr>\n",
       "    <tr>\n",
       "      <td>2</td>\n",
       "      <td>1000_2</td>\n",
       "      <td>2018-08-04</td>\n",
       "      <td>1000</td>\n",
       "    </tr>\n",
       "    <tr>\n",
       "      <td>3</td>\n",
       "      <td>1000_3</td>\n",
       "      <td>2018-06-16</td>\n",
       "      <td>1000</td>\n",
       "    </tr>\n",
       "    <tr>\n",
       "      <td>4</td>\n",
       "      <td>1000_4</td>\n",
       "      <td>2018-12-05</td>\n",
       "      <td>1000</td>\n",
       "    </tr>\n",
       "    <tr>\n",
       "      <td>5</td>\n",
       "      <td>1000_5</td>\n",
       "      <td>2018-06-20</td>\n",
       "      <td>1000</td>\n",
       "    </tr>\n",
       "    <tr>\n",
       "      <td>6</td>\n",
       "      <td>1000_6</td>\n",
       "      <td>2018-11-19</td>\n",
       "      <td>1000</td>\n",
       "    </tr>\n",
       "    <tr>\n",
       "      <td>7</td>\n",
       "      <td>1000_7</td>\n",
       "      <td>2018-10-29</td>\n",
       "      <td>1000</td>\n",
       "    </tr>\n",
       "    <tr>\n",
       "      <td>8</td>\n",
       "      <td>1000_8</td>\n",
       "      <td>2018-06-25</td>\n",
       "      <td>1000</td>\n",
       "    </tr>\n",
       "    <tr>\n",
       "      <td>9</td>\n",
       "      <td>1000_9</td>\n",
       "      <td>2018-12-18</td>\n",
       "      <td>1000</td>\n",
       "    </tr>\n",
       "  </tbody>\n",
       "</table>\n",
       "</div>"
      ],
      "text/plain": [
       "       id message_date  user_id\n",
       "0  1000_0   2018-06-27     1000\n",
       "1  1000_1   2018-10-08     1000\n",
       "2  1000_2   2018-08-04     1000\n",
       "3  1000_3   2018-06-16     1000\n",
       "4  1000_4   2018-12-05     1000\n",
       "5  1000_5   2018-06-20     1000\n",
       "6  1000_6   2018-11-19     1000\n",
       "7  1000_7   2018-10-29     1000\n",
       "8  1000_8   2018-06-25     1000\n",
       "9  1000_9   2018-12-18     1000"
      ]
     },
     "metadata": {},
     "output_type": "display_data"
    }
   ],
   "source": [
    "# просмотр общей информации об отправленных сообщениях\n",
    "dataframe_information(data_messages, 10)"
   ]
  },
  {
   "cell_type": "markdown",
   "metadata": {
    "cellId": "pqnq6f28sxrzkan9h528o"
   },
   "source": [
    "В наборе данных об отправленных сообщениях 123036 записей и 3 столбца: id записи, дата отправки сообщения, id абонента. Пропущенные данные в столбцах отсутствуют. Данные, содержащие дату отправки сообщения, имеют неверный формат. В дальнейшем необходимо будет преобразовать их к типу даты для возможности корректной обработки и анализа"
   ]
  },
  {
   "cell_type": "code",
   "execution_count": 7,
   "metadata": {
    "cellId": "4aui4sbp5qnyszmq8yn7l8"
   },
   "outputs": [
    {
     "name": "stdout",
     "output_type": "stream",
     "text": [
      "<class 'pandas.core.frame.DataFrame'>\n",
      "RangeIndex: 2 entries, 0 to 1\n",
      "Data columns (total 8 columns):\n",
      "messages_included        2 non-null int64\n",
      "mb_per_month_included    2 non-null int64\n",
      "minutes_included         2 non-null int64\n",
      "rub_monthly_fee          2 non-null int64\n",
      "rub_per_gb               2 non-null int64\n",
      "rub_per_message          2 non-null int64\n",
      "rub_per_minute           2 non-null int64\n",
      "tariff_name              2 non-null object\n",
      "dtypes: int64(7), object(1)\n",
      "memory usage: 256.0+ bytes\n"
     ]
    },
    {
     "data": {
      "text/plain": [
       "None"
      ]
     },
     "metadata": {},
     "output_type": "display_data"
    },
    {
     "data": {
      "text/html": [
       "<div>\n",
       "<style scoped>\n",
       "    .dataframe tbody tr th:only-of-type {\n",
       "        vertical-align: middle;\n",
       "    }\n",
       "\n",
       "    .dataframe tbody tr th {\n",
       "        vertical-align: top;\n",
       "    }\n",
       "\n",
       "    .dataframe thead th {\n",
       "        text-align: right;\n",
       "    }\n",
       "</style>\n",
       "<table border=\"1\" class=\"dataframe\">\n",
       "  <thead>\n",
       "    <tr style=\"text-align: right;\">\n",
       "      <th></th>\n",
       "      <th>messages_included</th>\n",
       "      <th>mb_per_month_included</th>\n",
       "      <th>minutes_included</th>\n",
       "      <th>rub_monthly_fee</th>\n",
       "      <th>rub_per_gb</th>\n",
       "      <th>rub_per_message</th>\n",
       "      <th>rub_per_minute</th>\n",
       "      <th>tariff_name</th>\n",
       "    </tr>\n",
       "  </thead>\n",
       "  <tbody>\n",
       "    <tr>\n",
       "      <td>0</td>\n",
       "      <td>50</td>\n",
       "      <td>15360</td>\n",
       "      <td>500</td>\n",
       "      <td>550</td>\n",
       "      <td>200</td>\n",
       "      <td>3</td>\n",
       "      <td>3</td>\n",
       "      <td>smart</td>\n",
       "    </tr>\n",
       "    <tr>\n",
       "      <td>1</td>\n",
       "      <td>1000</td>\n",
       "      <td>30720</td>\n",
       "      <td>3000</td>\n",
       "      <td>1950</td>\n",
       "      <td>150</td>\n",
       "      <td>1</td>\n",
       "      <td>1</td>\n",
       "      <td>ultra</td>\n",
       "    </tr>\n",
       "  </tbody>\n",
       "</table>\n",
       "</div>"
      ],
      "text/plain": [
       "   messages_included  mb_per_month_included  minutes_included  \\\n",
       "0                 50                  15360               500   \n",
       "1               1000                  30720              3000   \n",
       "\n",
       "   rub_monthly_fee  rub_per_gb  rub_per_message  rub_per_minute tariff_name  \n",
       "0              550         200                3               3       smart  \n",
       "1             1950         150                1               1       ultra  "
      ]
     },
     "metadata": {},
     "output_type": "display_data"
    }
   ],
   "source": [
    "# просмотр общей информации о тарифах\n",
    "dataframe_information(data_tariffs, 10)"
   ]
  },
  {
   "cell_type": "markdown",
   "metadata": {
    "cellId": "sxo07nhjfhe1bvqpoevfgc"
   },
   "source": [
    "В наборе данных о тарифах все значения указаны корректно. Количество столбцов соответствует описанным в начале проекта параметрам тарифов."
   ]
  },
  {
   "cell_type": "code",
   "execution_count": 8,
   "metadata": {
    "cellId": "i1eejvubwnooidqy0zwq3n"
   },
   "outputs": [
    {
     "name": "stdout",
     "output_type": "stream",
     "text": [
      "<class 'pandas.core.frame.DataFrame'>\n",
      "RangeIndex: 500 entries, 0 to 499\n",
      "Data columns (total 8 columns):\n",
      "user_id       500 non-null int64\n",
      "age           500 non-null int64\n",
      "churn_date    38 non-null object\n",
      "city          500 non-null object\n",
      "first_name    500 non-null object\n",
      "last_name     500 non-null object\n",
      "reg_date      500 non-null object\n",
      "tariff        500 non-null object\n",
      "dtypes: int64(2), object(6)\n",
      "memory usage: 31.4+ KB\n"
     ]
    },
    {
     "data": {
      "text/plain": [
       "None"
      ]
     },
     "metadata": {},
     "output_type": "display_data"
    },
    {
     "data": {
      "text/html": [
       "<div>\n",
       "<style scoped>\n",
       "    .dataframe tbody tr th:only-of-type {\n",
       "        vertical-align: middle;\n",
       "    }\n",
       "\n",
       "    .dataframe tbody tr th {\n",
       "        vertical-align: top;\n",
       "    }\n",
       "\n",
       "    .dataframe thead th {\n",
       "        text-align: right;\n",
       "    }\n",
       "</style>\n",
       "<table border=\"1\" class=\"dataframe\">\n",
       "  <thead>\n",
       "    <tr style=\"text-align: right;\">\n",
       "      <th></th>\n",
       "      <th>user_id</th>\n",
       "      <th>age</th>\n",
       "      <th>churn_date</th>\n",
       "      <th>city</th>\n",
       "      <th>first_name</th>\n",
       "      <th>last_name</th>\n",
       "      <th>reg_date</th>\n",
       "      <th>tariff</th>\n",
       "    </tr>\n",
       "  </thead>\n",
       "  <tbody>\n",
       "    <tr>\n",
       "      <td>0</td>\n",
       "      <td>1000</td>\n",
       "      <td>52</td>\n",
       "      <td>NaN</td>\n",
       "      <td>Краснодар</td>\n",
       "      <td>Рафаил</td>\n",
       "      <td>Верещагин</td>\n",
       "      <td>2018-05-25</td>\n",
       "      <td>ultra</td>\n",
       "    </tr>\n",
       "    <tr>\n",
       "      <td>1</td>\n",
       "      <td>1001</td>\n",
       "      <td>41</td>\n",
       "      <td>NaN</td>\n",
       "      <td>Москва</td>\n",
       "      <td>Иван</td>\n",
       "      <td>Ежов</td>\n",
       "      <td>2018-11-01</td>\n",
       "      <td>smart</td>\n",
       "    </tr>\n",
       "    <tr>\n",
       "      <td>2</td>\n",
       "      <td>1002</td>\n",
       "      <td>59</td>\n",
       "      <td>NaN</td>\n",
       "      <td>Стерлитамак</td>\n",
       "      <td>Евгений</td>\n",
       "      <td>Абрамович</td>\n",
       "      <td>2018-06-17</td>\n",
       "      <td>smart</td>\n",
       "    </tr>\n",
       "    <tr>\n",
       "      <td>3</td>\n",
       "      <td>1003</td>\n",
       "      <td>23</td>\n",
       "      <td>NaN</td>\n",
       "      <td>Москва</td>\n",
       "      <td>Белла</td>\n",
       "      <td>Белякова</td>\n",
       "      <td>2018-08-17</td>\n",
       "      <td>ultra</td>\n",
       "    </tr>\n",
       "    <tr>\n",
       "      <td>4</td>\n",
       "      <td>1004</td>\n",
       "      <td>68</td>\n",
       "      <td>NaN</td>\n",
       "      <td>Новокузнецк</td>\n",
       "      <td>Татьяна</td>\n",
       "      <td>Авдеенко</td>\n",
       "      <td>2018-05-14</td>\n",
       "      <td>ultra</td>\n",
       "    </tr>\n",
       "    <tr>\n",
       "      <td>5</td>\n",
       "      <td>1005</td>\n",
       "      <td>67</td>\n",
       "      <td>NaN</td>\n",
       "      <td>Набережные Челны</td>\n",
       "      <td>Афанасий</td>\n",
       "      <td>Горлов</td>\n",
       "      <td>2018-01-25</td>\n",
       "      <td>smart</td>\n",
       "    </tr>\n",
       "    <tr>\n",
       "      <td>6</td>\n",
       "      <td>1006</td>\n",
       "      <td>21</td>\n",
       "      <td>NaN</td>\n",
       "      <td>Ульяновск</td>\n",
       "      <td>Леонид</td>\n",
       "      <td>Ермолаев</td>\n",
       "      <td>2018-02-26</td>\n",
       "      <td>smart</td>\n",
       "    </tr>\n",
       "    <tr>\n",
       "      <td>7</td>\n",
       "      <td>1007</td>\n",
       "      <td>65</td>\n",
       "      <td>NaN</td>\n",
       "      <td>Москва</td>\n",
       "      <td>Юна</td>\n",
       "      <td>Березина</td>\n",
       "      <td>2018-04-19</td>\n",
       "      <td>smart</td>\n",
       "    </tr>\n",
       "    <tr>\n",
       "      <td>8</td>\n",
       "      <td>1008</td>\n",
       "      <td>63</td>\n",
       "      <td>NaN</td>\n",
       "      <td>Челябинск</td>\n",
       "      <td>Рустэм</td>\n",
       "      <td>Пономарёв</td>\n",
       "      <td>2018-12-19</td>\n",
       "      <td>smart</td>\n",
       "    </tr>\n",
       "    <tr>\n",
       "      <td>9</td>\n",
       "      <td>1009</td>\n",
       "      <td>24</td>\n",
       "      <td>NaN</td>\n",
       "      <td>Пермь</td>\n",
       "      <td>Василиса</td>\n",
       "      <td>Блинова</td>\n",
       "      <td>2018-03-22</td>\n",
       "      <td>smart</td>\n",
       "    </tr>\n",
       "  </tbody>\n",
       "</table>\n",
       "</div>"
      ],
      "text/plain": [
       "   user_id  age churn_date              city first_name  last_name  \\\n",
       "0     1000   52        NaN         Краснодар     Рафаил  Верещагин   \n",
       "1     1001   41        NaN            Москва       Иван       Ежов   \n",
       "2     1002   59        NaN       Стерлитамак    Евгений  Абрамович   \n",
       "3     1003   23        NaN            Москва      Белла   Белякова   \n",
       "4     1004   68        NaN       Новокузнецк    Татьяна   Авдеенко   \n",
       "5     1005   67        NaN  Набережные Челны   Афанасий     Горлов   \n",
       "6     1006   21        NaN         Ульяновск     Леонид   Ермолаев   \n",
       "7     1007   65        NaN            Москва        Юна   Березина   \n",
       "8     1008   63        NaN         Челябинск     Рустэм  Пономарёв   \n",
       "9     1009   24        NaN             Пермь   Василиса    Блинова   \n",
       "\n",
       "     reg_date tariff  \n",
       "0  2018-05-25  ultra  \n",
       "1  2018-11-01  smart  \n",
       "2  2018-06-17  smart  \n",
       "3  2018-08-17  ultra  \n",
       "4  2018-05-14  ultra  \n",
       "5  2018-01-25  smart  \n",
       "6  2018-02-26  smart  \n",
       "7  2018-04-19  smart  \n",
       "8  2018-12-19  smart  \n",
       "9  2018-03-22  smart  "
      ]
     },
     "metadata": {},
     "output_type": "display_data"
    }
   ],
   "source": [
    "# просмотр общей информации о пользователях\n",
    "dataframe_information(data_users, 10)"
   ]
  },
  {
   "cell_type": "markdown",
   "metadata": {
    "cellId": "tl3wx4o6ho4pb7s77mv3r"
   },
   "source": [
    "В наборе данных с информацие о пользователях 500 записей. По каждому пользователю имеет следующая информация:\n",
    "* id пользователя\n",
    "* возраст\n",
    "* дата прекращения пользования тарифом\n",
    "* город\n",
    "* фамилия и имя\n",
    "* дата подключения тарифа\n",
    "* наименование тарифа  \n",
    "\n",
    "Большая часть пользователей из набора является действующими пользователями тарифов о чем свидетельствует только 38 непустых записей в столбце churn_date - дата прекращения пользования тарифом. Как и для наборов данных о звонках, интернет-трафике и сообщения, в текущем наборе некорректно указан тип для столбца даты начала пользования тарифом. Некорректный формат будет исправлен при подготовке данных к анализу. "
   ]
  },
  {
   "cell_type": "markdown",
   "metadata": {
    "cellId": "rt8a7v97tfqn6ntv137vej"
   },
   "source": [
    "**Вывод**  \n",
    "В первой части проекта была проведена оценка объема и корректности данных. Для анализа предоставлены данные по 500 пользователям, информация осовершенных звонках, использовании интернет-трафика и отправленных сообщениях. В целом данные пригодны для предварительных расчетов и анализа за исключением двух аспектов:  \n",
    "1) некорректный формат столбца с датами в каждом из наборов данных;  \n",
    "2) лишний столбец в наборе данных с интернет трафиком, который дублирует столбец с индексом.\n",
    "\n",
    "На следующем этапе будет проведена подготовка данных к анализу: устранены ошибки в данных и рассчитаны дополнительные показатели для каждого пользователя."
   ]
  },
  {
   "cell_type": "markdown",
   "metadata": {
    "cellId": "76ujmuyoa1df2h8d2oikt"
   },
   "source": [
    "## 2. Подготовка данных к анализу"
   ]
  },
  {
   "cell_type": "markdown",
   "metadata": {
    "cellId": "jx3gpb1hccxuk13i4nfe"
   },
   "source": [
    "### 2.1 Устранение ошибок в данных."
   ]
  },
  {
   "cell_type": "code",
   "execution_count": 9,
   "metadata": {
    "cellId": "4qp80ool8pbciynv9ze3zi"
   },
   "outputs": [
    {
     "name": "stdout",
     "output_type": "stream",
     "text": [
      "<class 'pandas.core.frame.DataFrame'>\n",
      "RangeIndex: 149396 entries, 0 to 149395\n",
      "Data columns (total 4 columns):\n",
      "id              149396 non-null object\n",
      "mb_used         149396 non-null float64\n",
      "session_date    149396 non-null object\n",
      "user_id         149396 non-null int64\n",
      "dtypes: float64(1), int64(1), object(2)\n",
      "memory usage: 4.6+ MB\n"
     ]
    }
   ],
   "source": [
    "# Устраним лишний столбец в наборе данных об интернет трафике\n",
    "data_internet = data_internet.drop(columns='Unnamed: 0')\n",
    "data_internet.info()"
   ]
  },
  {
   "cell_type": "markdown",
   "metadata": {
    "cellId": "dk4c3za4xkd4y6izroxokh"
   },
   "source": [
    "Лишний столбец успешно удален, на следующем шаге исправим формат данных для столбцов с датами. Т.к. исправление формата требуется для всех наборов данных, создадим для этого функцию."
   ]
  },
  {
   "cell_type": "code",
   "execution_count": 10,
   "metadata": {
    "cellId": "zjhlaefixeeug3j870o87"
   },
   "outputs": [],
   "source": [
    "# функция исправления формата данных\n",
    "def change_to_date(dataframe, column_name): # dataframe - массив данных, в котором есть столбцы с некорректным форматом, column_name - имя столбца с некорректным форматом\n",
    "    dataframe[column_name] = pd.to_datetime(dataframe[column_name])"
   ]
  },
  {
   "cell_type": "code",
   "execution_count": 11,
   "metadata": {
    "cellId": "o7nu9pw0oi20sudyyc2al"
   },
   "outputs": [],
   "source": [
    "# поменяем формат в столбцах с датами\n",
    "change_to_date(data_calls, 'call_date')\n",
    "change_to_date(data_internet, 'session_date')\n",
    "change_to_date(data_messages, 'message_date')\n",
    "change_to_date(data_users, 'reg_date')"
   ]
  },
  {
   "cell_type": "markdown",
   "metadata": {
    "cellId": "cp9hejpjfi9ikugobdujxc"
   },
   "source": [
    "Ошибки в данных успешно устранены. Следующим шагом рассчитаем дополнительные показатели по каждому пользователю."
   ]
  },
  {
   "cell_type": "markdown",
   "metadata": {
    "cellId": "8eu635fa61m258avxq2coz"
   },
   "source": [
    "### 2.2 Рассчет дополнительных показателей по каждому пользователю."
   ]
  },
  {
   "cell_type": "markdown",
   "metadata": {
    "cellId": "1xxi6ncwrhw4si0gcq2xcf"
   },
   "source": [
    "Для проведения дальнейшего анализа рассчитаем следующие дополнительные показатели по каждому пользователю:  \n",
    "1) количество сделанных звонков и израсходованных минут разговора по месяцам;  \n",
    "2) количество отправленных сообщений по месяцам;  \n",
    "3) объем израсходованного интернет-трафика по месяцам;  \n",
    "4) помесячную выручку с каждого пользователя.  \n",
    "\n",
    "Для расчета показателей будем использовать сводные таблицы по каждому набору данных с последующим объдинением в единый набор данных. "
   ]
  },
  {
   "cell_type": "code",
   "execution_count": 12,
   "metadata": {
    "cellId": "vf86mbckptoe6molygna"
   },
   "outputs": [],
   "source": [
    "# создадим функцию для получения месяца совершения операции. dataframe - набор данных, в котором сохраняем месяц, column_name - столбец с информацией о датах\n",
    "def get_month(dataframe, column_name):\n",
    "    dataframe['month'] = dataframe[column_name].dt.month"
   ]
  },
  {
   "cell_type": "code",
   "execution_count": 13,
   "metadata": {
    "cellId": "67mk4mjxkfbuptm4y0wm0g"
   },
   "outputs": [],
   "source": [
    "# создаем в каждом наборе данных столбец с месяцем получения услуги\n",
    "get_month(data_calls, 'call_date')\n",
    "get_month(data_internet, 'session_date')\n",
    "get_month(data_messages, 'message_date')"
   ]
  },
  {
   "cell_type": "code",
   "execution_count": 14,
   "metadata": {
    "cellId": "vmjghkcyhh1iqk8lnz3uh"
   },
   "outputs": [],
   "source": [
    "# пересчитываем объем использованных минут с учетом округлений компанией\n",
    "data_calls['duration_calls'] = np.ceil(data_calls['duration'])"
   ]
  },
  {
   "cell_type": "code",
   "execution_count": 15,
   "metadata": {
    "cellId": "sovanf9pmwchm8kef29ws"
   },
   "outputs": [],
   "source": [
    "# пересчитываем объем использованного интернет-трафика с учетом округлений компанией\n",
    "data_internet['duration_internet'] = (data_internet['mb_used'] / 1024).apply(np.ceil)"
   ]
  },
  {
   "cell_type": "code",
   "execution_count": 16,
   "metadata": {
    "cellId": "rp6aqhmvbks417h5moyfe3"
   },
   "outputs": [],
   "source": [
    "# сгруппируем данные в таблицах по пользователю и месяцу\n",
    "calls = data_calls.groupby(['user_id', 'month']).agg({'duration_calls': 'sum'}).reset_index()\n",
    "internet = data_internet.groupby(['user_id', 'month']).agg({'duration_internet': 'sum'}).reset_index()\n",
    "messages = data_messages.groupby(['user_id', 'month']).agg({'id': 'count'}).rename(columns={'id':'messages'}).reset_index()"
   ]
  },
  {
   "cell_type": "code",
   "execution_count": 17,
   "metadata": {
    "cellId": "zfeeihtnwik6qdw176d7h"
   },
   "outputs": [],
   "source": [
    "# объединяем данные в одну таблицу\n",
    "data_calls_internet = calls.merge(internet, on=['user_id', 'month'], how='outer')\n",
    "data_all = data_calls_internet.merge(messages, on=['user_id', 'month'], how='outer')\n",
    "data_all_users = data_all.merge(data_users, on=['user_id'], how='outer')\n",
    "data_tariffs = data_tariffs.rename(columns={'tariff_name':'tariff'})\n",
    "data_final = data_all_users.merge(data_tariffs, on=['tariff'], how='outer')"
   ]
  },
  {
   "cell_type": "code",
   "execution_count": 18,
   "metadata": {
    "cellId": "kqttsj566w90bsrqs23td"
   },
   "outputs": [
    {
     "name": "stdout",
     "output_type": "stream",
     "text": [
      "<class 'pandas.core.frame.DataFrame'>\n",
      "Int64Index: 3216 entries, 0 to 3215\n",
      "Data columns (total 19 columns):\n",
      "user_id                  3216 non-null int64\n",
      "month                    3214 non-null float64\n",
      "duration_calls           3174 non-null float64\n",
      "duration_internet        3203 non-null float64\n",
      "messages                 2717 non-null float64\n",
      "age                      3216 non-null int64\n",
      "churn_date               189 non-null object\n",
      "city                     3216 non-null object\n",
      "first_name               3216 non-null object\n",
      "last_name                3216 non-null object\n",
      "reg_date                 3216 non-null datetime64[ns]\n",
      "tariff                   3216 non-null object\n",
      "messages_included        3216 non-null int64\n",
      "mb_per_month_included    3216 non-null int64\n",
      "minutes_included         3216 non-null int64\n",
      "rub_monthly_fee          3216 non-null int64\n",
      "rub_per_gb               3216 non-null int64\n",
      "rub_per_message          3216 non-null int64\n",
      "rub_per_minute           3216 non-null int64\n",
      "dtypes: datetime64[ns](1), float64(4), int64(9), object(5)\n",
      "memory usage: 502.5+ KB\n"
     ]
    },
    {
     "data": {
      "text/html": [
       "<div>\n",
       "<style scoped>\n",
       "    .dataframe tbody tr th:only-of-type {\n",
       "        vertical-align: middle;\n",
       "    }\n",
       "\n",
       "    .dataframe tbody tr th {\n",
       "        vertical-align: top;\n",
       "    }\n",
       "\n",
       "    .dataframe thead th {\n",
       "        text-align: right;\n",
       "    }\n",
       "</style>\n",
       "<table border=\"1\" class=\"dataframe\">\n",
       "  <thead>\n",
       "    <tr style=\"text-align: right;\">\n",
       "      <th></th>\n",
       "      <th>user_id</th>\n",
       "      <th>month</th>\n",
       "      <th>duration_calls</th>\n",
       "      <th>duration_internet</th>\n",
       "      <th>messages</th>\n",
       "      <th>age</th>\n",
       "      <th>churn_date</th>\n",
       "      <th>city</th>\n",
       "      <th>first_name</th>\n",
       "      <th>last_name</th>\n",
       "      <th>reg_date</th>\n",
       "      <th>tariff</th>\n",
       "      <th>messages_included</th>\n",
       "      <th>mb_per_month_included</th>\n",
       "      <th>minutes_included</th>\n",
       "      <th>rub_monthly_fee</th>\n",
       "      <th>rub_per_gb</th>\n",
       "      <th>rub_per_message</th>\n",
       "      <th>rub_per_minute</th>\n",
       "    </tr>\n",
       "  </thead>\n",
       "  <tbody>\n",
       "    <tr>\n",
       "      <td>0</td>\n",
       "      <td>1000</td>\n",
       "      <td>5.0</td>\n",
       "      <td>159.0</td>\n",
       "      <td>4.0</td>\n",
       "      <td>22.0</td>\n",
       "      <td>52</td>\n",
       "      <td>NaN</td>\n",
       "      <td>Краснодар</td>\n",
       "      <td>Рафаил</td>\n",
       "      <td>Верещагин</td>\n",
       "      <td>2018-05-25</td>\n",
       "      <td>ultra</td>\n",
       "      <td>1000</td>\n",
       "      <td>30720</td>\n",
       "      <td>3000</td>\n",
       "      <td>1950</td>\n",
       "      <td>150</td>\n",
       "      <td>1</td>\n",
       "      <td>1</td>\n",
       "    </tr>\n",
       "    <tr>\n",
       "      <td>1</td>\n",
       "      <td>1000</td>\n",
       "      <td>6.0</td>\n",
       "      <td>172.0</td>\n",
       "      <td>49.0</td>\n",
       "      <td>60.0</td>\n",
       "      <td>52</td>\n",
       "      <td>NaN</td>\n",
       "      <td>Краснодар</td>\n",
       "      <td>Рафаил</td>\n",
       "      <td>Верещагин</td>\n",
       "      <td>2018-05-25</td>\n",
       "      <td>ultra</td>\n",
       "      <td>1000</td>\n",
       "      <td>30720</td>\n",
       "      <td>3000</td>\n",
       "      <td>1950</td>\n",
       "      <td>150</td>\n",
       "      <td>1</td>\n",
       "      <td>1</td>\n",
       "    </tr>\n",
       "    <tr>\n",
       "      <td>2</td>\n",
       "      <td>1000</td>\n",
       "      <td>7.0</td>\n",
       "      <td>340.0</td>\n",
       "      <td>28.0</td>\n",
       "      <td>75.0</td>\n",
       "      <td>52</td>\n",
       "      <td>NaN</td>\n",
       "      <td>Краснодар</td>\n",
       "      <td>Рафаил</td>\n",
       "      <td>Верещагин</td>\n",
       "      <td>2018-05-25</td>\n",
       "      <td>ultra</td>\n",
       "      <td>1000</td>\n",
       "      <td>30720</td>\n",
       "      <td>3000</td>\n",
       "      <td>1950</td>\n",
       "      <td>150</td>\n",
       "      <td>1</td>\n",
       "      <td>1</td>\n",
       "    </tr>\n",
       "    <tr>\n",
       "      <td>3</td>\n",
       "      <td>1000</td>\n",
       "      <td>8.0</td>\n",
       "      <td>408.0</td>\n",
       "      <td>27.0</td>\n",
       "      <td>81.0</td>\n",
       "      <td>52</td>\n",
       "      <td>NaN</td>\n",
       "      <td>Краснодар</td>\n",
       "      <td>Рафаил</td>\n",
       "      <td>Верещагин</td>\n",
       "      <td>2018-05-25</td>\n",
       "      <td>ultra</td>\n",
       "      <td>1000</td>\n",
       "      <td>30720</td>\n",
       "      <td>3000</td>\n",
       "      <td>1950</td>\n",
       "      <td>150</td>\n",
       "      <td>1</td>\n",
       "      <td>1</td>\n",
       "    </tr>\n",
       "    <tr>\n",
       "      <td>4</td>\n",
       "      <td>1000</td>\n",
       "      <td>9.0</td>\n",
       "      <td>466.0</td>\n",
       "      <td>26.0</td>\n",
       "      <td>57.0</td>\n",
       "      <td>52</td>\n",
       "      <td>NaN</td>\n",
       "      <td>Краснодар</td>\n",
       "      <td>Рафаил</td>\n",
       "      <td>Верещагин</td>\n",
       "      <td>2018-05-25</td>\n",
       "      <td>ultra</td>\n",
       "      <td>1000</td>\n",
       "      <td>30720</td>\n",
       "      <td>3000</td>\n",
       "      <td>1950</td>\n",
       "      <td>150</td>\n",
       "      <td>1</td>\n",
       "      <td>1</td>\n",
       "    </tr>\n",
       "    <tr>\n",
       "      <td>5</td>\n",
       "      <td>1000</td>\n",
       "      <td>10.0</td>\n",
       "      <td>350.0</td>\n",
       "      <td>28.0</td>\n",
       "      <td>73.0</td>\n",
       "      <td>52</td>\n",
       "      <td>NaN</td>\n",
       "      <td>Краснодар</td>\n",
       "      <td>Рафаил</td>\n",
       "      <td>Верещагин</td>\n",
       "      <td>2018-05-25</td>\n",
       "      <td>ultra</td>\n",
       "      <td>1000</td>\n",
       "      <td>30720</td>\n",
       "      <td>3000</td>\n",
       "      <td>1950</td>\n",
       "      <td>150</td>\n",
       "      <td>1</td>\n",
       "      <td>1</td>\n",
       "    </tr>\n",
       "    <tr>\n",
       "      <td>6</td>\n",
       "      <td>1000</td>\n",
       "      <td>11.0</td>\n",
       "      <td>338.0</td>\n",
       "      <td>27.0</td>\n",
       "      <td>58.0</td>\n",
       "      <td>52</td>\n",
       "      <td>NaN</td>\n",
       "      <td>Краснодар</td>\n",
       "      <td>Рафаил</td>\n",
       "      <td>Верещагин</td>\n",
       "      <td>2018-05-25</td>\n",
       "      <td>ultra</td>\n",
       "      <td>1000</td>\n",
       "      <td>30720</td>\n",
       "      <td>3000</td>\n",
       "      <td>1950</td>\n",
       "      <td>150</td>\n",
       "      <td>1</td>\n",
       "      <td>1</td>\n",
       "    </tr>\n",
       "    <tr>\n",
       "      <td>7</td>\n",
       "      <td>1000</td>\n",
       "      <td>12.0</td>\n",
       "      <td>333.0</td>\n",
       "      <td>19.0</td>\n",
       "      <td>70.0</td>\n",
       "      <td>52</td>\n",
       "      <td>NaN</td>\n",
       "      <td>Краснодар</td>\n",
       "      <td>Рафаил</td>\n",
       "      <td>Верещагин</td>\n",
       "      <td>2018-05-25</td>\n",
       "      <td>ultra</td>\n",
       "      <td>1000</td>\n",
       "      <td>30720</td>\n",
       "      <td>3000</td>\n",
       "      <td>1950</td>\n",
       "      <td>150</td>\n",
       "      <td>1</td>\n",
       "      <td>1</td>\n",
       "    </tr>\n",
       "    <tr>\n",
       "      <td>8</td>\n",
       "      <td>1003</td>\n",
       "      <td>8.0</td>\n",
       "      <td>380.0</td>\n",
       "      <td>14.0</td>\n",
       "      <td>37.0</td>\n",
       "      <td>23</td>\n",
       "      <td>NaN</td>\n",
       "      <td>Москва</td>\n",
       "      <td>Белла</td>\n",
       "      <td>Белякова</td>\n",
       "      <td>2018-08-17</td>\n",
       "      <td>ultra</td>\n",
       "      <td>1000</td>\n",
       "      <td>30720</td>\n",
       "      <td>3000</td>\n",
       "      <td>1950</td>\n",
       "      <td>150</td>\n",
       "      <td>1</td>\n",
       "      <td>1</td>\n",
       "    </tr>\n",
       "    <tr>\n",
       "      <td>9</td>\n",
       "      <td>1003</td>\n",
       "      <td>9.0</td>\n",
       "      <td>961.0</td>\n",
       "      <td>23.0</td>\n",
       "      <td>91.0</td>\n",
       "      <td>23</td>\n",
       "      <td>NaN</td>\n",
       "      <td>Москва</td>\n",
       "      <td>Белла</td>\n",
       "      <td>Белякова</td>\n",
       "      <td>2018-08-17</td>\n",
       "      <td>ultra</td>\n",
       "      <td>1000</td>\n",
       "      <td>30720</td>\n",
       "      <td>3000</td>\n",
       "      <td>1950</td>\n",
       "      <td>150</td>\n",
       "      <td>1</td>\n",
       "      <td>1</td>\n",
       "    </tr>\n",
       "  </tbody>\n",
       "</table>\n",
       "</div>"
      ],
      "text/plain": [
       "   user_id  month  duration_calls  duration_internet  messages  age  \\\n",
       "0     1000    5.0           159.0                4.0      22.0   52   \n",
       "1     1000    6.0           172.0               49.0      60.0   52   \n",
       "2     1000    7.0           340.0               28.0      75.0   52   \n",
       "3     1000    8.0           408.0               27.0      81.0   52   \n",
       "4     1000    9.0           466.0               26.0      57.0   52   \n",
       "5     1000   10.0           350.0               28.0      73.0   52   \n",
       "6     1000   11.0           338.0               27.0      58.0   52   \n",
       "7     1000   12.0           333.0               19.0      70.0   52   \n",
       "8     1003    8.0           380.0               14.0      37.0   23   \n",
       "9     1003    9.0           961.0               23.0      91.0   23   \n",
       "\n",
       "  churn_date       city first_name  last_name   reg_date tariff  \\\n",
       "0        NaN  Краснодар     Рафаил  Верещагин 2018-05-25  ultra   \n",
       "1        NaN  Краснодар     Рафаил  Верещагин 2018-05-25  ultra   \n",
       "2        NaN  Краснодар     Рафаил  Верещагин 2018-05-25  ultra   \n",
       "3        NaN  Краснодар     Рафаил  Верещагин 2018-05-25  ultra   \n",
       "4        NaN  Краснодар     Рафаил  Верещагин 2018-05-25  ultra   \n",
       "5        NaN  Краснодар     Рафаил  Верещагин 2018-05-25  ultra   \n",
       "6        NaN  Краснодар     Рафаил  Верещагин 2018-05-25  ultra   \n",
       "7        NaN  Краснодар     Рафаил  Верещагин 2018-05-25  ultra   \n",
       "8        NaN     Москва      Белла   Белякова 2018-08-17  ultra   \n",
       "9        NaN     Москва      Белла   Белякова 2018-08-17  ultra   \n",
       "\n",
       "   messages_included  mb_per_month_included  minutes_included  \\\n",
       "0               1000                  30720              3000   \n",
       "1               1000                  30720              3000   \n",
       "2               1000                  30720              3000   \n",
       "3               1000                  30720              3000   \n",
       "4               1000                  30720              3000   \n",
       "5               1000                  30720              3000   \n",
       "6               1000                  30720              3000   \n",
       "7               1000                  30720              3000   \n",
       "8               1000                  30720              3000   \n",
       "9               1000                  30720              3000   \n",
       "\n",
       "   rub_monthly_fee  rub_per_gb  rub_per_message  rub_per_minute  \n",
       "0             1950         150                1               1  \n",
       "1             1950         150                1               1  \n",
       "2             1950         150                1               1  \n",
       "3             1950         150                1               1  \n",
       "4             1950         150                1               1  \n",
       "5             1950         150                1               1  \n",
       "6             1950         150                1               1  \n",
       "7             1950         150                1               1  \n",
       "8             1950         150                1               1  \n",
       "9             1950         150                1               1  "
      ]
     },
     "execution_count": 18,
     "metadata": {},
     "output_type": "execute_result"
    }
   ],
   "source": [
    "# просмотр итоговой таблицы\n",
    "data_final.info()\n",
    "data_final.head(10)"
   ]
  },
  {
   "cell_type": "code",
   "execution_count": 48,
   "metadata": {},
   "outputs": [
    {
     "data": {
      "text/plain": [
       "498"
      ]
     },
     "execution_count": 48,
     "metadata": {},
     "output_type": "execute_result"
    }
   ],
   "source": [
    "data_final.user_id.nunique()"
   ]
  },
  {
   "cell_type": "code",
   "execution_count": 19,
   "metadata": {
    "cellId": "3cviq7o3nejpquhfxp1fw"
   },
   "outputs": [],
   "source": [
    "# удалим значения с пропусками в столбце month и преобразуем данные в этом столбце к целочисленному типу\n",
    "data_final = data_final[~(data_final['month'].isna())]\n",
    "data_final['month'] = data_final['month'].astype('int')\n",
    "warnings.simplefilter('ignore')"
   ]
  },
  {
   "cell_type": "code",
   "execution_count": 20,
   "metadata": {
    "cellId": "zj3rislbo91tzlr0plcz3"
   },
   "outputs": [],
   "source": [
    "# заполним пустые значения в столбцах duration_calls, duration_internet и messages\n",
    "data_final['duration_calls'] = data_final['duration_calls'].fillna(0)\n",
    "data_final['duration_internet'] = data_final['duration_internet'].fillna(0)\n",
    "data_final['messages'] = data_final['messages'].fillna(0)"
   ]
  },
  {
   "cell_type": "markdown",
   "metadata": {
    "cellId": "quyadim7a7t5jqnsug81g"
   },
   "source": [
    "После проведенных преобразований данные готовы к расчету показателей помесячной выручки. Расчет показателя будет происходить в два этапа. На первом этапе будет рассчитана прибыль от потребления пользователями услуг сверх тарифа. На втором этапе будет подсчитана итоговая выручка, как сумма выручки от тарифного плана и вырчуки от потребления услуг сверх тарифа. "
   ]
  },
  {
   "cell_type": "code",
   "execution_count": 21,
   "metadata": {
    "cellId": "u8n60wid3ko9sn70ux9iq"
   },
   "outputs": [],
   "source": [
    "# расчет оплаты услуг сверх тарифа\n",
    "data_final['additional_payment_calls'] = (data_final['duration_calls'] - data_final['minutes_included']) * data_final['rub_per_minute']\n",
    "data_final['additional_payment_internet'] = (data_final['duration_internet'] - data_final['mb_per_month_included'] / 1024) * data_final['rub_per_gb'] \n",
    "data_final['additional_payment_messages'] = (data_final['messages'] - data_final['messages_included']) * data_final['rub_per_message']"
   ]
  },
  {
   "cell_type": "code",
   "execution_count": 22,
   "metadata": {
    "cellId": "ozxytnm04nholb221at9t"
   },
   "outputs": [
    {
     "data": {
      "text/html": [
       "<div>\n",
       "<style scoped>\n",
       "    .dataframe tbody tr th:only-of-type {\n",
       "        vertical-align: middle;\n",
       "    }\n",
       "\n",
       "    .dataframe tbody tr th {\n",
       "        vertical-align: top;\n",
       "    }\n",
       "\n",
       "    .dataframe thead th {\n",
       "        text-align: right;\n",
       "    }\n",
       "</style>\n",
       "<table border=\"1\" class=\"dataframe\">\n",
       "  <thead>\n",
       "    <tr style=\"text-align: right;\">\n",
       "      <th></th>\n",
       "      <th>user_id</th>\n",
       "      <th>month</th>\n",
       "      <th>duration_calls</th>\n",
       "      <th>duration_internet</th>\n",
       "      <th>messages</th>\n",
       "      <th>age</th>\n",
       "      <th>churn_date</th>\n",
       "      <th>city</th>\n",
       "      <th>first_name</th>\n",
       "      <th>last_name</th>\n",
       "      <th>...</th>\n",
       "      <th>messages_included</th>\n",
       "      <th>mb_per_month_included</th>\n",
       "      <th>minutes_included</th>\n",
       "      <th>rub_monthly_fee</th>\n",
       "      <th>rub_per_gb</th>\n",
       "      <th>rub_per_message</th>\n",
       "      <th>rub_per_minute</th>\n",
       "      <th>additional_payment_calls</th>\n",
       "      <th>additional_payment_internet</th>\n",
       "      <th>additional_payment_messages</th>\n",
       "    </tr>\n",
       "  </thead>\n",
       "  <tbody>\n",
       "    <tr>\n",
       "      <td>0</td>\n",
       "      <td>1000</td>\n",
       "      <td>5</td>\n",
       "      <td>159.0</td>\n",
       "      <td>4.0</td>\n",
       "      <td>22.0</td>\n",
       "      <td>52</td>\n",
       "      <td>NaN</td>\n",
       "      <td>Краснодар</td>\n",
       "      <td>Рафаил</td>\n",
       "      <td>Верещагин</td>\n",
       "      <td>...</td>\n",
       "      <td>1000</td>\n",
       "      <td>30720</td>\n",
       "      <td>3000</td>\n",
       "      <td>1950</td>\n",
       "      <td>150</td>\n",
       "      <td>1</td>\n",
       "      <td>1</td>\n",
       "      <td>-2841.0</td>\n",
       "      <td>-3900.0</td>\n",
       "      <td>-978.0</td>\n",
       "    </tr>\n",
       "    <tr>\n",
       "      <td>1</td>\n",
       "      <td>1000</td>\n",
       "      <td>6</td>\n",
       "      <td>172.0</td>\n",
       "      <td>49.0</td>\n",
       "      <td>60.0</td>\n",
       "      <td>52</td>\n",
       "      <td>NaN</td>\n",
       "      <td>Краснодар</td>\n",
       "      <td>Рафаил</td>\n",
       "      <td>Верещагин</td>\n",
       "      <td>...</td>\n",
       "      <td>1000</td>\n",
       "      <td>30720</td>\n",
       "      <td>3000</td>\n",
       "      <td>1950</td>\n",
       "      <td>150</td>\n",
       "      <td>1</td>\n",
       "      <td>1</td>\n",
       "      <td>-2828.0</td>\n",
       "      <td>2850.0</td>\n",
       "      <td>-940.0</td>\n",
       "    </tr>\n",
       "    <tr>\n",
       "      <td>2</td>\n",
       "      <td>1000</td>\n",
       "      <td>7</td>\n",
       "      <td>340.0</td>\n",
       "      <td>28.0</td>\n",
       "      <td>75.0</td>\n",
       "      <td>52</td>\n",
       "      <td>NaN</td>\n",
       "      <td>Краснодар</td>\n",
       "      <td>Рафаил</td>\n",
       "      <td>Верещагин</td>\n",
       "      <td>...</td>\n",
       "      <td>1000</td>\n",
       "      <td>30720</td>\n",
       "      <td>3000</td>\n",
       "      <td>1950</td>\n",
       "      <td>150</td>\n",
       "      <td>1</td>\n",
       "      <td>1</td>\n",
       "      <td>-2660.0</td>\n",
       "      <td>-300.0</td>\n",
       "      <td>-925.0</td>\n",
       "    </tr>\n",
       "    <tr>\n",
       "      <td>3</td>\n",
       "      <td>1000</td>\n",
       "      <td>8</td>\n",
       "      <td>408.0</td>\n",
       "      <td>27.0</td>\n",
       "      <td>81.0</td>\n",
       "      <td>52</td>\n",
       "      <td>NaN</td>\n",
       "      <td>Краснодар</td>\n",
       "      <td>Рафаил</td>\n",
       "      <td>Верещагин</td>\n",
       "      <td>...</td>\n",
       "      <td>1000</td>\n",
       "      <td>30720</td>\n",
       "      <td>3000</td>\n",
       "      <td>1950</td>\n",
       "      <td>150</td>\n",
       "      <td>1</td>\n",
       "      <td>1</td>\n",
       "      <td>-2592.0</td>\n",
       "      <td>-450.0</td>\n",
       "      <td>-919.0</td>\n",
       "    </tr>\n",
       "    <tr>\n",
       "      <td>4</td>\n",
       "      <td>1000</td>\n",
       "      <td>9</td>\n",
       "      <td>466.0</td>\n",
       "      <td>26.0</td>\n",
       "      <td>57.0</td>\n",
       "      <td>52</td>\n",
       "      <td>NaN</td>\n",
       "      <td>Краснодар</td>\n",
       "      <td>Рафаил</td>\n",
       "      <td>Верещагин</td>\n",
       "      <td>...</td>\n",
       "      <td>1000</td>\n",
       "      <td>30720</td>\n",
       "      <td>3000</td>\n",
       "      <td>1950</td>\n",
       "      <td>150</td>\n",
       "      <td>1</td>\n",
       "      <td>1</td>\n",
       "      <td>-2534.0</td>\n",
       "      <td>-600.0</td>\n",
       "      <td>-943.0</td>\n",
       "    </tr>\n",
       "    <tr>\n",
       "      <td>5</td>\n",
       "      <td>1000</td>\n",
       "      <td>10</td>\n",
       "      <td>350.0</td>\n",
       "      <td>28.0</td>\n",
       "      <td>73.0</td>\n",
       "      <td>52</td>\n",
       "      <td>NaN</td>\n",
       "      <td>Краснодар</td>\n",
       "      <td>Рафаил</td>\n",
       "      <td>Верещагин</td>\n",
       "      <td>...</td>\n",
       "      <td>1000</td>\n",
       "      <td>30720</td>\n",
       "      <td>3000</td>\n",
       "      <td>1950</td>\n",
       "      <td>150</td>\n",
       "      <td>1</td>\n",
       "      <td>1</td>\n",
       "      <td>-2650.0</td>\n",
       "      <td>-300.0</td>\n",
       "      <td>-927.0</td>\n",
       "    </tr>\n",
       "    <tr>\n",
       "      <td>6</td>\n",
       "      <td>1000</td>\n",
       "      <td>11</td>\n",
       "      <td>338.0</td>\n",
       "      <td>27.0</td>\n",
       "      <td>58.0</td>\n",
       "      <td>52</td>\n",
       "      <td>NaN</td>\n",
       "      <td>Краснодар</td>\n",
       "      <td>Рафаил</td>\n",
       "      <td>Верещагин</td>\n",
       "      <td>...</td>\n",
       "      <td>1000</td>\n",
       "      <td>30720</td>\n",
       "      <td>3000</td>\n",
       "      <td>1950</td>\n",
       "      <td>150</td>\n",
       "      <td>1</td>\n",
       "      <td>1</td>\n",
       "      <td>-2662.0</td>\n",
       "      <td>-450.0</td>\n",
       "      <td>-942.0</td>\n",
       "    </tr>\n",
       "    <tr>\n",
       "      <td>7</td>\n",
       "      <td>1000</td>\n",
       "      <td>12</td>\n",
       "      <td>333.0</td>\n",
       "      <td>19.0</td>\n",
       "      <td>70.0</td>\n",
       "      <td>52</td>\n",
       "      <td>NaN</td>\n",
       "      <td>Краснодар</td>\n",
       "      <td>Рафаил</td>\n",
       "      <td>Верещагин</td>\n",
       "      <td>...</td>\n",
       "      <td>1000</td>\n",
       "      <td>30720</td>\n",
       "      <td>3000</td>\n",
       "      <td>1950</td>\n",
       "      <td>150</td>\n",
       "      <td>1</td>\n",
       "      <td>1</td>\n",
       "      <td>-2667.0</td>\n",
       "      <td>-1650.0</td>\n",
       "      <td>-930.0</td>\n",
       "    </tr>\n",
       "    <tr>\n",
       "      <td>8</td>\n",
       "      <td>1003</td>\n",
       "      <td>8</td>\n",
       "      <td>380.0</td>\n",
       "      <td>14.0</td>\n",
       "      <td>37.0</td>\n",
       "      <td>23</td>\n",
       "      <td>NaN</td>\n",
       "      <td>Москва</td>\n",
       "      <td>Белла</td>\n",
       "      <td>Белякова</td>\n",
       "      <td>...</td>\n",
       "      <td>1000</td>\n",
       "      <td>30720</td>\n",
       "      <td>3000</td>\n",
       "      <td>1950</td>\n",
       "      <td>150</td>\n",
       "      <td>1</td>\n",
       "      <td>1</td>\n",
       "      <td>-2620.0</td>\n",
       "      <td>-2400.0</td>\n",
       "      <td>-963.0</td>\n",
       "    </tr>\n",
       "    <tr>\n",
       "      <td>9</td>\n",
       "      <td>1003</td>\n",
       "      <td>9</td>\n",
       "      <td>961.0</td>\n",
       "      <td>23.0</td>\n",
       "      <td>91.0</td>\n",
       "      <td>23</td>\n",
       "      <td>NaN</td>\n",
       "      <td>Москва</td>\n",
       "      <td>Белла</td>\n",
       "      <td>Белякова</td>\n",
       "      <td>...</td>\n",
       "      <td>1000</td>\n",
       "      <td>30720</td>\n",
       "      <td>3000</td>\n",
       "      <td>1950</td>\n",
       "      <td>150</td>\n",
       "      <td>1</td>\n",
       "      <td>1</td>\n",
       "      <td>-2039.0</td>\n",
       "      <td>-1050.0</td>\n",
       "      <td>-909.0</td>\n",
       "    </tr>\n",
       "  </tbody>\n",
       "</table>\n",
       "<p>10 rows × 22 columns</p>\n",
       "</div>"
      ],
      "text/plain": [
       "   user_id  month  duration_calls  duration_internet  messages  age  \\\n",
       "0     1000      5           159.0                4.0      22.0   52   \n",
       "1     1000      6           172.0               49.0      60.0   52   \n",
       "2     1000      7           340.0               28.0      75.0   52   \n",
       "3     1000      8           408.0               27.0      81.0   52   \n",
       "4     1000      9           466.0               26.0      57.0   52   \n",
       "5     1000     10           350.0               28.0      73.0   52   \n",
       "6     1000     11           338.0               27.0      58.0   52   \n",
       "7     1000     12           333.0               19.0      70.0   52   \n",
       "8     1003      8           380.0               14.0      37.0   23   \n",
       "9     1003      9           961.0               23.0      91.0   23   \n",
       "\n",
       "  churn_date       city first_name  last_name  ... messages_included  \\\n",
       "0        NaN  Краснодар     Рафаил  Верещагин  ...              1000   \n",
       "1        NaN  Краснодар     Рафаил  Верещагин  ...              1000   \n",
       "2        NaN  Краснодар     Рафаил  Верещагин  ...              1000   \n",
       "3        NaN  Краснодар     Рафаил  Верещагин  ...              1000   \n",
       "4        NaN  Краснодар     Рафаил  Верещагин  ...              1000   \n",
       "5        NaN  Краснодар     Рафаил  Верещагин  ...              1000   \n",
       "6        NaN  Краснодар     Рафаил  Верещагин  ...              1000   \n",
       "7        NaN  Краснодар     Рафаил  Верещагин  ...              1000   \n",
       "8        NaN     Москва      Белла   Белякова  ...              1000   \n",
       "9        NaN     Москва      Белла   Белякова  ...              1000   \n",
       "\n",
       "  mb_per_month_included  minutes_included  rub_monthly_fee  rub_per_gb  \\\n",
       "0                 30720              3000             1950         150   \n",
       "1                 30720              3000             1950         150   \n",
       "2                 30720              3000             1950         150   \n",
       "3                 30720              3000             1950         150   \n",
       "4                 30720              3000             1950         150   \n",
       "5                 30720              3000             1950         150   \n",
       "6                 30720              3000             1950         150   \n",
       "7                 30720              3000             1950         150   \n",
       "8                 30720              3000             1950         150   \n",
       "9                 30720              3000             1950         150   \n",
       "\n",
       "   rub_per_message  rub_per_minute  additional_payment_calls  \\\n",
       "0                1               1                   -2841.0   \n",
       "1                1               1                   -2828.0   \n",
       "2                1               1                   -2660.0   \n",
       "3                1               1                   -2592.0   \n",
       "4                1               1                   -2534.0   \n",
       "5                1               1                   -2650.0   \n",
       "6                1               1                   -2662.0   \n",
       "7                1               1                   -2667.0   \n",
       "8                1               1                   -2620.0   \n",
       "9                1               1                   -2039.0   \n",
       "\n",
       "   additional_payment_internet  additional_payment_messages  \n",
       "0                      -3900.0                       -978.0  \n",
       "1                       2850.0                       -940.0  \n",
       "2                       -300.0                       -925.0  \n",
       "3                       -450.0                       -919.0  \n",
       "4                       -600.0                       -943.0  \n",
       "5                       -300.0                       -927.0  \n",
       "6                       -450.0                       -942.0  \n",
       "7                      -1650.0                       -930.0  \n",
       "8                      -2400.0                       -963.0  \n",
       "9                      -1050.0                       -909.0  \n",
       "\n",
       "[10 rows x 22 columns]"
      ]
     },
     "execution_count": 22,
     "metadata": {},
     "output_type": "execute_result"
    }
   ],
   "source": [
    "data_final.head(10)"
   ]
  },
  {
   "cell_type": "markdown",
   "metadata": {
    "cellId": "2p5q9o77s76g1mabrgazwh"
   },
   "source": [
    "По результатам рассчета сумм оплаты сверх тарифа видно, что многие значения получились отрицательные, что свидетельствует о том, что по конкретному направлению тариф не был израходован до конца. Отрицательные показатели доплаты заменим на нулевые значения."
   ]
  },
  {
   "cell_type": "code",
   "execution_count": 23,
   "metadata": {
    "cellId": "3harxcu1x687r480gxzohs"
   },
   "outputs": [],
   "source": [
    "# определим функцию для замены отрицательных значений на нулевые.\n",
    "def change_payment_to_zero(column_name):\n",
    "    data_final.loc[(data_final[column_name] < 0), column_name] = 0"
   ]
  },
  {
   "cell_type": "code",
   "execution_count": 24,
   "metadata": {
    "cellId": "sqq1grtiqwh48ddtauza8"
   },
   "outputs": [],
   "source": [
    "# заменим отрицательные значения в столбцах дополнительной оплаты на нулевые\n",
    "change_payment_to_zero('additional_payment_calls')\n",
    "change_payment_to_zero('additional_payment_internet')\n",
    "change_payment_to_zero('additional_payment_messages')"
   ]
  },
  {
   "cell_type": "code",
   "execution_count": 25,
   "metadata": {
    "cellId": "55qcqzp3ecobfm2efty2cw"
   },
   "outputs": [],
   "source": [
    "# рассчитаем полную стоимость оплаты за каждый месяц по каждому клиенту\n",
    "data_final['total_payment'] = data_final['rub_monthly_fee'] + data_final['additional_payment_calls'] + data_final['additional_payment_internet'] + data_final['additional_payment_messages']"
   ]
  },
  {
   "cell_type": "code",
   "execution_count": 49,
   "metadata": {},
   "outputs": [
    {
     "data": {
      "text/plain": [
       "count     3214.000000\n",
       "mean      5510.734599\n",
       "std       2910.482219\n",
       "min        550.000000\n",
       "25%       3000.000000\n",
       "50%       5550.000000\n",
       "75%       7550.000000\n",
       "max      19370.000000\n",
       "Name: total_payment, dtype: float64"
      ]
     },
     "execution_count": 49,
     "metadata": {},
     "output_type": "execute_result"
    }
   ],
   "source": [
    "data_final['total_payment'].describe()"
   ]
  },
  {
   "cell_type": "code",
   "execution_count": 26,
   "metadata": {
    "cellId": "oat5frp76ngpy835wixjh"
   },
   "outputs": [
    {
     "data": {
      "text/html": [
       "<div>\n",
       "<style scoped>\n",
       "    .dataframe tbody tr th:only-of-type {\n",
       "        vertical-align: middle;\n",
       "    }\n",
       "\n",
       "    .dataframe tbody tr th {\n",
       "        vertical-align: top;\n",
       "    }\n",
       "\n",
       "    .dataframe thead th {\n",
       "        text-align: right;\n",
       "    }\n",
       "</style>\n",
       "<table border=\"1\" class=\"dataframe\">\n",
       "  <thead>\n",
       "    <tr style=\"text-align: right;\">\n",
       "      <th></th>\n",
       "      <th>user_id</th>\n",
       "      <th>month</th>\n",
       "      <th>duration_calls</th>\n",
       "      <th>duration_internet</th>\n",
       "      <th>messages</th>\n",
       "      <th>age</th>\n",
       "      <th>churn_date</th>\n",
       "      <th>city</th>\n",
       "      <th>first_name</th>\n",
       "      <th>last_name</th>\n",
       "      <th>...</th>\n",
       "      <th>mb_per_month_included</th>\n",
       "      <th>minutes_included</th>\n",
       "      <th>rub_monthly_fee</th>\n",
       "      <th>rub_per_gb</th>\n",
       "      <th>rub_per_message</th>\n",
       "      <th>rub_per_minute</th>\n",
       "      <th>additional_payment_calls</th>\n",
       "      <th>additional_payment_internet</th>\n",
       "      <th>additional_payment_messages</th>\n",
       "      <th>total_payment</th>\n",
       "    </tr>\n",
       "  </thead>\n",
       "  <tbody>\n",
       "    <tr>\n",
       "      <td>0</td>\n",
       "      <td>1000</td>\n",
       "      <td>5</td>\n",
       "      <td>159.0</td>\n",
       "      <td>4.0</td>\n",
       "      <td>22.0</td>\n",
       "      <td>52</td>\n",
       "      <td>NaN</td>\n",
       "      <td>Краснодар</td>\n",
       "      <td>Рафаил</td>\n",
       "      <td>Верещагин</td>\n",
       "      <td>...</td>\n",
       "      <td>30720</td>\n",
       "      <td>3000</td>\n",
       "      <td>1950</td>\n",
       "      <td>150</td>\n",
       "      <td>1</td>\n",
       "      <td>1</td>\n",
       "      <td>0.0</td>\n",
       "      <td>0.0</td>\n",
       "      <td>0.0</td>\n",
       "      <td>1950.0</td>\n",
       "    </tr>\n",
       "    <tr>\n",
       "      <td>1</td>\n",
       "      <td>1000</td>\n",
       "      <td>6</td>\n",
       "      <td>172.0</td>\n",
       "      <td>49.0</td>\n",
       "      <td>60.0</td>\n",
       "      <td>52</td>\n",
       "      <td>NaN</td>\n",
       "      <td>Краснодар</td>\n",
       "      <td>Рафаил</td>\n",
       "      <td>Верещагин</td>\n",
       "      <td>...</td>\n",
       "      <td>30720</td>\n",
       "      <td>3000</td>\n",
       "      <td>1950</td>\n",
       "      <td>150</td>\n",
       "      <td>1</td>\n",
       "      <td>1</td>\n",
       "      <td>0.0</td>\n",
       "      <td>2850.0</td>\n",
       "      <td>0.0</td>\n",
       "      <td>4800.0</td>\n",
       "    </tr>\n",
       "    <tr>\n",
       "      <td>2</td>\n",
       "      <td>1000</td>\n",
       "      <td>7</td>\n",
       "      <td>340.0</td>\n",
       "      <td>28.0</td>\n",
       "      <td>75.0</td>\n",
       "      <td>52</td>\n",
       "      <td>NaN</td>\n",
       "      <td>Краснодар</td>\n",
       "      <td>Рафаил</td>\n",
       "      <td>Верещагин</td>\n",
       "      <td>...</td>\n",
       "      <td>30720</td>\n",
       "      <td>3000</td>\n",
       "      <td>1950</td>\n",
       "      <td>150</td>\n",
       "      <td>1</td>\n",
       "      <td>1</td>\n",
       "      <td>0.0</td>\n",
       "      <td>0.0</td>\n",
       "      <td>0.0</td>\n",
       "      <td>1950.0</td>\n",
       "    </tr>\n",
       "    <tr>\n",
       "      <td>3</td>\n",
       "      <td>1000</td>\n",
       "      <td>8</td>\n",
       "      <td>408.0</td>\n",
       "      <td>27.0</td>\n",
       "      <td>81.0</td>\n",
       "      <td>52</td>\n",
       "      <td>NaN</td>\n",
       "      <td>Краснодар</td>\n",
       "      <td>Рафаил</td>\n",
       "      <td>Верещагин</td>\n",
       "      <td>...</td>\n",
       "      <td>30720</td>\n",
       "      <td>3000</td>\n",
       "      <td>1950</td>\n",
       "      <td>150</td>\n",
       "      <td>1</td>\n",
       "      <td>1</td>\n",
       "      <td>0.0</td>\n",
       "      <td>0.0</td>\n",
       "      <td>0.0</td>\n",
       "      <td>1950.0</td>\n",
       "    </tr>\n",
       "    <tr>\n",
       "      <td>4</td>\n",
       "      <td>1000</td>\n",
       "      <td>9</td>\n",
       "      <td>466.0</td>\n",
       "      <td>26.0</td>\n",
       "      <td>57.0</td>\n",
       "      <td>52</td>\n",
       "      <td>NaN</td>\n",
       "      <td>Краснодар</td>\n",
       "      <td>Рафаил</td>\n",
       "      <td>Верещагин</td>\n",
       "      <td>...</td>\n",
       "      <td>30720</td>\n",
       "      <td>3000</td>\n",
       "      <td>1950</td>\n",
       "      <td>150</td>\n",
       "      <td>1</td>\n",
       "      <td>1</td>\n",
       "      <td>0.0</td>\n",
       "      <td>0.0</td>\n",
       "      <td>0.0</td>\n",
       "      <td>1950.0</td>\n",
       "    </tr>\n",
       "    <tr>\n",
       "      <td>5</td>\n",
       "      <td>1000</td>\n",
       "      <td>10</td>\n",
       "      <td>350.0</td>\n",
       "      <td>28.0</td>\n",
       "      <td>73.0</td>\n",
       "      <td>52</td>\n",
       "      <td>NaN</td>\n",
       "      <td>Краснодар</td>\n",
       "      <td>Рафаил</td>\n",
       "      <td>Верещагин</td>\n",
       "      <td>...</td>\n",
       "      <td>30720</td>\n",
       "      <td>3000</td>\n",
       "      <td>1950</td>\n",
       "      <td>150</td>\n",
       "      <td>1</td>\n",
       "      <td>1</td>\n",
       "      <td>0.0</td>\n",
       "      <td>0.0</td>\n",
       "      <td>0.0</td>\n",
       "      <td>1950.0</td>\n",
       "    </tr>\n",
       "    <tr>\n",
       "      <td>6</td>\n",
       "      <td>1000</td>\n",
       "      <td>11</td>\n",
       "      <td>338.0</td>\n",
       "      <td>27.0</td>\n",
       "      <td>58.0</td>\n",
       "      <td>52</td>\n",
       "      <td>NaN</td>\n",
       "      <td>Краснодар</td>\n",
       "      <td>Рафаил</td>\n",
       "      <td>Верещагин</td>\n",
       "      <td>...</td>\n",
       "      <td>30720</td>\n",
       "      <td>3000</td>\n",
       "      <td>1950</td>\n",
       "      <td>150</td>\n",
       "      <td>1</td>\n",
       "      <td>1</td>\n",
       "      <td>0.0</td>\n",
       "      <td>0.0</td>\n",
       "      <td>0.0</td>\n",
       "      <td>1950.0</td>\n",
       "    </tr>\n",
       "    <tr>\n",
       "      <td>7</td>\n",
       "      <td>1000</td>\n",
       "      <td>12</td>\n",
       "      <td>333.0</td>\n",
       "      <td>19.0</td>\n",
       "      <td>70.0</td>\n",
       "      <td>52</td>\n",
       "      <td>NaN</td>\n",
       "      <td>Краснодар</td>\n",
       "      <td>Рафаил</td>\n",
       "      <td>Верещагин</td>\n",
       "      <td>...</td>\n",
       "      <td>30720</td>\n",
       "      <td>3000</td>\n",
       "      <td>1950</td>\n",
       "      <td>150</td>\n",
       "      <td>1</td>\n",
       "      <td>1</td>\n",
       "      <td>0.0</td>\n",
       "      <td>0.0</td>\n",
       "      <td>0.0</td>\n",
       "      <td>1950.0</td>\n",
       "    </tr>\n",
       "    <tr>\n",
       "      <td>8</td>\n",
       "      <td>1003</td>\n",
       "      <td>8</td>\n",
       "      <td>380.0</td>\n",
       "      <td>14.0</td>\n",
       "      <td>37.0</td>\n",
       "      <td>23</td>\n",
       "      <td>NaN</td>\n",
       "      <td>Москва</td>\n",
       "      <td>Белла</td>\n",
       "      <td>Белякова</td>\n",
       "      <td>...</td>\n",
       "      <td>30720</td>\n",
       "      <td>3000</td>\n",
       "      <td>1950</td>\n",
       "      <td>150</td>\n",
       "      <td>1</td>\n",
       "      <td>1</td>\n",
       "      <td>0.0</td>\n",
       "      <td>0.0</td>\n",
       "      <td>0.0</td>\n",
       "      <td>1950.0</td>\n",
       "    </tr>\n",
       "    <tr>\n",
       "      <td>9</td>\n",
       "      <td>1003</td>\n",
       "      <td>9</td>\n",
       "      <td>961.0</td>\n",
       "      <td>23.0</td>\n",
       "      <td>91.0</td>\n",
       "      <td>23</td>\n",
       "      <td>NaN</td>\n",
       "      <td>Москва</td>\n",
       "      <td>Белла</td>\n",
       "      <td>Белякова</td>\n",
       "      <td>...</td>\n",
       "      <td>30720</td>\n",
       "      <td>3000</td>\n",
       "      <td>1950</td>\n",
       "      <td>150</td>\n",
       "      <td>1</td>\n",
       "      <td>1</td>\n",
       "      <td>0.0</td>\n",
       "      <td>0.0</td>\n",
       "      <td>0.0</td>\n",
       "      <td>1950.0</td>\n",
       "    </tr>\n",
       "  </tbody>\n",
       "</table>\n",
       "<p>10 rows × 23 columns</p>\n",
       "</div>"
      ],
      "text/plain": [
       "   user_id  month  duration_calls  duration_internet  messages  age  \\\n",
       "0     1000      5           159.0                4.0      22.0   52   \n",
       "1     1000      6           172.0               49.0      60.0   52   \n",
       "2     1000      7           340.0               28.0      75.0   52   \n",
       "3     1000      8           408.0               27.0      81.0   52   \n",
       "4     1000      9           466.0               26.0      57.0   52   \n",
       "5     1000     10           350.0               28.0      73.0   52   \n",
       "6     1000     11           338.0               27.0      58.0   52   \n",
       "7     1000     12           333.0               19.0      70.0   52   \n",
       "8     1003      8           380.0               14.0      37.0   23   \n",
       "9     1003      9           961.0               23.0      91.0   23   \n",
       "\n",
       "  churn_date       city first_name  last_name  ... mb_per_month_included  \\\n",
       "0        NaN  Краснодар     Рафаил  Верещагин  ...                 30720   \n",
       "1        NaN  Краснодар     Рафаил  Верещагин  ...                 30720   \n",
       "2        NaN  Краснодар     Рафаил  Верещагин  ...                 30720   \n",
       "3        NaN  Краснодар     Рафаил  Верещагин  ...                 30720   \n",
       "4        NaN  Краснодар     Рафаил  Верещагин  ...                 30720   \n",
       "5        NaN  Краснодар     Рафаил  Верещагин  ...                 30720   \n",
       "6        NaN  Краснодар     Рафаил  Верещагин  ...                 30720   \n",
       "7        NaN  Краснодар     Рафаил  Верещагин  ...                 30720   \n",
       "8        NaN     Москва      Белла   Белякова  ...                 30720   \n",
       "9        NaN     Москва      Белла   Белякова  ...                 30720   \n",
       "\n",
       "  minutes_included  rub_monthly_fee  rub_per_gb  rub_per_message  \\\n",
       "0             3000             1950         150                1   \n",
       "1             3000             1950         150                1   \n",
       "2             3000             1950         150                1   \n",
       "3             3000             1950         150                1   \n",
       "4             3000             1950         150                1   \n",
       "5             3000             1950         150                1   \n",
       "6             3000             1950         150                1   \n",
       "7             3000             1950         150                1   \n",
       "8             3000             1950         150                1   \n",
       "9             3000             1950         150                1   \n",
       "\n",
       "   rub_per_minute  additional_payment_calls  additional_payment_internet  \\\n",
       "0               1                       0.0                          0.0   \n",
       "1               1                       0.0                       2850.0   \n",
       "2               1                       0.0                          0.0   \n",
       "3               1                       0.0                          0.0   \n",
       "4               1                       0.0                          0.0   \n",
       "5               1                       0.0                          0.0   \n",
       "6               1                       0.0                          0.0   \n",
       "7               1                       0.0                          0.0   \n",
       "8               1                       0.0                          0.0   \n",
       "9               1                       0.0                          0.0   \n",
       "\n",
       "   additional_payment_messages  total_payment  \n",
       "0                          0.0         1950.0  \n",
       "1                          0.0         4800.0  \n",
       "2                          0.0         1950.0  \n",
       "3                          0.0         1950.0  \n",
       "4                          0.0         1950.0  \n",
       "5                          0.0         1950.0  \n",
       "6                          0.0         1950.0  \n",
       "7                          0.0         1950.0  \n",
       "8                          0.0         1950.0  \n",
       "9                          0.0         1950.0  \n",
       "\n",
       "[10 rows x 23 columns]"
      ]
     },
     "execution_count": 26,
     "metadata": {},
     "output_type": "execute_result"
    }
   ],
   "source": [
    "data_final.head(10)"
   ]
  },
  {
   "cell_type": "markdown",
   "metadata": {
    "cellId": "8qth3lc9ryyju991uiews"
   },
   "source": [
    "**Вывод**  \n",
    "В изначальных данных были устранены выявленные ошибки: удален лишний столбец в наборе данных об использовании интернета, исправлен формат для даты использования услуг.  \n",
    "Была сформирована таблица с информацией об использовании каждой услуги пользователями в разрезе по месяцам, а так же расчитан показатель выручки компании по каждому пользователю за каждый месяц.  \n",
    "В следующем пункте будет проанализировано поведение клиентов: сколько минут разговора, сколько сообщений и какой объём интернет-трафика требуется пользователям каждого тарифа в месяц. На основе этой информации будет проведен статистический анализ данных."
   ]
  },
  {
   "cell_type": "markdown",
   "metadata": {
    "cellId": "tbt8vwlu2ulcmf1l28fyo"
   },
   "source": [
    "## 3. Статистический анализ данных"
   ]
  },
  {
   "cell_type": "markdown",
   "metadata": {
    "cellId": "ip7ogzhu13o2v9olkgjqv9"
   },
   "source": [
    "В данном разделе будет проведен статистический анализ данных, в рамках которого проанализируем сколько минут разговора, сколько сообщений и какой объём интернет-трафика требуется пользователям каждого тарифа в месяц. Для каждого типа услуги рассчитаем среднее значение, дисперсию, стандартное отклонение, а так же посмотрим на распределение данных по каждой услуге."
   ]
  },
  {
   "cell_type": "code",
   "execution_count": 27,
   "metadata": {
    "cellId": "0i3fti582wfrxzr6xb8usp"
   },
   "outputs": [
    {
     "data": {
      "text/plain": [
       "smart    351\n",
       "ultra    149\n",
       "Name: tariff, dtype: int64"
      ]
     },
     "execution_count": 27,
     "metadata": {},
     "output_type": "execute_result"
    }
   ],
   "source": [
    "# рассчитаем количество пользователей на каждом тарифе\n",
    "data_users['tariff'].value_counts()"
   ]
  },
  {
   "cell_type": "markdown",
   "metadata": {
    "cellId": "oj5dg15s2hgqr6mm8c4fne"
   },
   "source": [
    "Более чем 2/3 пользователей предпочитают тариф с меньшей оплатой и меньшим объемом услуг. На основании этого можно предположить, что среднее количество потребляемых услуг на тарифе \"Смарт\" будет ниже. Так же можно предполагать более низкую дисперсию и стандартное отклонение на тарифе \"Смарт\" поскольку стоимость дополнительного использования услуг выше, чем на тарифе \"Ультра\".  \n",
    "Проверим данные предположения."
   ]
  },
  {
   "cell_type": "code",
   "execution_count": 28,
   "metadata": {
    "cellId": "tsdfz21pjwaww3tw5i07dj"
   },
   "outputs": [],
   "source": [
    "# создадим функцию для вывода статистических параметров и построения гистограммы\n",
    "def tariff_stat(tariff, column_name):\n",
    "    print('Дисперсия:', np.var(data_final.loc[data_final['tariff']==tariff, column_name], ddof=1))\n",
    "    print()\n",
    "    display(data_final.loc[data_final['tariff']==tariff, column_name].describe())\n",
    "    data_final.loc[data_final['tariff']==tariff, column_name].plot(kind='hist', title = 'Гистограмма распределения ' + column_name)"
   ]
  },
  {
   "cell_type": "code",
   "execution_count": 29,
   "metadata": {
    "cellId": "0ofa5x1dsefrhcxzfqvz7qp"
   },
   "outputs": [],
   "source": [
    "# функция для построения графика плотности\n",
    "def tariff_density(tariff, column_name):\n",
    "    data_final.loc[data_final['tariff']==tariff, column_name].plot(kind='density', title = 'График плотности распределения ' + column_name)"
   ]
  },
  {
   "cell_type": "markdown",
   "metadata": {
    "cellId": "mftony8otx21a30uro7g1"
   },
   "source": [
    "### 3.1 Статистический анализ тарифа \"Смарт\""
   ]
  },
  {
   "cell_type": "code",
   "execution_count": 30,
   "metadata": {
    "cellId": "npj1p610qty272yqdt62p"
   },
   "outputs": [
    {
     "name": "stdout",
     "output_type": "stream",
     "text": [
      "Статистическая информация по звонкам пользователей\n",
      "Дисперсия: 36219.31578434428\n",
      "\n"
     ]
    },
    {
     "data": {
      "text/plain": [
       "count    2229.000000\n",
       "mean      417.934948\n",
       "std       190.313730\n",
       "min         0.000000\n",
       "25%       282.000000\n",
       "50%       422.000000\n",
       "75%       545.000000\n",
       "max      1435.000000\n",
       "Name: duration_calls, dtype: float64"
      ]
     },
     "metadata": {},
     "output_type": "display_data"
    },
    {
     "data": {
      "image/png": "[encoded data removed]",
      "text/plain": [
       "<Figure size 432x288 with 1 Axes>"
      ]
     },
     "metadata": {
      "needs_background": "light"
     },
     "output_type": "display_data"
    }
   ],
   "source": [
    "# рассчитаем основные статистические показатели по звонкам для пользователей тарифа \"Смарт\" и строим гистограмму\n",
    "print('Статистическая информация по звонкам пользователей')\n",
    "tariff_stat('smart', 'duration_calls')"
   ]
  },
  {
   "cell_type": "markdown",
   "metadata": {
    "cellId": "qao4mm4ma2f33pzg4sh3lx"
   },
   "source": [
    "Пользователи тарифа \"Смарт\" в среднем разговаривают 418 минут. Это почти совпадает с медианным значением - общая продолжительность разговоров 50% наблюдений не превышает 422 минуты. При этом более чем для 25% наблюдений общая продолжительность разговора первышает лимит установленный по тарифу, что так же подтверждается большим значением стандартного отклонения.  \n",
    "Распределение данных по общему времени звонков смещено влево, что подтверждает изначальное предположение, что пользователи данного тарифа не тратят много времени на разговоры. "
   ]
  },
  {
   "cell_type": "code",
   "execution_count": 31,
   "metadata": {
    "cellId": "9ncvx891kzj00ij8ipph7iza"
   },
   "outputs": [
    {
     "name": "stdout",
     "output_type": "stream",
     "text": [
      "Статистическая информация по интернет-трафику\n",
      "Дисперсия: 223.2963679359641\n",
      "\n"
     ]
    },
    {
     "data": {
      "text/plain": [
       "count    2229.000000\n",
       "mean       42.418125\n",
       "std        14.943104\n",
       "min         0.000000\n",
       "25%        34.000000\n",
       "50%        43.000000\n",
       "75%        52.000000\n",
       "max       101.000000\n",
       "Name: duration_internet, dtype: float64"
      ]
     },
     "metadata": {},
     "output_type": "display_data"
    },
    {
     "data": {
      "image/png": "[encoded data removed]",
      "text/plain": [
       "<Figure size 432x288 with 1 Axes>"
      ]
     },
     "metadata": {
      "needs_background": "light"
     },
     "output_type": "display_data"
    }
   ],
   "source": [
    "# рассчитаем основные статистические показатели по интернет трафику для пользователей тарифа \"Смарт\" и строим гистограмму\n",
    "print('Статистическая информация по интернет-трафику')\n",
    "tariff_stat('smart', 'duration_internet')"
   ]
  },
  {
   "cell_type": "markdown",
   "metadata": {
    "cellId": "kaz0fbvlklldkdjh4qcac"
   },
   "source": [
    "Средний объем использования интернета пользователями тарифа \"Смарт\" существенно превосходит объем заложенный в тарифе. Среднее и медианное значение равны 42 Гб. и 43 Гб. соответственно, что в почти в 3 раза превосходит доступный по тарифу объем трафика. На гистограмме видно, что менее чем в 100 наблюдениях объем использования интернета соответствовал тарифу. Учитывая, что данным тарифом пользуется большая часть пользователей и дополнительное количество трафика стоит дороже, чем на тарифе \"Ультра\", можно предположить большие поступления за эту услугу. \n",
    "Распределение данных как для и распределение для звонков смещено влево, но в данном случае оно более симметрично. Это отражает тот факт, что люди пользууются интернетом исходя из своих потребностей в меньшей оглядкой на тариф."
   ]
  },
  {
   "cell_type": "code",
   "execution_count": 32,
   "metadata": {
    "cellId": "ox5vx3c9hnpi1w006b3t1"
   },
   "outputs": [
    {
     "name": "stdout",
     "output_type": "stream",
     "text": [
      "Статистическая информация по количеству сообщений\n",
      "Дисперсия: 796.8129584480083\n",
      "\n"
     ]
    },
    {
     "data": {
      "text/plain": [
       "count    2229.000000\n",
       "mean       33.384029\n",
       "std        28.227876\n",
       "min         0.000000\n",
       "25%        10.000000\n",
       "50%        28.000000\n",
       "75%        51.000000\n",
       "max       143.000000\n",
       "Name: messages, dtype: float64"
      ]
     },
     "metadata": {},
     "output_type": "display_data"
    },
    {
     "data": {
      "image/png": "[encoded data removed]",
      "text/plain": [
       "<Figure size 432x288 with 1 Axes>"
      ]
     },
     "metadata": {
      "needs_background": "light"
     },
     "output_type": "display_data"
    }
   ],
   "source": [
    "# рассчитаем основные статистические показатели по количеству сообщений для пользователей тарифа \"Смарт\" и строим гистограмму\n",
    "print('Статистическая информация по количеству сообщений')\n",
    "tariff_stat('smart', 'messages')"
   ]
  },
  {
   "cell_type": "markdown",
   "metadata": {
    "cellId": "4gt15pxxewu4nhfbj8ba0a"
   },
   "source": [
    "Распределение данных по количеству отправленных сообщений имеет сильное смещение вправо: пользователи мало пользуют услугой отправки сообщений, что вполне логично при наличии интернета и большого количества месенджеров. Для 75% наблюдений пакет сообщений из тарифа является достаточным, а для 50% наблюдений количество отпраленных в месяц сообщений не превышает 28.  \n",
    "Учитывая развитие технологий и небольшую популярность сообщений, подобное распределение можно ожидать и для тарифа \"Ультра\"."
   ]
  },
  {
   "cell_type": "code",
   "execution_count": 33,
   "metadata": {
    "cellId": "dv94q1fkr2w4hhf016lrvb"
   },
   "outputs": [
    {
     "data": {
      "image/png": "[encoded data removed]",
      "text/plain": [
       "<Figure size 432x288 with 1 Axes>"
      ]
     },
     "metadata": {
      "needs_background": "light"
     },
     "output_type": "display_data"
    },
    {
     "data": {
      "image/png": "[encoded data removed]",
      "text/plain": [
       "<Figure size 432x288 with 1 Axes>"
      ]
     },
     "metadata": {
      "needs_background": "light"
     },
     "output_type": "display_data"
    },
    {
     "data": {
      "image/png": "[encoded data removed]",
      "text/plain": [
       "<Figure size 432x288 with 1 Axes>"
      ]
     },
     "metadata": {
      "needs_background": "light"
     },
     "output_type": "display_data"
    }
   ],
   "source": [
    "# построим графики плотности распределения для каждого параметра\n",
    "tariff_density('smart', 'duration_calls')\n",
    "plt.show()\n",
    "tariff_density('smart', 'duration_internet')\n",
    "plt.show()\n",
    "tariff_density('smart', 'messages')"
   ]
  },
  {
   "cell_type": "markdown",
   "metadata": {
    "cellId": "1glxt8q0enh4fnpoo3z37w"
   },
   "source": [
    "График плотности для общей длительности звонков и использования интернет трафика напоминает нормальное распределение, которое немного сжали с двух сторон. График плотности для количества оправленных сообщений имеет значительное отклонение от нормального, что, как было отмечено ранее, связано с низким использованием сервиса сообщений пользователями."
   ]
  },
  {
   "cell_type": "markdown",
   "metadata": {
    "cellId": "s6doo3gqdqi4kooy831lcl"
   },
   "source": [
    "### 3.2 Статистический анализ тарифа \"Ультра\""
   ]
  },
  {
   "cell_type": "code",
   "execution_count": 34,
   "metadata": {
    "cellId": "nrwpwi41y7h8s9a4dbhji"
   },
   "outputs": [
    {
     "name": "stdout",
     "output_type": "stream",
     "text": [
      "Статистическая информация по звонкам пользователей\n",
      "Дисперсия: 100873.63339730098\n",
      "\n"
     ]
    },
    {
     "data": {
      "text/plain": [
       "count     985.000000\n",
       "mean      526.623350\n",
       "std       317.606098\n",
       "min         0.000000\n",
       "25%       284.000000\n",
       "50%       518.000000\n",
       "75%       752.000000\n",
       "max      1673.000000\n",
       "Name: duration_calls, dtype: float64"
      ]
     },
     "metadata": {},
     "output_type": "display_data"
    },
    {
     "data": {
      "image/png": "[encoded data removed]",
      "text/plain": [
       "<Figure size 432x288 with 1 Axes>"
      ]
     },
     "metadata": {
      "needs_background": "light"
     },
     "output_type": "display_data"
    }
   ],
   "source": [
    "# рассчитаем основные статистические показатели по звонкам для пользователей тарифа \"Ультра\" и строим гистограмму\n",
    "print('Статистическая информация по звонкам пользователей')\n",
    "tariff_stat('ultra', 'duration_calls')"
   ]
  },
  {
   "cell_type": "markdown",
   "metadata": {
    "cellId": "5s99105xw8m9e7h37r5yf6"
   },
   "source": [
    "Как и предполагалось среднее значение общего объема звонков для тарифа \"Ультра\" выше. При этом данные так же смещены влево, что говорит о том, что объем разговоров не имеет строгой привязки к тарифу, а больше заивисит от поведения людей. Максимальная продолжительность разговоров в наборе данных составляет 1673 минуты, что почти в два раза меньше доступного объема в рамках тарифа. В части звонков на данном тарифе компания не будет получать дополнительной прибыли."
   ]
  },
  {
   "cell_type": "code",
   "execution_count": 35,
   "metadata": {
    "cellId": "hvfbmi5a2kj5hiyqpucsb"
   },
   "outputs": [
    {
     "name": "stdout",
     "output_type": "stream",
     "text": [
      "Статистическая информация по интернет-трафику\n",
      "Дисперсия: 382.7757686434732\n",
      "\n"
     ]
    },
    {
     "data": {
      "text/plain": [
       "count    985.000000\n",
       "mean      38.164467\n",
       "std       19.564656\n",
       "min        0.000000\n",
       "25%       23.000000\n",
       "50%       38.000000\n",
       "75%       52.000000\n",
       "max       98.000000\n",
       "Name: duration_internet, dtype: float64"
      ]
     },
     "metadata": {},
     "output_type": "display_data"
    },
    {
     "data": {
      "image/png": "[encoded data removed]",
      "text/plain": [
       "<Figure size 432x288 with 1 Axes>"
      ]
     },
     "metadata": {
      "needs_background": "light"
     },
     "output_type": "display_data"
    }
   ],
   "source": [
    "# рассчитаем основные статистические показатели по интернет трафику для пользователей тарифа \"Смарт\" и строим гистограмму\n",
    "print('Статистическая информация по интернет-трафику')\n",
    "tariff_stat('ultra', 'duration_internet')"
   ]
  },
  {
   "cell_type": "markdown",
   "metadata": {
    "cellId": "j2j2d9z455ocv7m4t8jp2"
   },
   "source": [
    "Распределение потребления интернет трафика почти симметричное с небольшим смещением вправо. Среднее значение составляет 38 Гб, что совпадает с медианным значением. Данный факт так же подтверждает симметричность распределения. Среднее значение потребляемого трафика в месяц меньше, чем аналогичное значение для тарифа \"Смарт\".  \n",
    "Примерно 30% наблюдений использования интернет трафика укладываются в лимит тарифного плана, в остальных случаях пользователи докупают дополнительный объем трафика. \n",
    "Т.к. ожидается небольшой объем сообщений, который должен будет находиться в рамках лимита тарифа, дополнительный интернет трафик является основным источником дополнительного дохода для компании."
   ]
  },
  {
   "cell_type": "code",
   "execution_count": 36,
   "metadata": {
    "cellId": "g50mgg4q8xq0yelqlmanbz"
   },
   "outputs": [
    {
     "name": "stdout",
     "output_type": "stream",
     "text": [
      "Статистическая информация по количеству сообщений\n",
      "Дисперсия: 2285.2661425446736\n",
      "\n"
     ]
    },
    {
     "data": {
      "text/plain": [
       "count    985.000000\n",
       "mean      49.363452\n",
       "std       47.804457\n",
       "min        0.000000\n",
       "25%        6.000000\n",
       "50%       38.000000\n",
       "75%       79.000000\n",
       "max      224.000000\n",
       "Name: messages, dtype: float64"
      ]
     },
     "metadata": {},
     "output_type": "display_data"
    },
    {
     "data": {
      "image/png": "[encoded data removed]",
      "text/plain": [
       "<Figure size 432x288 with 1 Axes>"
      ]
     },
     "metadata": {
      "needs_background": "light"
     },
     "output_type": "display_data"
    }
   ],
   "source": [
    "# рассчитаем основные статистические показатели по количеству сообщений для пользователей тарифа \"Ультра\" и строим гистограмму\n",
    "print('Статистическая информация по количеству сообщений')\n",
    "tariff_stat('ultra', 'messages')"
   ]
  },
  {
   "cell_type": "markdown",
   "metadata": {
    "cellId": "mzgdk52yelbtcngtl17j7c"
   },
   "source": [
    "Предположение о небольшом количестве отправленных сообщений подтвердилось. Как и для тарифа \"Смарт\" на тарифе ультра пользователи отправляют мало сообщений: большая часть данных сгруппирована возле нуля, а вцелом выборка смещена вправо. Максимальное количество сообщений, которое отправлялось в месяц составило 224, что существенно ниже лимита, установленного в рамках тарифа. Следовательно компания не будет получать дополнительный доход за сервис услуг."
   ]
  },
  {
   "cell_type": "code",
   "execution_count": 37,
   "metadata": {
    "cellId": "vg9yruuqxdhz7ft900r3h"
   },
   "outputs": [
    {
     "data": {
      "image/png": "[encoded data removed]",
      "text/plain": [
       "<Figure size 432x288 with 1 Axes>"
      ]
     },
     "metadata": {
      "needs_background": "light"
     },
     "output_type": "display_data"
    },
    {
     "data": {
      "image/png": "[encoded data removed]",
      "text/plain": [
       "<Figure size 432x288 with 1 Axes>"
      ]
     },
     "metadata": {
      "needs_background": "light"
     },
     "output_type": "display_data"
    },
    {
     "data": {
      "image/png": "[encoded data removed]",
      "text/plain": [
       "<Figure size 432x288 with 1 Axes>"
      ]
     },
     "metadata": {
      "needs_background": "light"
     },
     "output_type": "display_data"
    }
   ],
   "source": [
    "# построим графики плотности распределения для каждого параметра\n",
    "tariff_density('ultra', 'duration_calls')\n",
    "plt.show()\n",
    "tariff_density('ultra', 'duration_internet')\n",
    "plt.show()\n",
    "tariff_density('ultra', 'messages')"
   ]
  },
  {
   "cell_type": "markdown",
   "metadata": {
    "cellId": "k6dyaeka7kdbgy21zuemy6"
   },
   "source": [
    "График плотностей для общей продолжительности звонков и для использования интернет трафика напоминает график плотности нормального распределения немного сжатый с двух сторон. По причине сильной смещенности данных с количеством отправленных сообщений график плотности меньше всего напоминает нормальное распределение."
   ]
  },
  {
   "cell_type": "code",
   "execution_count": 38,
   "metadata": {
    "cellId": "ey3ehcmc9zllbgg1f02h"
   },
   "outputs": [],
   "source": [
    "# создадим набор данных, который будет отражать статистические параметры по каждому тарифу\n",
    "mean_call_s = data_final.loc[data_final['tariff']=='smart', 'duration_calls'].mean()\n",
    "stdv_call_s = np.std(data_final.loc[data_final['tariff']=='smart', 'duration_calls'], ddof=1)\n",
    "mean_internet_s = data_final.loc[data_final['tariff']=='smart', 'duration_internet'].mean()\n",
    "stdv_internet_s =np.std(data_final.loc[data_final['tariff']=='smart', 'duration_internet'], ddof=1)\n",
    "mean_message_s = data_final.loc[data_final['tariff']=='smart', 'messages'].mean()\n",
    "stdv_message_s = np.std(data_final.loc[data_final['tariff']=='smart', 'messages'], ddof=1)\n",
    "\n",
    "mean_call_u = data_final.loc[data_final['tariff']=='ultra', 'duration_calls'].mean()\n",
    "stdv_call_u = np.std(data_final.loc[data_final['tariff']=='ultra', 'duration_calls'], ddof=1)\n",
    "mean_internet_u = data_final.loc[data_final['tariff']=='ultra', 'duration_internet'].mean()\n",
    "stdv_internet_u =np.std(data_final.loc[data_final['tariff']=='ultra', 'duration_internet'], ddof=1)\n",
    "mean_message_u = data_final.loc[data_final['tariff']=='ultra', 'messages'].mean()\n",
    "stdv_message_u = np.std(data_final.loc[data_final['tariff']=='ultra', 'messages'], ddof=1)\n",
    "\n",
    "data_stat = pd.DataFrame({'parameters':['mean_calls', 'stdv_calls', 'mean_internet', 'stdv_internet', 'mean_messages', 'stdv_messages'], 'smart':[mean_call_s, stdv_call_s, mean_internet_s, stdv_internet_s, mean_message_s, stdv_message_s], 'ultra':[mean_call_u, stdv_call_u, mean_internet_u, stdv_internet_u, mean_message_u, stdv_message_u]})"
   ]
  },
  {
   "cell_type": "markdown",
   "metadata": {
    "cellId": "9kktmle88jov6fmrou8rfi"
   },
   "source": [
    "**Вывод**  \n",
    "В данном разделе были проанализированы основные статистические показатели по данным об общем объеме звонков, использовании интернет трафика и использовании сервиса сообщений. В таблице ниже представленны данные показатели в разрезе тарифов:\n"
   ]
  },
  {
   "cell_type": "code",
   "execution_count": 39,
   "metadata": {
    "cellId": "gujws1y3oyj2swiao6eh67"
   },
   "outputs": [
    {
     "data": {
      "text/html": [
       "<div>\n",
       "<style scoped>\n",
       "    .dataframe tbody tr th:only-of-type {\n",
       "        vertical-align: middle;\n",
       "    }\n",
       "\n",
       "    .dataframe tbody tr th {\n",
       "        vertical-align: top;\n",
       "    }\n",
       "\n",
       "    .dataframe thead th {\n",
       "        text-align: right;\n",
       "    }\n",
       "</style>\n",
       "<table border=\"1\" class=\"dataframe\">\n",
       "  <thead>\n",
       "    <tr style=\"text-align: right;\">\n",
       "      <th></th>\n",
       "      <th>parameters</th>\n",
       "      <th>smart</th>\n",
       "      <th>ultra</th>\n",
       "    </tr>\n",
       "  </thead>\n",
       "  <tbody>\n",
       "    <tr>\n",
       "      <td>0</td>\n",
       "      <td>mean_calls</td>\n",
       "      <td>417.93</td>\n",
       "      <td>526.62</td>\n",
       "    </tr>\n",
       "    <tr>\n",
       "      <td>1</td>\n",
       "      <td>stdv_calls</td>\n",
       "      <td>190.31</td>\n",
       "      <td>317.61</td>\n",
       "    </tr>\n",
       "    <tr>\n",
       "      <td>2</td>\n",
       "      <td>mean_internet</td>\n",
       "      <td>42.42</td>\n",
       "      <td>38.16</td>\n",
       "    </tr>\n",
       "    <tr>\n",
       "      <td>3</td>\n",
       "      <td>stdv_internet</td>\n",
       "      <td>14.94</td>\n",
       "      <td>19.56</td>\n",
       "    </tr>\n",
       "    <tr>\n",
       "      <td>4</td>\n",
       "      <td>mean_messages</td>\n",
       "      <td>33.38</td>\n",
       "      <td>49.36</td>\n",
       "    </tr>\n",
       "    <tr>\n",
       "      <td>5</td>\n",
       "      <td>stdv_messages</td>\n",
       "      <td>28.23</td>\n",
       "      <td>47.80</td>\n",
       "    </tr>\n",
       "  </tbody>\n",
       "</table>\n",
       "</div>"
      ],
      "text/plain": [
       "      parameters   smart   ultra\n",
       "0     mean_calls  417.93  526.62\n",
       "1     stdv_calls  190.31  317.61\n",
       "2  mean_internet   42.42   38.16\n",
       "3  stdv_internet   14.94   19.56\n",
       "4  mean_messages   33.38   49.36\n",
       "5  stdv_messages   28.23   47.80"
      ]
     },
     "metadata": {},
     "output_type": "display_data"
    }
   ],
   "source": [
    "display(data_stat.round(2))"
   ]
  },
  {
   "cell_type": "markdown",
   "metadata": {
    "cellId": "9rojl2temfrhxxgm6sol3m"
   },
   "source": [
    "Из таблицы видно, что средний объем потребления на тарифе \"Ультра\" выше, чем на тарифе \"Смарт\". Исключение составляет только использование интернет трафика, которое выше на тарифе \"Смарт\". Более высокое среднее значение на тарифе \"Ультра\" выглядит вполне логичным т.к. он предлагает больший объем услуг в рамках абонетской платы и абоненты, выбирающие его предполагают, что будут больше общаться.  \n",
    "При этом оба тарифа схожи в том, что использование интернет трафика на каждом из тарифов превышает квоту выделенную в рамках абонентской платы. Пользователи тарифа \"Смарт\" примерно в 30% наблюдений оплачивают дополнительные минуты разговора.  \n",
    "Помимо более высоких средних значений, для данных с тарифа \"Ультра\" характерен больший разброс данных, но данный факт связан с тем, что выборка пользователей тарифа \"Ультра\" более чем в два раза меньше выборки пользователей с тарифом \"Смарт\"."
   ]
  },
  {
   "cell_type": "markdown",
   "metadata": {
    "cellId": "qjj87q6njvs3ejtyjiljb"
   },
   "source": [
    "В следующем разделе проверим различается ли выручка, которую получает компания, в зависимости от тарифа. Так же проверим различается ли выручка, которую приносят пользователи Москвы и пользователи остальных регионов в совокупности."
   ]
  },
  {
   "cell_type": "markdown",
   "metadata": {
    "cellId": "3ea058aarwpdn8oc0qrxrv"
   },
   "source": [
    "## 4. Проверка статистических гипотез"
   ]
  },
  {
   "cell_type": "markdown",
   "metadata": {
    "cellId": "mni11us6hxqkvvguoggw3"
   },
   "source": [
    "В этом разделе будет проведена проверка двух гипотез:  \n",
    "* средняя выручка пользователей тарифов «Ультра» и «Смарт» различаются;\n",
    "* средняя выручка пользователей из Москвы отличается от выручки пользователей из других регионов."
   ]
  },
  {
   "cell_type": "markdown",
   "metadata": {
    "cellId": "fpylsecnxwrfuse7ya2w"
   },
   "source": [
    "### 4.1 Проверка гипотезы о различии выручки для тарифов \"Ультра\" и \"Смарт\""
   ]
  },
  {
   "cell_type": "markdown",
   "metadata": {
    "cellId": "ph5gaez7dbdpz5154h53u"
   },
   "source": [
    "Статистический анализ показал, что пользователи тарифа \"Смарт\" чаще платят за услуги вне тарифа. При этом для пользователей тарифа \"Ультра\" существенно выше абонентская плата за тариф. Для проверки того, какой из тарифов приносит больше выручки, сформулируем основную и альтернативную гипотезу:  \n",
    "Н0 (основная гипотеза): выручка, которую приносят пользователи тарифа \"Смарт\" равна выручке, которую приносят пользователи тарифа \"Ультра\"  \n",
    "Н1 (альтернативная гипотеза): выручка по тарифу \"Смарт\" больше выручки по тарифу \"Ультра\".  \n",
    "\n",
    "В данном случае мы проверяем одностороннюю альтернативную гипотезу т.к. нам необходимо выделить более доходный тариф.  \n",
    "Критический уровень статистической значимости - 0,05  \n",
    "Для проверки гипотезы будет использовать односторонний критерий Стьюдента."
   ]
  },
  {
   "cell_type": "markdown",
   "metadata": {
    "cellId": "unsuxsmjwhi0iqe84pzeotn"
   },
   "source": [
    "Прежде чем проверять гипотезу необходимо посмотреть дисперсии данных о выручке для двух тарифов. Различие значений дисперсии повлияет на результат проверки гипотезы."
   ]
  },
  {
   "cell_type": "code",
   "execution_count": 40,
   "metadata": {
    "cellId": "em7m9wli43tb2r2n6zh2ri"
   },
   "outputs": [
    {
     "name": "stdout",
     "output_type": "stream",
     "text": [
      "Дисперсия выручки для тарифа \"Смарт\": 8369844.454976924\n",
      "Дисперсия выручки для тарифа \"Ультра\": 4687395.217604165\n"
     ]
    }
   ],
   "source": [
    "# рассчитаем дисперсию выручки по каждому тарифу\n",
    "var_profit_s = np.var(data_final.loc[data_final['tariff']=='smart', 'total_payment'])\n",
    "print('Дисперсия выручки для тарифа \"Смарт\":', var_profit_s)\n",
    "var_profit_s = np.var(data_final.loc[data_final['tariff']=='ultra', 'total_payment'])\n",
    "print('Дисперсия выручки для тарифа \"Ультра\":', var_profit_s)"
   ]
  },
  {
   "cell_type": "markdown",
   "metadata": {
    "cellId": "5cda0g8nhz8fyoatp4pgdp"
   },
   "source": [
    "Дисперсии существенно различаются, но как раньше было замечено это связано с тем, что выборки имеют разный размер. Построим график плотности расрпеделения выручки для каждого тарифа, чтобы сравнить похожесть распределения."
   ]
  },
  {
   "cell_type": "code",
   "execution_count": 41,
   "metadata": {
    "cellId": "9wogqa9nkuor51y6u53uc"
   },
   "outputs": [
    {
     "data": {
      "image/png": "[encoded data removed]",
      "text/plain": [
       "<Figure size 432x288 with 1 Axes>"
      ]
     },
     "metadata": {
      "needs_background": "light"
     },
     "output_type": "display_data"
    }
   ],
   "source": [
    "# плотность распределения выручки для тарифа \"Смарт\"\n",
    "tariff_density('smart', 'total_payment')"
   ]
  },
  {
   "cell_type": "code",
   "execution_count": 42,
   "metadata": {
    "cellId": "z2ct7319oecthnsv77pin"
   },
   "outputs": [
    {
     "data": {
      "image/png": "[encoded data removed]",
      "text/plain": [
       "<Figure size 432x288 with 1 Axes>"
      ]
     },
     "metadata": {
      "needs_background": "light"
     },
     "output_type": "display_data"
    }
   ],
   "source": [
    "# плотность распределения выручки для тарифа \"Ультра\"\n",
    "tariff_density('ultra', 'total_payment')"
   ]
  },
  {
   "cell_type": "markdown",
   "metadata": {
    "cellId": "pg7my2qgoe9vvln99uw27"
   },
   "source": [
    "Распределение выручки по тарифу \"Ультра\" значительно отличается от распределения выручки по тарифу \"Смарт\". Поэтому для проверки гипотез будем устанавливать параметр о различии дисперсий."
   ]
  },
  {
   "cell_type": "code",
   "execution_count": 43,
   "metadata": {
    "cellId": "00v43bez6k66931lzhydnxzp"
   },
   "outputs": [
    {
     "name": "stdout",
     "output_type": "stream",
     "text": [
      "p-значение: 1.683061608459537e-132\n",
      "Отвергаем нулевую гипотезу\n"
     ]
    }
   ],
   "source": [
    "# Проверка гипотезы о равенстве выручки на двух разных тарифах\n",
    "alpha = 0.05\n",
    "data_final_smart = data_final.loc[data_final['tariff']=='smart', 'total_payment']\n",
    "data_final_ultra = data_final.loc[data_final['tariff']=='ultra', 'total_payment']\n",
    "\n",
    "results_tariffs = st.ttest_ind(data_final_smart, data_final_ultra, equal_var = False)\n",
    "print('p-значение:', results_tariffs.pvalue / 2)\n",
    "if results_tariffs.pvalue / 2 < alpha & data_final_ultra.mean() < data_final_smart.mean():\n",
    "    print('Отвергаем нулевую гипотезу')\n",
    "else:\n",
    "    print('Не получилось отвергнуть нулевую гипотезу')"
   ]
  },
  {
   "cell_type": "markdown",
   "metadata": {
    "cellId": "bx8c7nvm38sku0sdw22czh"
   },
   "source": [
    "Вероятность того, что средняя выручка по тарифу \"Смарт\" равна средней выручке по тарифу \"Ультра\" крайне мала. Статистическая проверка гипотезы подтвердила выводы сделанные на основе визуального и статистического анализа данных: клиенты тарифа \"Смарт\" приностя компании гораздо больший доход. "
   ]
  },
  {
   "cell_type": "markdown",
   "metadata": {
    "cellId": "ew3y3c1a0hdjqcmhx72mud"
   },
   "source": [
    "### 4.2 Проверка гипотезы о различии выручки для Москвы и других городов"
   ]
  },
  {
   "cell_type": "markdown",
   "metadata": {
    "cellId": "ethhub2vofik39pxvugk2o"
   },
   "source": [
    "Москва - крупнейший город в России и центр деловой жизни. Люди много пользуются услугами сотовых операторов для работы, учебы, развлечения, поэтому можно предположить, что люди тратят на связь больше и больше выручки приносят компании.\n",
    "Сформулируем гипотезы, которые будем проверять:\n",
    "Н0 (основная гипотеза): выручка, которую приносят пользователи в Москве, которую приносят пользователи в других городах  \n",
    "Н1 (альтернативная гипотеза): выручка в Москве больше выручки от пользователей в других городах.  \n",
    "\n",
    "В данном случае мы проверяем одностороннюю альтернативную гипотезу т.к. нам необходимо выделить более доходные регионы.  \n",
    "Критический уровень статистической значимости - 0,05.  \n",
    "Для проверки гипотезы будет использовать односторонний критерий Стьюдента."
   ]
  },
  {
   "cell_type": "markdown",
   "metadata": {
    "cellId": "9jsd9e3lef7pq0r70cu6og"
   },
   "source": [
    "Прежде чем проверять гипотезу необходимо посмотреть дисперсии данных о выручке для двух регионов. Различие значений дисперсии повлияет на результат проверки гипотезы."
   ]
  },
  {
   "cell_type": "code",
   "execution_count": 44,
   "metadata": {
    "cellId": "7dfhlrpqq1mhtrxwte9xu6"
   },
   "outputs": [
    {
     "name": "stdout",
     "output_type": "stream",
     "text": [
      "Количество наблюдений для Москвы: 611\n",
      "Дисперсия выручки для Москвы: 7188012.265101615\n",
      "Количество наблюдений для регионов: 2603\n",
      "Дисперсия выручки для остальных регионов: 8765038.829366334\n"
     ]
    }
   ],
   "source": [
    "# рассчитаем дисперсию выручки по каждому тарифу\n",
    "var_profit_s = np.var(data_final.loc[data_final['city']=='Москва', 'total_payment'])\n",
    "print('Количество наблюдений для Москвы:', data_final.loc[data_final['city']=='Москва', 'total_payment'].count())\n",
    "print('Дисперсия выручки для Москвы:', var_profit_s)\n",
    "var_profit_s = np.var(data_final.loc[~(data_final['city']=='Москва'), 'total_payment'])\n",
    "print('Количество наблюдений для регионов:', data_final.loc[~(data_final['city']=='Москва'), 'total_payment'].count())\n",
    "print('Дисперсия выручки для остальных регионов:', var_profit_s)"
   ]
  },
  {
   "cell_type": "markdown",
   "metadata": {
    "cellId": "jx9pycp0bbio4w652e8xo"
   },
   "source": [
    "Дисперсии выборок относительно похожи друг на друга. Посмотрим графики плотностей для каждой группы наблюдений."
   ]
  },
  {
   "cell_type": "code",
   "execution_count": 45,
   "metadata": {
    "cellId": "fk637o2c2d57i7d10yw8z"
   },
   "outputs": [
    {
     "data": {
      "text/plain": [
       "<matplotlib.axes._subplots.AxesSubplot at 0x7f43336d4190>"
      ]
     },
     "execution_count": 45,
     "metadata": {},
     "output_type": "execute_result"
    },
    {
     "data": {
      "image/png": "[encoded data removed]",
      "text/plain": [
       "<Figure size 432x288 with 1 Axes>"
      ]
     },
     "metadata": {
      "needs_background": "light"
     },
     "output_type": "display_data"
    }
   ],
   "source": [
    "# плотность распределения выручки для Москвы\n",
    "data_final.loc[data_final['city']=='Москва', 'total_payment'].plot(kind='density')"
   ]
  },
  {
   "cell_type": "code",
   "execution_count": 46,
   "metadata": {
    "cellId": "rnywcmqzbj1p4ttqqbnwz"
   },
   "outputs": [
    {
     "data": {
      "text/plain": [
       "<matplotlib.axes._subplots.AxesSubplot at 0x7f4331c98310>"
      ]
     },
     "execution_count": 46,
     "metadata": {},
     "output_type": "execute_result"
    },
    {
     "data": {
      "image/png": "[encoded data removed]",
      "text/plain": [
       "<Figure size 432x288 with 1 Axes>"
      ]
     },
     "metadata": {
      "needs_background": "light"
     },
     "output_type": "display_data"
    }
   ],
   "source": [
    "# плотность распределения выручки для Москвы\n",
    "data_final.loc[~(data_final['city']=='Москва'), 'total_payment'].plot(kind='density')"
   ]
  },
  {
   "cell_type": "markdown",
   "metadata": {
    "cellId": "xhtu4ngyylpufdmcuem9dh"
   },
   "source": [
    "Распределения очень похожи по форме, поэтому для проверки гипотез будем устанавливать параметр об одинаковости дисперсии для двух выборок."
   ]
  },
  {
   "cell_type": "code",
   "execution_count": 47,
   "metadata": {
    "cellId": "ykhzvj7bgz9ldmyn1xd8wk"
   },
   "outputs": [
    {
     "name": "stdout",
     "output_type": "stream",
     "text": [
      "p-значение: 0.14168232303286007\n",
      "Не получилось отвергнуть нулевую гипотезу\n"
     ]
    }
   ],
   "source": [
    "# Проверка гипотезы о равенстве выручки на двух разных тарифах\n",
    "alpha = 0.05\n",
    "data_final_moscow = data_final.loc[data_final['city']=='Москва', 'total_payment']\n",
    "data_final_other = data_final.loc[~(data_final['city']=='Москва'), 'total_payment']\n",
    "\n",
    "results_tariffs = st.ttest_ind(data_final_moscow, data_final_other, equal_var = True)\n",
    "print('p-значение:', results_tariffs.pvalue / 2)\n",
    "if results_tariffs.pvalue / 2 < alpha & data_final_moscow.mean() > data_final_other.mean():\n",
    "    print('Отвергаем нулевую гипотезу')\n",
    "else:\n",
    "    print('Не получилось отвергнуть нулевую гипотезу')"
   ]
  },
  {
   "cell_type": "markdown",
   "metadata": {
    "cellId": "o8m7lscsmz29qkefjwmlw"
   },
   "source": [
    "Из полученных результатов следует, что нет оснований отклонить нулевую гипотезу. Средняя выручка, получаемая от пользователей в Москве, не сильно отличается от выручки, которую приносят пользователи из других регионов."
   ]
  },
  {
   "cell_type": "markdown",
   "metadata": {
    "cellId": "4f2j148gtzk62e3w8c0oud"
   },
   "source": [
    "**Вывод**  \n",
    "Для выявления более доходного тарифа были проверены две гипотезы:  \n",
    "1) выручка от тарифа \"Смарт\" равна выручке от тарифа \"Ультра\";  \n",
    "2) выручка от пользователей в Москве равна выручке в других регионах.\n",
    "\n",
    "Вероятность того, что средняя выручка по тарифу \"Смарт\" равна выручке по тарифу \"Ультра\", крайне мала. Средний доход по тарифу \"Смарт\" превышает средний доход по тарифу \"Ультра\", т.к. пользователи тарифа \"Смарт\" используют много дополнительного интернет трафика, который стоит дороже, чем на тарифе \"Ультра\".  \n",
    "При сравнении средней выручки в Москве и регионах не выявлено оснований отклонить гипотезу о равенстве выручки в Москве и регионах. "
   ]
  },
  {
   "cell_type": "markdown",
   "metadata": {
    "cellId": "373j5foj8z5syta74btqvo"
   },
   "source": [
    "## 5. Итоговые выводы"
   ]
  },
  {
   "cell_type": "markdown",
   "metadata": {
    "cellId": "ogsdvpqynyccaddzst017h"
   },
   "source": [
    "Для анализа были предоставлены данные оператора сотовой связи по потреблению услуг пользователями. Данные собраны по 500 пользователям за 2018 год.\n",
    "Требовалось провести анализ для выявления наиболее доходного тарифа из двух.  \n",
    "В ходе предварительного анализа данных был выявлен лишний столбец данных и некорректный формат дат совершения операций. Во время предобрабтки данных были устранены выявленные ошибки и сформирован итоговый набор данных для анализа, который содержит информацию по всем услугам в разрезе пользователей и месяцев.  \n",
    "\n",
    "В рамках статистического анализа были исследованы данные о распределени данных об объеме звонков, использованного трафика, отправленных смс. Количество использованых минут и сообщений в рамках каждого тарифа в основном не превосходит установленные лимиты. Средний объем интернет трафика в рамках каждого из тарифов примерно одинаковый, но в случае тарифа \"Смарт\" объем потребляемого интернет трафика значительно превосходит лимит в рамках тарифа. Так же дополнительный трафик на тарифе \"Смарт\" стоит дороже. Всё это возволило сформировать гипотезу о том, что доход от тарифа \"Смарт\" выше чем доход от тарифа \"Ультра\".  \n",
    "Проверка гипотезы о равенстве среднего дохода от разных тарифов не дала значимых результатов: доходы по каждому трифу сильно различаются между собой. При этом не нашлось оснований отвергнуть гипотезу о том, что доход от пользователей в Москве и других регионах одинаковый.\n",
    "\n",
    "На основании всего вышеизложенного коммерческому департаменту компании \"Мегалайн\" предлагаются следующие рекомендации:  \n",
    "* рекламную компанию направить на продвижение тарифа \"Смарт\";\n",
    "* в виду отсутствия существенного различия между средним доходом от тарифов в Москве и регионах рекламную компанию стоит продвигать в регионах с наименьшей стоимостью рекламы;"
   ]
  },
  {
   "cell_type": "code",
   "execution_count": null,
   "metadata": {},
   "outputs": [],
   "source": []
  }
 ],
 "metadata": {
  "ExecuteTimeLog": [
   {
    "duration": 1097,
    "start_time": "2021-12-15T08:02:41.850Z"
   },
   {
    "duration": 2242,
    "start_time": "2021-12-15T08:02:42.949Z"
   },
   {
    "duration": 5,
    "start_time": "2021-12-15T08:02:45.189Z"
   },
   {
    "duration": -10,
    "start_time": "2021-12-15T08:02:45.206Z"
   },
   {
    "duration": -224,
    "start_time": "2021-12-15T08:02:45.421Z"
   },
   {
    "duration": -236,
    "start_time": "2021-12-15T08:02:45.434Z"
   },
   {
    "duration": -239,
    "start_time": "2021-12-15T08:02:45.438Z"
   },
   {
    "duration": -242,
    "start_time": "2021-12-15T08:02:45.442Z"
   },
   {
    "duration": -244,
    "start_time": "2021-12-15T08:02:45.445Z"
   },
   {
    "duration": -246,
    "start_time": "2021-12-15T08:02:45.448Z"
   },
   {
    "duration": -248,
    "start_time": "2021-12-15T08:02:45.451Z"
   },
   {
    "duration": -251,
    "start_time": "2021-12-15T08:02:45.455Z"
   },
   {
    "duration": -264,
    "start_time": "2021-12-15T08:02:45.469Z"
   },
   {
    "duration": -267,
    "start_time": "2021-12-15T08:02:45.473Z"
   },
   {
    "duration": -270,
    "start_time": "2021-12-15T08:02:45.476Z"
   },
   {
    "duration": -273,
    "start_time": "2021-12-15T08:02:45.480Z"
   },
   {
    "duration": -274,
    "start_time": "2021-12-15T08:02:45.482Z"
   },
   {
    "duration": -276,
    "start_time": "2021-12-15T08:02:45.485Z"
   },
   {
    "duration": -278,
    "start_time": "2021-12-15T08:02:45.488Z"
   },
   {
    "duration": -280,
    "start_time": "2021-12-15T08:02:45.491Z"
   },
   {
    "duration": -283,
    "start_time": "2021-12-15T08:02:45.495Z"
   },
   {
    "duration": -285,
    "start_time": "2021-12-15T08:02:45.498Z"
   },
   {
    "duration": -286,
    "start_time": "2021-12-15T08:02:45.500Z"
   },
   {
    "duration": -288,
    "start_time": "2021-12-15T08:02:45.503Z"
   },
   {
    "duration": -302,
    "start_time": "2021-12-15T08:02:45.518Z"
   },
   {
    "duration": -305,
    "start_time": "2021-12-15T08:02:45.521Z"
   },
   {
    "duration": -308,
    "start_time": "2021-12-15T08:02:45.525Z"
   },
   {
    "duration": -310,
    "start_time": "2021-12-15T08:02:45.528Z"
   },
   {
    "duration": -333,
    "start_time": "2021-12-15T08:02:45.552Z"
   },
   {
    "duration": -337,
    "start_time": "2021-12-15T08:02:45.556Z"
   },
   {
    "duration": -339,
    "start_time": "2021-12-15T08:02:45.559Z"
   },
   {
    "duration": -341,
    "start_time": "2021-12-15T08:02:45.562Z"
   },
   {
    "duration": -343,
    "start_time": "2021-12-15T08:02:45.565Z"
   },
   {
    "duration": -344,
    "start_time": "2021-12-15T08:02:45.567Z"
   },
   {
    "duration": -346,
    "start_time": "2021-12-15T08:02:45.569Z"
   },
   {
    "duration": -348,
    "start_time": "2021-12-15T08:02:45.572Z"
   },
   {
    "duration": -349,
    "start_time": "2021-12-15T08:02:45.574Z"
   },
   {
    "duration": -352,
    "start_time": "2021-12-15T08:02:45.578Z"
   },
   {
    "duration": -355,
    "start_time": "2021-12-15T08:02:45.582Z"
   },
   {
    "duration": -356,
    "start_time": "2021-12-15T08:02:45.584Z"
   },
   {
    "duration": -358,
    "start_time": "2021-12-15T08:02:45.587Z"
   },
   {
    "duration": -361,
    "start_time": "2021-12-15T08:02:45.591Z"
   },
   {
    "duration": -364,
    "start_time": "2021-12-15T08:02:45.594Z"
   },
   {
    "duration": -365,
    "start_time": "2021-12-15T08:02:45.596Z"
   },
   {
    "duration": -366,
    "start_time": "2021-12-15T08:02:45.598Z"
   },
   {
    "duration": -336,
    "start_time": "2021-12-15T08:02:45.601Z"
   },
   {
    "duration": -336,
    "start_time": "2021-12-15T08:02:45.603Z"
   },
   {
    "duration": 1365,
    "start_time": "2021-12-15T08:15:29.071Z"
   },
   {
    "duration": 3767,
    "start_time": "2021-12-15T08:15:30.438Z"
   },
   {
    "duration": -1510,
    "start_time": "2021-12-15T08:15:35.720Z"
   },
   {
    "duration": -1514,
    "start_time": "2021-12-15T08:15:35.726Z"
   },
   {
    "duration": -1518,
    "start_time": "2021-12-15T08:15:35.731Z"
   },
   {
    "duration": -1520,
    "start_time": "2021-12-15T08:15:35.734Z"
   },
   {
    "duration": -1522,
    "start_time": "2021-12-15T08:15:35.738Z"
   },
   {
    "duration": -1527,
    "start_time": "2021-12-15T08:15:35.744Z"
   },
   {
    "duration": -1530,
    "start_time": "2021-12-15T08:15:35.748Z"
   },
   {
    "duration": -1533,
    "start_time": "2021-12-15T08:15:35.752Z"
   },
   {
    "duration": -1537,
    "start_time": "2021-12-15T08:15:35.758Z"
   },
   {
    "duration": -1540,
    "start_time": "2021-12-15T08:15:35.762Z"
   },
   {
    "duration": -1543,
    "start_time": "2021-12-15T08:15:35.766Z"
   },
   {
    "duration": -1545,
    "start_time": "2021-12-15T08:15:35.770Z"
   },
   {
    "duration": -1547,
    "start_time": "2021-12-15T08:15:35.773Z"
   },
   {
    "duration": -1550,
    "start_time": "2021-12-15T08:15:35.777Z"
   },
   {
    "duration": -1552,
    "start_time": "2021-12-15T08:15:35.781Z"
   },
   {
    "duration": -1554,
    "start_time": "2021-12-15T08:15:35.784Z"
   },
   {
    "duration": -1557,
    "start_time": "2021-12-15T08:15:35.788Z"
   },
   {
    "duration": -1560,
    "start_time": "2021-12-15T08:15:35.793Z"
   },
   {
    "duration": -1563,
    "start_time": "2021-12-15T08:15:35.797Z"
   },
   {
    "duration": -1565,
    "start_time": "2021-12-15T08:15:35.800Z"
   },
   {
    "duration": -1570,
    "start_time": "2021-12-15T08:15:35.806Z"
   },
   {
    "duration": -1595,
    "start_time": "2021-12-15T08:15:35.833Z"
   },
   {
    "duration": -1601,
    "start_time": "2021-12-15T08:15:35.840Z"
   },
   {
    "duration": -1607,
    "start_time": "2021-12-15T08:15:35.847Z"
   },
   {
    "duration": -1612,
    "start_time": "2021-12-15T08:15:35.854Z"
   },
   {
    "duration": -1616,
    "start_time": "2021-12-15T08:15:35.859Z"
   },
   {
    "duration": -1619,
    "start_time": "2021-12-15T08:15:35.863Z"
   },
   {
    "duration": -1624,
    "start_time": "2021-12-15T08:15:35.869Z"
   },
   {
    "duration": -1628,
    "start_time": "2021-12-15T08:15:35.875Z"
   },
   {
    "duration": -1612,
    "start_time": "2021-12-15T08:15:35.879Z"
   },
   {
    "duration": -1614,
    "start_time": "2021-12-15T08:15:35.882Z"
   },
   {
    "duration": -1614,
    "start_time": "2021-12-15T08:15:35.885Z"
   },
   {
    "duration": -1616,
    "start_time": "2021-12-15T08:15:35.888Z"
   },
   {
    "duration": -1618,
    "start_time": "2021-12-15T08:15:35.891Z"
   },
   {
    "duration": -1619,
    "start_time": "2021-12-15T08:15:35.895Z"
   },
   {
    "duration": -1622,
    "start_time": "2021-12-15T08:15:35.900Z"
   },
   {
    "duration": -1624,
    "start_time": "2021-12-15T08:15:35.904Z"
   },
   {
    "duration": -1626,
    "start_time": "2021-12-15T08:15:35.908Z"
   },
   {
    "duration": -1628,
    "start_time": "2021-12-15T08:15:35.911Z"
   },
   {
    "duration": -1629,
    "start_time": "2021-12-15T08:15:35.914Z"
   },
   {
    "duration": -1630,
    "start_time": "2021-12-15T08:15:35.917Z"
   },
   {
    "duration": -1632,
    "start_time": "2021-12-15T08:15:35.920Z"
   },
   {
    "duration": -1633,
    "start_time": "2021-12-15T08:15:35.923Z"
   },
   {
    "duration": -1636,
    "start_time": "2021-12-15T08:15:35.927Z"
   },
   {
    "duration": -1654,
    "start_time": "2021-12-15T08:15:35.947Z"
   },
   {
    "duration": 2241,
    "start_time": "2021-12-15T08:16:19.530Z"
   },
   {
    "duration": 557,
    "start_time": "2021-12-15T08:17:04.841Z"
   },
   {
    "duration": 6,
    "start_time": "2021-12-15T08:17:17.565Z"
   },
   {
    "duration": 592,
    "start_time": "2021-12-15T08:17:17.574Z"
   },
   {
    "duration": 4,
    "start_time": "2021-12-15T08:17:18.169Z"
   },
   {
    "duration": 83,
    "start_time": "2021-12-15T08:17:18.176Z"
   },
   {
    "duration": 41,
    "start_time": "2021-12-15T08:17:18.262Z"
   },
   {
    "duration": 38,
    "start_time": "2021-12-15T08:17:18.305Z"
   },
   {
    "duration": 51,
    "start_time": "2021-12-15T08:17:18.346Z"
   },
   {
    "duration": 42,
    "start_time": "2021-12-15T08:17:18.402Z"
   },
   {
    "duration": 46,
    "start_time": "2021-12-15T08:17:18.449Z"
   },
   {
    "duration": 4,
    "start_time": "2021-12-15T08:17:18.498Z"
   },
   {
    "duration": 122,
    "start_time": "2021-12-15T08:17:18.505Z"
   },
   {
    "duration": 5,
    "start_time": "2021-12-15T08:17:18.629Z"
   },
   {
    "duration": 114,
    "start_time": "2021-12-15T08:17:18.637Z"
   },
   {
    "duration": 13,
    "start_time": "2021-12-15T08:17:18.753Z"
   },
   {
    "duration": 20,
    "start_time": "2021-12-15T08:17:18.769Z"
   },
   {
    "duration": 87,
    "start_time": "2021-12-15T08:17:18.792Z"
   },
   {
    "duration": 35,
    "start_time": "2021-12-15T08:17:18.882Z"
   },
   {
    "duration": 62,
    "start_time": "2021-12-15T08:17:18.920Z"
   },
   {
    "duration": 7,
    "start_time": "2021-12-15T08:17:18.985Z"
   },
   {
    "duration": 38,
    "start_time": "2021-12-15T08:17:18.994Z"
   },
   {
    "duration": 28,
    "start_time": "2021-12-15T08:17:19.035Z"
   },
   {
    "duration": 90,
    "start_time": "2021-12-15T08:17:19.066Z"
   },
   {
    "duration": 4,
    "start_time": "2021-12-15T08:17:19.161Z"
   },
   {
    "duration": 29,
    "start_time": "2021-12-15T08:17:19.171Z"
   },
   {
    "duration": 19,
    "start_time": "2021-12-15T08:17:19.203Z"
   },
   {
    "duration": 58,
    "start_time": "2021-12-15T08:17:19.225Z"
   },
   {
    "duration": 9,
    "start_time": "2021-12-15T08:17:19.287Z"
   },
   {
    "duration": 27,
    "start_time": "2021-12-15T08:17:19.298Z"
   },
   {
    "duration": 22,
    "start_time": "2021-12-15T08:17:19.328Z"
   },
   {
    "duration": 371,
    "start_time": "2021-12-15T08:17:19.353Z"
   },
   {
    "duration": 355,
    "start_time": "2021-12-15T08:17:19.726Z"
   },
   {
    "duration": 376,
    "start_time": "2021-12-15T08:17:20.084Z"
   },
   {
    "duration": 1143,
    "start_time": "2021-12-15T08:17:20.463Z"
   },
   {
    "duration": 363,
    "start_time": "2021-12-15T08:17:21.609Z"
   },
   {
    "duration": 354,
    "start_time": "2021-12-15T08:17:21.974Z"
   },
   {
    "duration": 350,
    "start_time": "2021-12-15T08:17:22.331Z"
   },
   {
    "duration": 1202,
    "start_time": "2021-12-15T08:17:22.684Z"
   },
   {
    "duration": 29,
    "start_time": "2021-12-15T08:17:23.889Z"
   },
   {
    "duration": 21,
    "start_time": "2021-12-15T08:17:23.921Z"
   },
   {
    "duration": 36,
    "start_time": "2021-12-15T08:17:23.945Z"
   },
   {
    "duration": 418,
    "start_time": "2021-12-15T08:17:23.983Z"
   },
   {
    "duration": 368,
    "start_time": "2021-12-15T08:17:24.403Z"
   },
   {
    "duration": 12,
    "start_time": "2021-12-15T08:17:24.774Z"
   },
   {
    "duration": 32,
    "start_time": "2021-12-15T08:17:24.788Z"
   },
   {
    "duration": 336,
    "start_time": "2021-12-15T08:17:24.822Z"
   },
   {
    "duration": 411,
    "start_time": "2021-12-15T08:17:25.161Z"
   },
   {
    "duration": 13,
    "start_time": "2021-12-15T08:17:25.574Z"
   },
   {
    "duration": 962,
    "start_time": "2021-12-16T07:49:12.600Z"
   },
   {
    "duration": 412,
    "start_time": "2021-12-16T07:49:13.563Z"
   },
   {
    "duration": 3,
    "start_time": "2021-12-16T07:49:13.977Z"
   },
   {
    "duration": 35,
    "start_time": "2021-12-16T07:49:13.981Z"
   },
   {
    "duration": 22,
    "start_time": "2021-12-16T07:49:14.017Z"
   },
   {
    "duration": 18,
    "start_time": "2021-12-16T07:49:14.041Z"
   },
   {
    "duration": 39,
    "start_time": "2021-12-16T07:49:14.060Z"
   },
   {
    "duration": 14,
    "start_time": "2021-12-16T07:49:14.101Z"
   },
   {
    "duration": 22,
    "start_time": "2021-12-16T07:49:14.117Z"
   },
   {
    "duration": 4,
    "start_time": "2021-12-16T07:49:14.141Z"
   },
   {
    "duration": 100,
    "start_time": "2021-12-16T07:49:14.147Z"
   },
   {
    "duration": 3,
    "start_time": "2021-12-16T07:49:14.248Z"
   },
   {
    "duration": 58,
    "start_time": "2021-12-16T07:49:14.252Z"
   },
   {
    "duration": 6,
    "start_time": "2021-12-16T07:49:14.311Z"
   },
   {
    "duration": 7,
    "start_time": "2021-12-16T07:49:14.318Z"
   },
   {
    "duration": 45,
    "start_time": "2021-12-16T07:49:14.326Z"
   },
   {
    "duration": 37,
    "start_time": "2021-12-16T07:49:14.372Z"
   },
   {
    "duration": 22,
    "start_time": "2021-12-16T07:49:14.411Z"
   },
   {
    "duration": 5,
    "start_time": "2021-12-16T07:49:14.434Z"
   },
   {
    "duration": 9,
    "start_time": "2021-12-16T07:49:14.440Z"
   },
   {
    "duration": 11,
    "start_time": "2021-12-16T07:49:14.450Z"
   },
   {
    "duration": 47,
    "start_time": "2021-12-16T07:49:14.462Z"
   },
   {
    "duration": 3,
    "start_time": "2021-12-16T07:49:14.512Z"
   },
   {
    "duration": 10,
    "start_time": "2021-12-16T07:49:14.517Z"
   },
   {
    "duration": 4,
    "start_time": "2021-12-16T07:49:14.529Z"
   },
   {
    "duration": 24,
    "start_time": "2021-12-16T07:49:14.534Z"
   },
   {
    "duration": 4,
    "start_time": "2021-12-16T07:49:14.559Z"
   },
   {
    "duration": 27,
    "start_time": "2021-12-16T07:49:14.565Z"
   },
   {
    "duration": 8,
    "start_time": "2021-12-16T07:49:14.594Z"
   },
   {
    "duration": 212,
    "start_time": "2021-12-16T07:49:14.603Z"
   },
   {
    "duration": 194,
    "start_time": "2021-12-16T07:49:14.817Z"
   },
   {
    "duration": 197,
    "start_time": "2021-12-16T07:49:15.013Z"
   },
   {
    "duration": 642,
    "start_time": "2021-12-16T07:49:15.212Z"
   },
   {
    "duration": 217,
    "start_time": "2021-12-16T07:49:15.856Z"
   },
   {
    "duration": 218,
    "start_time": "2021-12-16T07:49:16.075Z"
   },
   {
    "duration": 198,
    "start_time": "2021-12-16T07:49:16.295Z"
   },
   {
    "duration": 666,
    "start_time": "2021-12-16T07:49:16.495Z"
   },
   {
    "duration": 30,
    "start_time": "2021-12-16T07:49:17.163Z"
   },
   {
    "duration": 13,
    "start_time": "2021-12-16T07:49:17.195Z"
   },
   {
    "duration": 37,
    "start_time": "2021-12-16T07:49:17.210Z"
   },
   {
    "duration": 247,
    "start_time": "2021-12-16T07:49:17.249Z"
   },
   {
    "duration": 213,
    "start_time": "2021-12-16T07:49:17.498Z"
   },
   {
    "duration": 9,
    "start_time": "2021-12-16T07:49:17.713Z"
   },
   {
    "duration": 12,
    "start_time": "2021-12-16T07:49:17.724Z"
   },
   {
    "duration": 207,
    "start_time": "2021-12-16T07:49:17.738Z"
   },
   {
    "duration": 224,
    "start_time": "2021-12-16T07:49:17.947Z"
   },
   {
    "duration": 8,
    "start_time": "2021-12-16T07:49:18.172Z"
   },
   {
    "duration": 5,
    "start_time": "2021-12-16T08:16:24.329Z"
   },
   {
    "duration": 8,
    "start_time": "2021-12-16T08:16:52.628Z"
   },
   {
    "duration": 18,
    "start_time": "2021-12-16T08:17:43.746Z"
   },
   {
    "duration": 94,
    "start_time": "2021-12-16T08:39:19.269Z"
   }
  ],
  "kernelspec": {
   "display_name": "Python 3",
   "language": "python",
   "name": "python3"
  },
  "language_info": {
   "codemirror_mode": {
    "name": "ipython",
    "version": 3
   },
   "file_extension": ".py",
   "mimetype": "text/x-python",
   "name": "python",
   "nbconvert_exporter": "python",
   "pygments_lexer": "ipython3",
   "version": "3.7.3"
  },
  "notebookId": "59d02e9c-515c-4e54-8412-196359a2709e",
  "notebookPath": "da-ds-statistics.ipynb",
  "toc": {
   "base_numbering": 1,
   "nav_menu": {},
   "number_sections": true,
   "sideBar": true,
   "skip_h1_title": true,
   "title_cell": "Table of Contents",
   "title_sidebar": "Contents",
   "toc_cell": false,
   "toc_position": {},
   "toc_section_display": true,
   "toc_window_display": true
  }
 },
 "nbformat": 4,
 "nbformat_minor": 4
}
