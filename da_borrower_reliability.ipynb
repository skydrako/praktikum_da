{
 "cells": [
  {
   "cell_type": "markdown",
   "metadata": {},
   "source": [
    "# Исследование надёжности заёмщиков\n",
    "\n",
    "Вопрос надежности заемщиков - один из ключевых вопросов для банковской сферы, особенно в современных условиях, характеризующихся высокой степенью нестабильности. Для проведения анализа обратился кредитный отдел коммерческого банка. Для анализа была предоставлена статистика платёжеспособности клиентов.  \n",
    "Цель анализа: определить влияние семейного положения и количества детей клиента на факт погашения кредита в срок. \n",
    "\n",
    "Результаты исследования будут использоваться для корректировки текущих программ кредитования и для построении модели **кредитного скоринга**, которая позволит автоматически рассчитывать потенциальную платежеспособность заемщиков."
   ]
  },
  {
   "cell_type": "markdown",
   "metadata": {},
   "source": [
    "## Первичный анализ данных"
   ]
  },
  {
   "cell_type": "code",
   "execution_count": 1,
   "metadata": {},
   "outputs": [],
   "source": [
    "# импорт библиотек для работы с данными\n",
    "import pandas as pd\n",
    "import numpy as np\n",
    "from pymystem3 import Mystem\n",
    "m = Mystem()\n",
    "from collections import Counter"
   ]
  },
  {
   "cell_type": "code",
   "execution_count": 2,
   "metadata": {},
   "outputs": [],
   "source": [
    "debt_data = pd.read_csv('/datasets/data.csv') # сохраняем данные в переменную"
   ]
  },
  {
   "cell_type": "code",
   "execution_count": 3,
   "metadata": {},
   "outputs": [
    {
     "data": {
      "text/html": [
       "<div>\n",
       "<style scoped>\n",
       "    .dataframe tbody tr th:only-of-type {\n",
       "        vertical-align: middle;\n",
       "    }\n",
       "\n",
       "    .dataframe tbody tr th {\n",
       "        vertical-align: top;\n",
       "    }\n",
       "\n",
       "    .dataframe thead th {\n",
       "        text-align: right;\n",
       "    }\n",
       "</style>\n",
       "<table border=\"1\" class=\"dataframe\">\n",
       "  <thead>\n",
       "    <tr style=\"text-align: right;\">\n",
       "      <th></th>\n",
       "      <th>children</th>\n",
       "      <th>days_employed</th>\n",
       "      <th>dob_years</th>\n",
       "      <th>education</th>\n",
       "      <th>education_id</th>\n",
       "      <th>family_status</th>\n",
       "      <th>family_status_id</th>\n",
       "      <th>gender</th>\n",
       "      <th>income_type</th>\n",
       "      <th>debt</th>\n",
       "      <th>total_income</th>\n",
       "      <th>purpose</th>\n",
       "    </tr>\n",
       "  </thead>\n",
       "  <tbody>\n",
       "    <tr>\n",
       "      <td>0</td>\n",
       "      <td>1</td>\n",
       "      <td>-8437.673028</td>\n",
       "      <td>42</td>\n",
       "      <td>высшее</td>\n",
       "      <td>0</td>\n",
       "      <td>женат / замужем</td>\n",
       "      <td>0</td>\n",
       "      <td>F</td>\n",
       "      <td>сотрудник</td>\n",
       "      <td>0</td>\n",
       "      <td>253875.639453</td>\n",
       "      <td>покупка жилья</td>\n",
       "    </tr>\n",
       "    <tr>\n",
       "      <td>1</td>\n",
       "      <td>1</td>\n",
       "      <td>-4024.803754</td>\n",
       "      <td>36</td>\n",
       "      <td>среднее</td>\n",
       "      <td>1</td>\n",
       "      <td>женат / замужем</td>\n",
       "      <td>0</td>\n",
       "      <td>F</td>\n",
       "      <td>сотрудник</td>\n",
       "      <td>0</td>\n",
       "      <td>112080.014102</td>\n",
       "      <td>приобретение автомобиля</td>\n",
       "    </tr>\n",
       "    <tr>\n",
       "      <td>2</td>\n",
       "      <td>0</td>\n",
       "      <td>-5623.422610</td>\n",
       "      <td>33</td>\n",
       "      <td>Среднее</td>\n",
       "      <td>1</td>\n",
       "      <td>женат / замужем</td>\n",
       "      <td>0</td>\n",
       "      <td>M</td>\n",
       "      <td>сотрудник</td>\n",
       "      <td>0</td>\n",
       "      <td>145885.952297</td>\n",
       "      <td>покупка жилья</td>\n",
       "    </tr>\n",
       "    <tr>\n",
       "      <td>3</td>\n",
       "      <td>3</td>\n",
       "      <td>-4124.747207</td>\n",
       "      <td>32</td>\n",
       "      <td>среднее</td>\n",
       "      <td>1</td>\n",
       "      <td>женат / замужем</td>\n",
       "      <td>0</td>\n",
       "      <td>M</td>\n",
       "      <td>сотрудник</td>\n",
       "      <td>0</td>\n",
       "      <td>267628.550329</td>\n",
       "      <td>дополнительное образование</td>\n",
       "    </tr>\n",
       "    <tr>\n",
       "      <td>4</td>\n",
       "      <td>0</td>\n",
       "      <td>340266.072047</td>\n",
       "      <td>53</td>\n",
       "      <td>среднее</td>\n",
       "      <td>1</td>\n",
       "      <td>гражданский брак</td>\n",
       "      <td>1</td>\n",
       "      <td>F</td>\n",
       "      <td>пенсионер</td>\n",
       "      <td>0</td>\n",
       "      <td>158616.077870</td>\n",
       "      <td>сыграть свадьбу</td>\n",
       "    </tr>\n",
       "    <tr>\n",
       "      <td>5</td>\n",
       "      <td>0</td>\n",
       "      <td>-926.185831</td>\n",
       "      <td>27</td>\n",
       "      <td>высшее</td>\n",
       "      <td>0</td>\n",
       "      <td>гражданский брак</td>\n",
       "      <td>1</td>\n",
       "      <td>M</td>\n",
       "      <td>компаньон</td>\n",
       "      <td>0</td>\n",
       "      <td>255763.565419</td>\n",
       "      <td>покупка жилья</td>\n",
       "    </tr>\n",
       "    <tr>\n",
       "      <td>6</td>\n",
       "      <td>0</td>\n",
       "      <td>-2879.202052</td>\n",
       "      <td>43</td>\n",
       "      <td>высшее</td>\n",
       "      <td>0</td>\n",
       "      <td>женат / замужем</td>\n",
       "      <td>0</td>\n",
       "      <td>F</td>\n",
       "      <td>компаньон</td>\n",
       "      <td>0</td>\n",
       "      <td>240525.971920</td>\n",
       "      <td>операции с жильем</td>\n",
       "    </tr>\n",
       "    <tr>\n",
       "      <td>7</td>\n",
       "      <td>0</td>\n",
       "      <td>-152.779569</td>\n",
       "      <td>50</td>\n",
       "      <td>СРЕДНЕЕ</td>\n",
       "      <td>1</td>\n",
       "      <td>женат / замужем</td>\n",
       "      <td>0</td>\n",
       "      <td>M</td>\n",
       "      <td>сотрудник</td>\n",
       "      <td>0</td>\n",
       "      <td>135823.934197</td>\n",
       "      <td>образование</td>\n",
       "    </tr>\n",
       "    <tr>\n",
       "      <td>8</td>\n",
       "      <td>2</td>\n",
       "      <td>-6929.865299</td>\n",
       "      <td>35</td>\n",
       "      <td>ВЫСШЕЕ</td>\n",
       "      <td>0</td>\n",
       "      <td>гражданский брак</td>\n",
       "      <td>1</td>\n",
       "      <td>F</td>\n",
       "      <td>сотрудник</td>\n",
       "      <td>0</td>\n",
       "      <td>95856.832424</td>\n",
       "      <td>на проведение свадьбы</td>\n",
       "    </tr>\n",
       "    <tr>\n",
       "      <td>9</td>\n",
       "      <td>0</td>\n",
       "      <td>-2188.756445</td>\n",
       "      <td>41</td>\n",
       "      <td>среднее</td>\n",
       "      <td>1</td>\n",
       "      <td>женат / замужем</td>\n",
       "      <td>0</td>\n",
       "      <td>M</td>\n",
       "      <td>сотрудник</td>\n",
       "      <td>0</td>\n",
       "      <td>144425.938277</td>\n",
       "      <td>покупка жилья для семьи</td>\n",
       "    </tr>\n",
       "    <tr>\n",
       "      <td>10</td>\n",
       "      <td>2</td>\n",
       "      <td>-4171.483647</td>\n",
       "      <td>36</td>\n",
       "      <td>высшее</td>\n",
       "      <td>0</td>\n",
       "      <td>женат / замужем</td>\n",
       "      <td>0</td>\n",
       "      <td>M</td>\n",
       "      <td>компаньон</td>\n",
       "      <td>0</td>\n",
       "      <td>113943.491460</td>\n",
       "      <td>покупка недвижимости</td>\n",
       "    </tr>\n",
       "    <tr>\n",
       "      <td>11</td>\n",
       "      <td>0</td>\n",
       "      <td>-792.701887</td>\n",
       "      <td>40</td>\n",
       "      <td>среднее</td>\n",
       "      <td>1</td>\n",
       "      <td>женат / замужем</td>\n",
       "      <td>0</td>\n",
       "      <td>F</td>\n",
       "      <td>сотрудник</td>\n",
       "      <td>0</td>\n",
       "      <td>77069.234271</td>\n",
       "      <td>покупка коммерческой недвижимости</td>\n",
       "    </tr>\n",
       "    <tr>\n",
       "      <td>12</td>\n",
       "      <td>0</td>\n",
       "      <td>NaN</td>\n",
       "      <td>65</td>\n",
       "      <td>среднее</td>\n",
       "      <td>1</td>\n",
       "      <td>гражданский брак</td>\n",
       "      <td>1</td>\n",
       "      <td>M</td>\n",
       "      <td>пенсионер</td>\n",
       "      <td>0</td>\n",
       "      <td>NaN</td>\n",
       "      <td>сыграть свадьбу</td>\n",
       "    </tr>\n",
       "    <tr>\n",
       "      <td>13</td>\n",
       "      <td>0</td>\n",
       "      <td>-1846.641941</td>\n",
       "      <td>54</td>\n",
       "      <td>неоконченное высшее</td>\n",
       "      <td>2</td>\n",
       "      <td>женат / замужем</td>\n",
       "      <td>0</td>\n",
       "      <td>F</td>\n",
       "      <td>сотрудник</td>\n",
       "      <td>0</td>\n",
       "      <td>130458.228857</td>\n",
       "      <td>приобретение автомобиля</td>\n",
       "    </tr>\n",
       "    <tr>\n",
       "      <td>14</td>\n",
       "      <td>0</td>\n",
       "      <td>-1844.956182</td>\n",
       "      <td>56</td>\n",
       "      <td>высшее</td>\n",
       "      <td>0</td>\n",
       "      <td>гражданский брак</td>\n",
       "      <td>1</td>\n",
       "      <td>F</td>\n",
       "      <td>компаньон</td>\n",
       "      <td>1</td>\n",
       "      <td>165127.911772</td>\n",
       "      <td>покупка жилой недвижимости</td>\n",
       "    </tr>\n",
       "  </tbody>\n",
       "</table>\n",
       "</div>"
      ],
      "text/plain": [
       "    children  days_employed  dob_years            education  education_id  \\\n",
       "0          1   -8437.673028         42               высшее             0   \n",
       "1          1   -4024.803754         36              среднее             1   \n",
       "2          0   -5623.422610         33              Среднее             1   \n",
       "3          3   -4124.747207         32              среднее             1   \n",
       "4          0  340266.072047         53              среднее             1   \n",
       "5          0    -926.185831         27               высшее             0   \n",
       "6          0   -2879.202052         43               высшее             0   \n",
       "7          0    -152.779569         50              СРЕДНЕЕ             1   \n",
       "8          2   -6929.865299         35               ВЫСШЕЕ             0   \n",
       "9          0   -2188.756445         41              среднее             1   \n",
       "10         2   -4171.483647         36               высшее             0   \n",
       "11         0    -792.701887         40              среднее             1   \n",
       "12         0            NaN         65              среднее             1   \n",
       "13         0   -1846.641941         54  неоконченное высшее             2   \n",
       "14         0   -1844.956182         56               высшее             0   \n",
       "\n",
       "       family_status  family_status_id gender income_type  debt  \\\n",
       "0    женат / замужем                 0      F   сотрудник     0   \n",
       "1    женат / замужем                 0      F   сотрудник     0   \n",
       "2    женат / замужем                 0      M   сотрудник     0   \n",
       "3    женат / замужем                 0      M   сотрудник     0   \n",
       "4   гражданский брак                 1      F   пенсионер     0   \n",
       "5   гражданский брак                 1      M   компаньон     0   \n",
       "6    женат / замужем                 0      F   компаньон     0   \n",
       "7    женат / замужем                 0      M   сотрудник     0   \n",
       "8   гражданский брак                 1      F   сотрудник     0   \n",
       "9    женат / замужем                 0      M   сотрудник     0   \n",
       "10   женат / замужем                 0      M   компаньон     0   \n",
       "11   женат / замужем                 0      F   сотрудник     0   \n",
       "12  гражданский брак                 1      M   пенсионер     0   \n",
       "13   женат / замужем                 0      F   сотрудник     0   \n",
       "14  гражданский брак                 1      F   компаньон     1   \n",
       "\n",
       "     total_income                            purpose  \n",
       "0   253875.639453                      покупка жилья  \n",
       "1   112080.014102            приобретение автомобиля  \n",
       "2   145885.952297                      покупка жилья  \n",
       "3   267628.550329         дополнительное образование  \n",
       "4   158616.077870                    сыграть свадьбу  \n",
       "5   255763.565419                      покупка жилья  \n",
       "6   240525.971920                  операции с жильем  \n",
       "7   135823.934197                        образование  \n",
       "8    95856.832424              на проведение свадьбы  \n",
       "9   144425.938277            покупка жилья для семьи  \n",
       "10  113943.491460               покупка недвижимости  \n",
       "11   77069.234271  покупка коммерческой недвижимости  \n",
       "12            NaN                    сыграть свадьбу  \n",
       "13  130458.228857            приобретение автомобиля  \n",
       "14  165127.911772         покупка жилой недвижимости  "
      ]
     },
     "execution_count": 3,
     "metadata": {},
     "output_type": "execute_result"
    }
   ],
   "source": [
    "# визуальная оценка данных \n",
    "debt_data.head(15)"
   ]
  },
  {
   "cell_type": "code",
   "execution_count": 4,
   "metadata": {},
   "outputs": [
    {
     "data": {
      "text/html": [
       "<div>\n",
       "<style scoped>\n",
       "    .dataframe tbody tr th:only-of-type {\n",
       "        vertical-align: middle;\n",
       "    }\n",
       "\n",
       "    .dataframe tbody tr th {\n",
       "        vertical-align: top;\n",
       "    }\n",
       "\n",
       "    .dataframe thead th {\n",
       "        text-align: right;\n",
       "    }\n",
       "</style>\n",
       "<table border=\"1\" class=\"dataframe\">\n",
       "  <thead>\n",
       "    <tr style=\"text-align: right;\">\n",
       "      <th></th>\n",
       "      <th>children</th>\n",
       "      <th>days_employed</th>\n",
       "      <th>dob_years</th>\n",
       "      <th>education</th>\n",
       "      <th>education_id</th>\n",
       "      <th>family_status</th>\n",
       "      <th>family_status_id</th>\n",
       "      <th>gender</th>\n",
       "      <th>income_type</th>\n",
       "      <th>debt</th>\n",
       "      <th>total_income</th>\n",
       "      <th>purpose</th>\n",
       "    </tr>\n",
       "  </thead>\n",
       "  <tbody>\n",
       "    <tr>\n",
       "      <td>12412</td>\n",
       "      <td>0</td>\n",
       "      <td>-1477.438114</td>\n",
       "      <td>44</td>\n",
       "      <td>высшее</td>\n",
       "      <td>0</td>\n",
       "      <td>женат / замужем</td>\n",
       "      <td>0</td>\n",
       "      <td>M</td>\n",
       "      <td>компаньон</td>\n",
       "      <td>0</td>\n",
       "      <td>2.265604e+06</td>\n",
       "      <td>ремонт жилью</td>\n",
       "    </tr>\n",
       "    <tr>\n",
       "      <td>19606</td>\n",
       "      <td>1</td>\n",
       "      <td>-2577.664662</td>\n",
       "      <td>39</td>\n",
       "      <td>высшее</td>\n",
       "      <td>0</td>\n",
       "      <td>женат / замужем</td>\n",
       "      <td>0</td>\n",
       "      <td>M</td>\n",
       "      <td>компаньон</td>\n",
       "      <td>1</td>\n",
       "      <td>2.200852e+06</td>\n",
       "      <td>строительство недвижимости</td>\n",
       "    </tr>\n",
       "    <tr>\n",
       "      <td>9169</td>\n",
       "      <td>1</td>\n",
       "      <td>-5248.554336</td>\n",
       "      <td>35</td>\n",
       "      <td>среднее</td>\n",
       "      <td>1</td>\n",
       "      <td>гражданский брак</td>\n",
       "      <td>1</td>\n",
       "      <td>M</td>\n",
       "      <td>сотрудник</td>\n",
       "      <td>0</td>\n",
       "      <td>1.726276e+06</td>\n",
       "      <td>дополнительное образование</td>\n",
       "    </tr>\n",
       "    <tr>\n",
       "      <td>20809</td>\n",
       "      <td>0</td>\n",
       "      <td>-4719.273476</td>\n",
       "      <td>61</td>\n",
       "      <td>среднее</td>\n",
       "      <td>1</td>\n",
       "      <td>Не женат / не замужем</td>\n",
       "      <td>4</td>\n",
       "      <td>F</td>\n",
       "      <td>сотрудник</td>\n",
       "      <td>0</td>\n",
       "      <td>1.715018e+06</td>\n",
       "      <td>покупка жилья для семьи</td>\n",
       "    </tr>\n",
       "    <tr>\n",
       "      <td>17178</td>\n",
       "      <td>0</td>\n",
       "      <td>-5734.127087</td>\n",
       "      <td>42</td>\n",
       "      <td>высшее</td>\n",
       "      <td>0</td>\n",
       "      <td>гражданский брак</td>\n",
       "      <td>1</td>\n",
       "      <td>M</td>\n",
       "      <td>компаньон</td>\n",
       "      <td>0</td>\n",
       "      <td>1.711309e+06</td>\n",
       "      <td>сыграть свадьбу</td>\n",
       "    </tr>\n",
       "    <tr>\n",
       "      <td>17503</td>\n",
       "      <td>0</td>\n",
       "      <td>-2285.476482</td>\n",
       "      <td>43</td>\n",
       "      <td>среднее</td>\n",
       "      <td>1</td>\n",
       "      <td>женат / замужем</td>\n",
       "      <td>0</td>\n",
       "      <td>M</td>\n",
       "      <td>компаньон</td>\n",
       "      <td>0</td>\n",
       "      <td>1.597613e+06</td>\n",
       "      <td>операции с недвижимостью</td>\n",
       "    </tr>\n",
       "    <tr>\n",
       "      <td>18368</td>\n",
       "      <td>1</td>\n",
       "      <td>-333.935516</td>\n",
       "      <td>41</td>\n",
       "      <td>ВЫСШЕЕ</td>\n",
       "      <td>0</td>\n",
       "      <td>гражданский брак</td>\n",
       "      <td>1</td>\n",
       "      <td>M</td>\n",
       "      <td>компаньон</td>\n",
       "      <td>0</td>\n",
       "      <td>1.551153e+06</td>\n",
       "      <td>свадьба</td>\n",
       "    </tr>\n",
       "    <tr>\n",
       "      <td>18353</td>\n",
       "      <td>1</td>\n",
       "      <td>-3173.282035</td>\n",
       "      <td>41</td>\n",
       "      <td>высшее</td>\n",
       "      <td>0</td>\n",
       "      <td>Не женат / не замужем</td>\n",
       "      <td>4</td>\n",
       "      <td>F</td>\n",
       "      <td>компаньон</td>\n",
       "      <td>0</td>\n",
       "      <td>1.427934e+06</td>\n",
       "      <td>автомобиль</td>\n",
       "    </tr>\n",
       "    <tr>\n",
       "      <td>15268</td>\n",
       "      <td>1</td>\n",
       "      <td>-10207.448165</td>\n",
       "      <td>64</td>\n",
       "      <td>высшее</td>\n",
       "      <td>0</td>\n",
       "      <td>в разводе</td>\n",
       "      <td>3</td>\n",
       "      <td>M</td>\n",
       "      <td>компаньон</td>\n",
       "      <td>0</td>\n",
       "      <td>1.350246e+06</td>\n",
       "      <td>жилье</td>\n",
       "    </tr>\n",
       "    <tr>\n",
       "      <td>11071</td>\n",
       "      <td>1</td>\n",
       "      <td>-1851.200013</td>\n",
       "      <td>36</td>\n",
       "      <td>высшее</td>\n",
       "      <td>0</td>\n",
       "      <td>гражданский брак</td>\n",
       "      <td>1</td>\n",
       "      <td>F</td>\n",
       "      <td>сотрудник</td>\n",
       "      <td>0</td>\n",
       "      <td>1.286281e+06</td>\n",
       "      <td>покупка коммерческой недвижимости</td>\n",
       "    </tr>\n",
       "  </tbody>\n",
       "</table>\n",
       "</div>"
      ],
      "text/plain": [
       "       children  days_employed  dob_years education  education_id  \\\n",
       "12412         0   -1477.438114         44    высшее             0   \n",
       "19606         1   -2577.664662         39    высшее             0   \n",
       "9169          1   -5248.554336         35   среднее             1   \n",
       "20809         0   -4719.273476         61   среднее             1   \n",
       "17178         0   -5734.127087         42    высшее             0   \n",
       "17503         0   -2285.476482         43   среднее             1   \n",
       "18368         1    -333.935516         41    ВЫСШЕЕ             0   \n",
       "18353         1   -3173.282035         41    высшее             0   \n",
       "15268         1  -10207.448165         64    высшее             0   \n",
       "11071         1   -1851.200013         36    высшее             0   \n",
       "\n",
       "               family_status  family_status_id gender income_type  debt  \\\n",
       "12412        женат / замужем                 0      M   компаньон     0   \n",
       "19606        женат / замужем                 0      M   компаньон     1   \n",
       "9169        гражданский брак                 1      M   сотрудник     0   \n",
       "20809  Не женат / не замужем                 4      F   сотрудник     0   \n",
       "17178       гражданский брак                 1      M   компаньон     0   \n",
       "17503        женат / замужем                 0      M   компаньон     0   \n",
       "18368       гражданский брак                 1      M   компаньон     0   \n",
       "18353  Не женат / не замужем                 4      F   компаньон     0   \n",
       "15268              в разводе                 3      M   компаньон     0   \n",
       "11071       гражданский брак                 1      F   сотрудник     0   \n",
       "\n",
       "       total_income                            purpose  \n",
       "12412  2.265604e+06                       ремонт жилью  \n",
       "19606  2.200852e+06         строительство недвижимости  \n",
       "9169   1.726276e+06         дополнительное образование  \n",
       "20809  1.715018e+06            покупка жилья для семьи  \n",
       "17178  1.711309e+06                    сыграть свадьбу  \n",
       "17503  1.597613e+06           операции с недвижимостью  \n",
       "18368  1.551153e+06                            свадьба  \n",
       "18353  1.427934e+06                         автомобиль  \n",
       "15268  1.350246e+06                              жилье  \n",
       "11071  1.286281e+06  покупка коммерческой недвижимости  "
      ]
     },
     "execution_count": 4,
     "metadata": {},
     "output_type": "execute_result"
    }
   ],
   "source": [
    "# визуальная оценка максимальных значений по столбцу total_income\n",
    "debt_data.sort_values(by='total_income', ascending=False).head(10)"
   ]
  },
  {
   "cell_type": "code",
   "execution_count": 5,
   "metadata": {},
   "outputs": [
    {
     "name": "stdout",
     "output_type": "stream",
     "text": [
      "<class 'pandas.core.frame.DataFrame'>\n",
      "RangeIndex: 21525 entries, 0 to 21524\n",
      "Data columns (total 12 columns):\n",
      "children            21525 non-null int64\n",
      "days_employed       19351 non-null float64\n",
      "dob_years           21525 non-null int64\n",
      "education           21525 non-null object\n",
      "education_id        21525 non-null int64\n",
      "family_status       21525 non-null object\n",
      "family_status_id    21525 non-null int64\n",
      "gender              21525 non-null object\n",
      "income_type         21525 non-null object\n",
      "debt                21525 non-null int64\n",
      "total_income        19351 non-null float64\n",
      "purpose             21525 non-null object\n",
      "dtypes: float64(2), int64(5), object(5)\n",
      "memory usage: 2.0+ MB\n"
     ]
    }
   ],
   "source": [
    "# получаем общую информацию о данных\n",
    "debt_data.info()"
   ]
  },
  {
   "cell_type": "markdown",
   "metadata": {},
   "source": [
    "**Вывод**\n",
    "Для анализа предоставлен массив данных по платежеспособности заемщиков банка. Всего в таблице 12 столбцов и 21525 записей.\n",
    "Для данных в каждом столбцк выбран соответствующий им тип данных. Все столбцы имеют корректное наименование.\n",
    "\n",
    "По результатам общего анализа данных выявлено, что часть данных в таблице указана некорректна. А именно:\n",
    "* В столбцах days_employed - трудовой стаж и total_income - уровень дохода имеются пропущенные занчения. Для корректного использования данных в этих столбца необходимо будет заполнить пустые значения.\n",
    "* Отсутствует единый шаблон для заполнения столбцов education - уровень образования и purpose - цель кредита. Например цель кредита \"на проведение свадьбы\" и \"сыграть свадьбу\" относятся к одной категорииб но записаны по разному. Для проведения корректного категориального анализа требуется привести данные к единому шаблону.\n",
    "* Помимо пропусков в столбце days_employed имеются отрицательные значения, что расходится со здравым смыслом т.к. стаж человека не может быть меньше 0.\n",
    "* В столбце total_income при визуальном анализе данных видны непонятные для человеческого понимания значения дохода. Необходимо будет проверить влияет ли вид данных на результаты анализа и привести данные к понятному для чтения формату.\n",
    "\n",
    "Во время общей проверки данных явные дубликаты строк не выявлены, но необходимо будет провести дополнительную проверку данных на наличие дубликатов.\n",
    "\n",
    "Предварительно можно сказать, что данных достаточно для проверки выдвинутых гипотез, но требуется сначала устранть выявленные замечания и провести дополнительные проверки на корректность данных."
   ]
  },
  {
   "cell_type": "markdown",
   "metadata": {},
   "source": [
    "## Предобработка данных"
   ]
  },
  {
   "cell_type": "markdown",
   "metadata": {},
   "source": [
    "### 1. Обработка пропусков"
   ]
  },
  {
   "cell_type": "code",
   "execution_count": 6,
   "metadata": {},
   "outputs": [
    {
     "name": "stdout",
     "output_type": "stream",
     "text": [
      "Количество пропущенных значений в данных: 2174, что составляет 11.23% от всей совокупности данных\n"
     ]
    }
   ],
   "source": [
    "# подсчет количества пропущенных значений в данных\n",
    "total_rows = debt_data['total_income'].count()\n",
    "total_missing = debt_data['total_income'].isna().sum()\n",
    "print('Количество пропущенных значений в данных: {}, что составляет {:.2%} от всей совокупности данных'.format(total_missing, total_missing / total_rows))"
   ]
  },
  {
   "cell_type": "markdown",
   "metadata": {},
   "source": [
    "Пропущенные данные составляют более 10% выборки. Исключение этих данных с большой вероятностью может привести к искажению результатов анализа. Следовательно пропуски необходимо заполнить. Т.к. данные в столбцах с пропусками количественные, их можно заполнить либо средним значением по столбцу, либо медианным значением. Ниже представлен анализ, позволяющий определить как из значений корректно использовать для заполнения пропусков."
   ]
  },
  {
   "cell_type": "code",
   "execution_count": 7,
   "metadata": {},
   "outputs": [
    {
     "data": {
      "text/plain": [
       "<matplotlib.axes._subplots.AxesSubplot at 0x7f93d84c1050>"
      ]
     },
     "execution_count": 7,
     "metadata": {},
     "output_type": "execute_result"
    },
    {
     "data": {
      "image/png": "[encoded data removed]",
      "text/plain": [
       "<Figure size 432x288 with 1 Axes>"
      ]
     },
     "metadata": {
      "needs_background": "light"
     },
     "output_type": "display_data"
    }
   ],
   "source": [
    "# гистограмма распределения дней трудового стажа\n",
    "debt_data['days_employed'].plot(kind='hist')"
   ]
  },
  {
   "cell_type": "code",
   "execution_count": 8,
   "metadata": {},
   "outputs": [
    {
     "data": {
      "text/html": [
       "<div>\n",
       "<style scoped>\n",
       "    .dataframe tbody tr th:only-of-type {\n",
       "        vertical-align: middle;\n",
       "    }\n",
       "\n",
       "    .dataframe tbody tr th {\n",
       "        vertical-align: top;\n",
       "    }\n",
       "\n",
       "    .dataframe thead th {\n",
       "        text-align: right;\n",
       "    }\n",
       "</style>\n",
       "<table border=\"1\" class=\"dataframe\">\n",
       "  <thead>\n",
       "    <tr style=\"text-align: right;\">\n",
       "      <th></th>\n",
       "      <th>children</th>\n",
       "      <th>days_employed</th>\n",
       "      <th>dob_years</th>\n",
       "      <th>education</th>\n",
       "      <th>education_id</th>\n",
       "      <th>family_status</th>\n",
       "      <th>family_status_id</th>\n",
       "      <th>gender</th>\n",
       "      <th>income_type</th>\n",
       "      <th>debt</th>\n",
       "      <th>total_income</th>\n",
       "      <th>purpose</th>\n",
       "    </tr>\n",
       "  </thead>\n",
       "  <tbody>\n",
       "    <tr>\n",
       "      <td>0</td>\n",
       "      <td>1</td>\n",
       "      <td>8437.673028</td>\n",
       "      <td>42</td>\n",
       "      <td>высшее</td>\n",
       "      <td>0</td>\n",
       "      <td>женат / замужем</td>\n",
       "      <td>0</td>\n",
       "      <td>F</td>\n",
       "      <td>сотрудник</td>\n",
       "      <td>0</td>\n",
       "      <td>253875.639453</td>\n",
       "      <td>покупка жилья</td>\n",
       "    </tr>\n",
       "    <tr>\n",
       "      <td>1</td>\n",
       "      <td>1</td>\n",
       "      <td>4024.803754</td>\n",
       "      <td>36</td>\n",
       "      <td>среднее</td>\n",
       "      <td>1</td>\n",
       "      <td>женат / замужем</td>\n",
       "      <td>0</td>\n",
       "      <td>F</td>\n",
       "      <td>сотрудник</td>\n",
       "      <td>0</td>\n",
       "      <td>112080.014102</td>\n",
       "      <td>приобретение автомобиля</td>\n",
       "    </tr>\n",
       "    <tr>\n",
       "      <td>2</td>\n",
       "      <td>0</td>\n",
       "      <td>5623.422610</td>\n",
       "      <td>33</td>\n",
       "      <td>Среднее</td>\n",
       "      <td>1</td>\n",
       "      <td>женат / замужем</td>\n",
       "      <td>0</td>\n",
       "      <td>M</td>\n",
       "      <td>сотрудник</td>\n",
       "      <td>0</td>\n",
       "      <td>145885.952297</td>\n",
       "      <td>покупка жилья</td>\n",
       "    </tr>\n",
       "    <tr>\n",
       "      <td>3</td>\n",
       "      <td>3</td>\n",
       "      <td>4124.747207</td>\n",
       "      <td>32</td>\n",
       "      <td>среднее</td>\n",
       "      <td>1</td>\n",
       "      <td>женат / замужем</td>\n",
       "      <td>0</td>\n",
       "      <td>M</td>\n",
       "      <td>сотрудник</td>\n",
       "      <td>0</td>\n",
       "      <td>267628.550329</td>\n",
       "      <td>дополнительное образование</td>\n",
       "    </tr>\n",
       "    <tr>\n",
       "      <td>4</td>\n",
       "      <td>0</td>\n",
       "      <td>340266.072047</td>\n",
       "      <td>53</td>\n",
       "      <td>среднее</td>\n",
       "      <td>1</td>\n",
       "      <td>гражданский брак</td>\n",
       "      <td>1</td>\n",
       "      <td>F</td>\n",
       "      <td>пенсионер</td>\n",
       "      <td>0</td>\n",
       "      <td>158616.077870</td>\n",
       "      <td>сыграть свадьбу</td>\n",
       "    </tr>\n",
       "    <tr>\n",
       "      <td>5</td>\n",
       "      <td>0</td>\n",
       "      <td>926.185831</td>\n",
       "      <td>27</td>\n",
       "      <td>высшее</td>\n",
       "      <td>0</td>\n",
       "      <td>гражданский брак</td>\n",
       "      <td>1</td>\n",
       "      <td>M</td>\n",
       "      <td>компаньон</td>\n",
       "      <td>0</td>\n",
       "      <td>255763.565419</td>\n",
       "      <td>покупка жилья</td>\n",
       "    </tr>\n",
       "    <tr>\n",
       "      <td>6</td>\n",
       "      <td>0</td>\n",
       "      <td>2879.202052</td>\n",
       "      <td>43</td>\n",
       "      <td>высшее</td>\n",
       "      <td>0</td>\n",
       "      <td>женат / замужем</td>\n",
       "      <td>0</td>\n",
       "      <td>F</td>\n",
       "      <td>компаньон</td>\n",
       "      <td>0</td>\n",
       "      <td>240525.971920</td>\n",
       "      <td>операции с жильем</td>\n",
       "    </tr>\n",
       "    <tr>\n",
       "      <td>7</td>\n",
       "      <td>0</td>\n",
       "      <td>152.779569</td>\n",
       "      <td>50</td>\n",
       "      <td>СРЕДНЕЕ</td>\n",
       "      <td>1</td>\n",
       "      <td>женат / замужем</td>\n",
       "      <td>0</td>\n",
       "      <td>M</td>\n",
       "      <td>сотрудник</td>\n",
       "      <td>0</td>\n",
       "      <td>135823.934197</td>\n",
       "      <td>образование</td>\n",
       "    </tr>\n",
       "    <tr>\n",
       "      <td>8</td>\n",
       "      <td>2</td>\n",
       "      <td>6929.865299</td>\n",
       "      <td>35</td>\n",
       "      <td>ВЫСШЕЕ</td>\n",
       "      <td>0</td>\n",
       "      <td>гражданский брак</td>\n",
       "      <td>1</td>\n",
       "      <td>F</td>\n",
       "      <td>сотрудник</td>\n",
       "      <td>0</td>\n",
       "      <td>95856.832424</td>\n",
       "      <td>на проведение свадьбы</td>\n",
       "    </tr>\n",
       "    <tr>\n",
       "      <td>9</td>\n",
       "      <td>0</td>\n",
       "      <td>2188.756445</td>\n",
       "      <td>41</td>\n",
       "      <td>среднее</td>\n",
       "      <td>1</td>\n",
       "      <td>женат / замужем</td>\n",
       "      <td>0</td>\n",
       "      <td>M</td>\n",
       "      <td>сотрудник</td>\n",
       "      <td>0</td>\n",
       "      <td>144425.938277</td>\n",
       "      <td>покупка жилья для семьи</td>\n",
       "    </tr>\n",
       "    <tr>\n",
       "      <td>10</td>\n",
       "      <td>2</td>\n",
       "      <td>4171.483647</td>\n",
       "      <td>36</td>\n",
       "      <td>высшее</td>\n",
       "      <td>0</td>\n",
       "      <td>женат / замужем</td>\n",
       "      <td>0</td>\n",
       "      <td>M</td>\n",
       "      <td>компаньон</td>\n",
       "      <td>0</td>\n",
       "      <td>113943.491460</td>\n",
       "      <td>покупка недвижимости</td>\n",
       "    </tr>\n",
       "    <tr>\n",
       "      <td>11</td>\n",
       "      <td>0</td>\n",
       "      <td>792.701887</td>\n",
       "      <td>40</td>\n",
       "      <td>среднее</td>\n",
       "      <td>1</td>\n",
       "      <td>женат / замужем</td>\n",
       "      <td>0</td>\n",
       "      <td>F</td>\n",
       "      <td>сотрудник</td>\n",
       "      <td>0</td>\n",
       "      <td>77069.234271</td>\n",
       "      <td>покупка коммерческой недвижимости</td>\n",
       "    </tr>\n",
       "    <tr>\n",
       "      <td>12</td>\n",
       "      <td>0</td>\n",
       "      <td>NaN</td>\n",
       "      <td>65</td>\n",
       "      <td>среднее</td>\n",
       "      <td>1</td>\n",
       "      <td>гражданский брак</td>\n",
       "      <td>1</td>\n",
       "      <td>M</td>\n",
       "      <td>пенсионер</td>\n",
       "      <td>0</td>\n",
       "      <td>NaN</td>\n",
       "      <td>сыграть свадьбу</td>\n",
       "    </tr>\n",
       "    <tr>\n",
       "      <td>13</td>\n",
       "      <td>0</td>\n",
       "      <td>1846.641941</td>\n",
       "      <td>54</td>\n",
       "      <td>неоконченное высшее</td>\n",
       "      <td>2</td>\n",
       "      <td>женат / замужем</td>\n",
       "      <td>0</td>\n",
       "      <td>F</td>\n",
       "      <td>сотрудник</td>\n",
       "      <td>0</td>\n",
       "      <td>130458.228857</td>\n",
       "      <td>приобретение автомобиля</td>\n",
       "    </tr>\n",
       "    <tr>\n",
       "      <td>14</td>\n",
       "      <td>0</td>\n",
       "      <td>1844.956182</td>\n",
       "      <td>56</td>\n",
       "      <td>высшее</td>\n",
       "      <td>0</td>\n",
       "      <td>гражданский брак</td>\n",
       "      <td>1</td>\n",
       "      <td>F</td>\n",
       "      <td>компаньон</td>\n",
       "      <td>1</td>\n",
       "      <td>165127.911772</td>\n",
       "      <td>покупка жилой недвижимости</td>\n",
       "    </tr>\n",
       "  </tbody>\n",
       "</table>\n",
       "</div>"
      ],
      "text/plain": [
       "    children  days_employed  dob_years            education  education_id  \\\n",
       "0          1    8437.673028         42               высшее             0   \n",
       "1          1    4024.803754         36              среднее             1   \n",
       "2          0    5623.422610         33              Среднее             1   \n",
       "3          3    4124.747207         32              среднее             1   \n",
       "4          0  340266.072047         53              среднее             1   \n",
       "5          0     926.185831         27               высшее             0   \n",
       "6          0    2879.202052         43               высшее             0   \n",
       "7          0     152.779569         50              СРЕДНЕЕ             1   \n",
       "8          2    6929.865299         35               ВЫСШЕЕ             0   \n",
       "9          0    2188.756445         41              среднее             1   \n",
       "10         2    4171.483647         36               высшее             0   \n",
       "11         0     792.701887         40              среднее             1   \n",
       "12         0            NaN         65              среднее             1   \n",
       "13         0    1846.641941         54  неоконченное высшее             2   \n",
       "14         0    1844.956182         56               высшее             0   \n",
       "\n",
       "       family_status  family_status_id gender income_type  debt  \\\n",
       "0    женат / замужем                 0      F   сотрудник     0   \n",
       "1    женат / замужем                 0      F   сотрудник     0   \n",
       "2    женат / замужем                 0      M   сотрудник     0   \n",
       "3    женат / замужем                 0      M   сотрудник     0   \n",
       "4   гражданский брак                 1      F   пенсионер     0   \n",
       "5   гражданский брак                 1      M   компаньон     0   \n",
       "6    женат / замужем                 0      F   компаньон     0   \n",
       "7    женат / замужем                 0      M   сотрудник     0   \n",
       "8   гражданский брак                 1      F   сотрудник     0   \n",
       "9    женат / замужем                 0      M   сотрудник     0   \n",
       "10   женат / замужем                 0      M   компаньон     0   \n",
       "11   женат / замужем                 0      F   сотрудник     0   \n",
       "12  гражданский брак                 1      M   пенсионер     0   \n",
       "13   женат / замужем                 0      F   сотрудник     0   \n",
       "14  гражданский брак                 1      F   компаньон     1   \n",
       "\n",
       "     total_income                            purpose  \n",
       "0   253875.639453                      покупка жилья  \n",
       "1   112080.014102            приобретение автомобиля  \n",
       "2   145885.952297                      покупка жилья  \n",
       "3   267628.550329         дополнительное образование  \n",
       "4   158616.077870                    сыграть свадьбу  \n",
       "5   255763.565419                      покупка жилья  \n",
       "6   240525.971920                  операции с жильем  \n",
       "7   135823.934197                        образование  \n",
       "8    95856.832424              на проведение свадьбы  \n",
       "9   144425.938277            покупка жилья для семьи  \n",
       "10  113943.491460               покупка недвижимости  \n",
       "11   77069.234271  покупка коммерческой недвижимости  \n",
       "12            NaN                    сыграть свадьбу  \n",
       "13  130458.228857            приобретение автомобиля  \n",
       "14  165127.911772         покупка жилой недвижимости  "
      ]
     },
     "execution_count": 8,
     "metadata": {},
     "output_type": "execute_result"
    }
   ],
   "source": [
    "# устранение отрицательных значений в столбце с днём трудового стажа\n",
    "debt_data['days_employed'] = debt_data['days_employed'].abs()\n",
    "debt_data.head(15)"
   ]
  },
  {
   "cell_type": "code",
   "execution_count": 9,
   "metadata": {},
   "outputs": [
    {
     "data": {
      "text/plain": [
       "<matplotlib.axes._subplots.AxesSubplot at 0x7f936a27c590>"
      ]
     },
     "execution_count": 9,
     "metadata": {},
     "output_type": "execute_result"
    },
    {
     "data": {
      "image/png": "[encoded data removed]",
      "text/plain": [
       "<Figure size 432x288 with 1 Axes>"
      ]
     },
     "metadata": {
      "needs_background": "light"
     },
     "output_type": "display_data"
    }
   ],
   "source": [
    "# гистограмма распределения дней трудового стажа\n",
    "debt_data['days_employed'].plot(kind='hist')"
   ]
  },
  {
   "cell_type": "markdown",
   "metadata": {},
   "source": [
    "После устранения отрицательных значений как и на предыдущей гистограмме видно, что около 3,5 тысяч записей имеют трудовой стаж существенно превышающий трудовой стаж в остальных наблюдениях. Данные значения не могут быть исключены из выборки т.к. составляют более 10% выборки. Наличие такого большого количества выбросов не позволяет использовать для заполнения пропущенных значений среднюю величину трудового стажа по выборке. Поэтому для заполнения пропущенных значений будет использоваться медиана."
   ]
  },
  {
   "cell_type": "code",
   "execution_count": 10,
   "metadata": {},
   "outputs": [
    {
     "name": "stdout",
     "output_type": "stream",
     "text": [
      "Медианное значение трудового стажа: 2194.22 дней, или 6.01 лет.\n"
     ]
    }
   ],
   "source": [
    "# Расчет медианого значения для трудового стажа\n",
    "days_employed_median = debt_data['days_employed'].median()\n",
    "print('Медианное значение трудового стажа: {:.2f} дней,'.format(days_employed_median), 'или {:.2f} лет.'.format(days_employed_median / 365))"
   ]
  },
  {
   "cell_type": "markdown",
   "metadata": {},
   "source": [
    "Медианное значение по всей выборке составляет 6 лет,ч то достаточно мало, т.к. в выборке есть пенсионеры и люди предпенсионного возраста. Кроме этого существует несколько типов занятости, для которых трудовой стаж может существенно отличаться. Рассчитаем медианные значения по каждому типу занятости."
   ]
  },
  {
   "cell_type": "code",
   "execution_count": 11,
   "metadata": {},
   "outputs": [
    {
     "name": "stdout",
     "output_type": "stream",
     "text": [
      "Медианное значение трудового стажа по категории сотрудник составляет 1574.20 дней.\n",
      "Медианное значение трудового стажа по категории пенсионер составляет 365213.31 дней.\n",
      "Медианное значение трудового стажа по категории компаньон составляет 1547.38 дней.\n",
      "Медианное значение трудового стажа по категории госслужащий составляет 2689.37 дней.\n",
      "Медианное значение трудового стажа по категории безработный составляет 366413.65 дней.\n",
      "Медианное значение трудового стажа по категории предприниматель составляет 520.85 дней.\n",
      "Медианное значение трудового стажа по категории студент составляет 578.75 дней.\n",
      "Медианное значение трудового стажа по категории в декрете составляет 3296.76 дней.\n"
     ]
    }
   ],
   "source": [
    "# определяем типы занятости\n",
    "income_type_list = debt_data['income_type'].unique().tolist()\n",
    "# рассчитываем и выводим медианное значение трудового стажа в зависимости от типа занятости.\n",
    "for inc_type in income_type_list:\n",
    "    print('Медианное значение трудового стажа по категории {} составляет {:.2f} дней.'.format(inc_type, debt_data[debt_data['income_type'] == inc_type]['days_employed'].median()))"
   ]
  },
  {
   "cell_type": "markdown",
   "metadata": {},
   "source": [
    "Гипотеза о различии показателя трудового стажа в заивисмости от типа занятости подтвердилась. Пропуски в столбце с трудовым стажем корректно будет заполнить медианными значениями в зависимости от типа занятости.\n",
    "Остаются две проблемные категории, по которым значения трудового стажа сильно завышены - это пенсионеры и безработные.\n",
    "Т.к. безработным может стать участник любой другой категории, то для исправления значений по безработным будем использовать медианное значение по всей выборке.\n",
    "Для пенсионеров рассчитаем медианное значение трудового стажа для людей предпенсионного возраста: для женщин старше 50 лет и для мужчин старше 55 лет."
   ]
  },
  {
   "cell_type": "code",
   "execution_count": 12,
   "metadata": {},
   "outputs": [
    {
     "name": "stdout",
     "output_type": "stream",
     "text": [
      "Медианное значение трудового стажа для пожилых людей составляет 2194.22 дня.\n"
     ]
    }
   ],
   "source": [
    "# рассчитываем медианное значение трудового стажа для женщин старше 50 лет и для мужчин старше 55 лет\n",
    "old_people_days_employed_median = debt_data[((debt_data['dob_years'] >= 50) & (debt_data['gender'] == 'F') | (debt_data['dob_years'] >= 55) & (debt_data['gender'] == 'M')) & debt_data['days_employed'] < 300000]['days_employed'].median()\n",
    "print('Медианное значение трудового стажа для пожилых людей составляет {:.2f} дня.'.format(old_people_days_employed_median))"
   ]
  },
  {
   "cell_type": "markdown",
   "metadata": {},
   "source": [
    "По результатам проведенного анализа были получены значения, которые будут заменять пропуски и неадекватно большие значения трудового стажа. Замена будет производиться для каждого типа занятости:\n",
    "* для категории \"сотрудник\" - **1574.20** дней;\n",
    "* для категории \"компаньон\" - **1547.38** дней;\n",
    "* для категории \"пенсионер\" - **2194.22** дней;\n",
    "* для категории \"госслужащий\" - **2689.37** дней;\n",
    "* для категории \"предприниматель\" - **520.85** дней;\n",
    "* для категории \"безработные\" - **2194.22** дней;\n",
    "* для категории \"студент\" - **578.75** дней;\n",
    "* для категории \"в декрете\" - **3296.76** дней."
   ]
  },
  {
   "cell_type": "code",
   "execution_count": 13,
   "metadata": {},
   "outputs": [
    {
     "data": {
      "text/plain": [
       "['пенсионер', 'госслужащий', 'компаньон', 'сотрудник', 'предприниматель']"
      ]
     },
     "execution_count": 13,
     "metadata": {},
     "output_type": "execute_result"
    }
   ],
   "source": [
    "# определим категории источнико доходов, для которых имеются пропуски в столбце \"трудовой стаж\" \n",
    "debt_data[debt_data['days_employed'].isna()]['income_type'].unique().tolist()"
   ]
  },
  {
   "cell_type": "code",
   "execution_count": 14,
   "metadata": {},
   "outputs": [],
   "source": [
    "# заполним пропуски данных в столбце days_employed\n",
    "debt_data.loc[(debt_data.income_type == 'пенсионер') & (pd.isna(debt_data.days_employed)),'days_employed'] = 2194.22\n",
    "debt_data.loc[(debt_data.income_type == 'госслужащий') & (pd.isna(debt_data.days_employed)),'days_employed'] = 2689.37\n",
    "debt_data.loc[(debt_data.income_type == 'компаньон') & (pd.isna(debt_data.days_employed)),'days_employed'] = 1547.38\n",
    "debt_data.loc[(debt_data.income_type == 'сотрудник') & (pd.isna(debt_data.days_employed)),'days_employed'] = 1574.20\n",
    "debt_data.loc[(debt_data.income_type == 'предприниматель') & (pd.isna(debt_data.days_employed)),'days_employed'] = 520.85"
   ]
  },
  {
   "cell_type": "code",
   "execution_count": 15,
   "metadata": {},
   "outputs": [],
   "source": [
    "# замена аномально больших значений трудового стажа на медианные значения\n",
    "debt_data.loc[(debt_data.income_type == 'пенсионер') & (debt_data.days_employed > 300000), 'days_employed'] = 2194.22\n",
    "debt_data.loc[(debt_data.income_type == 'безработный') & (debt_data.days_employed > 300000), 'days_employed'] = 2194.22"
   ]
  },
  {
   "cell_type": "code",
   "execution_count": 16,
   "metadata": {},
   "outputs": [
    {
     "name": "stdout",
     "output_type": "stream",
     "text": [
      "<class 'pandas.core.frame.DataFrame'>\n",
      "RangeIndex: 21525 entries, 0 to 21524\n",
      "Data columns (total 12 columns):\n",
      "children            21525 non-null int64\n",
      "days_employed       21525 non-null float64\n",
      "dob_years           21525 non-null int64\n",
      "education           21525 non-null object\n",
      "education_id        21525 non-null int64\n",
      "family_status       21525 non-null object\n",
      "family_status_id    21525 non-null int64\n",
      "gender              21525 non-null object\n",
      "income_type         21525 non-null object\n",
      "debt                21525 non-null int64\n",
      "total_income        19351 non-null float64\n",
      "purpose             21525 non-null object\n",
      "dtypes: float64(2), int64(5), object(5)\n",
      "memory usage: 2.0+ MB\n"
     ]
    },
    {
     "data": {
      "text/plain": [
       "<matplotlib.axes._subplots.AxesSubplot at 0x7f936a19dd10>"
      ]
     },
     "execution_count": 16,
     "metadata": {},
     "output_type": "execute_result"
    },
    {
     "data": {
      "image/png": "[encoded data removed]",
      "text/plain": [
       "<Figure size 432x288 with 1 Axes>"
      ]
     },
     "metadata": {
      "needs_background": "light"
     },
     "output_type": "display_data"
    }
   ],
   "source": [
    "# проверка устранения некорректных и пустых значений в столбце days_employed\n",
    "debt_data.info()\n",
    "debt_data['days_employed'].plot(kind='hist')"
   ]
  },
  {
   "cell_type": "markdown",
   "metadata": {},
   "source": [
    "Пропуски в значениях стажа устранены. Но остаются пропуски в значениях ежемесячного дохода. Проанализируем распределение значений дохода в исходных данных."
   ]
  },
  {
   "cell_type": "code",
   "execution_count": 17,
   "metadata": {},
   "outputs": [
    {
     "data": {
      "text/plain": [
       "<matplotlib.axes._subplots.AxesSubplot at 0x7f936a17ea90>"
      ]
     },
     "execution_count": 17,
     "metadata": {},
     "output_type": "execute_result"
    },
    {
     "data": {
      "image/png": "[encoded data removed]",
      "text/plain": [
       "<Figure size 432x288 with 1 Axes>"
      ]
     },
     "metadata": {
      "needs_background": "light"
     },
     "output_type": "display_data"
    }
   ],
   "source": [
    "# Гистограмма распределения значений ежемесячного дохода\n",
    "debt_data['total_income'].plot(kind='hist')"
   ]
  },
  {
   "cell_type": "markdown",
   "metadata": {},
   "source": [
    "Значения ежемесячного дохода сильно смещены влево, поэтому расчет среднего значения для заполнения пропусков даст завышенное значение. Так же как и для заполнения пропущенных значений стажа работы для заполнения пропущенных значений ежемесячного дохода будем использовать медианное значение"
   ]
  },
  {
   "cell_type": "code",
   "execution_count": 18,
   "metadata": {},
   "outputs": [
    {
     "name": "stdout",
     "output_type": "stream",
     "text": [
      "Медианное значение ежемясячного дохода составляет 145017.94 рублей.\n"
     ]
    }
   ],
   "source": [
    "# расчет медианного значения ежемесячного дохода\n",
    "total_income_median = debt_data['total_income'].median()\n",
    "print('Медианное значение ежемясячного дохода составляет {:.2f} рублей.'.format(total_income_median))"
   ]
  },
  {
   "cell_type": "code",
   "execution_count": 19,
   "metadata": {},
   "outputs": [],
   "source": [
    "# заполним пропуски в значениях ежемясячного дохода медианным значением\n",
    "debt_data.loc[debt_data.total_income.isna(), 'total_income'] = total_income_median"
   ]
  },
  {
   "cell_type": "code",
   "execution_count": 20,
   "metadata": {},
   "outputs": [
    {
     "name": "stdout",
     "output_type": "stream",
     "text": [
      "<class 'pandas.core.frame.DataFrame'>\n",
      "RangeIndex: 21525 entries, 0 to 21524\n",
      "Data columns (total 12 columns):\n",
      "children            21525 non-null int64\n",
      "days_employed       21525 non-null float64\n",
      "dob_years           21525 non-null int64\n",
      "education           21525 non-null object\n",
      "education_id        21525 non-null int64\n",
      "family_status       21525 non-null object\n",
      "family_status_id    21525 non-null int64\n",
      "gender              21525 non-null object\n",
      "income_type         21525 non-null object\n",
      "debt                21525 non-null int64\n",
      "total_income        21525 non-null float64\n",
      "purpose             21525 non-null object\n",
      "dtypes: float64(2), int64(5), object(5)\n",
      "memory usage: 2.0+ MB\n"
     ]
    }
   ],
   "source": [
    "# проверка отсутствия пропущенных значений\n",
    "debt_data.info()"
   ]
  },
  {
   "cell_type": "markdown",
   "metadata": {},
   "source": [
    "**Вывод**"
   ]
  },
  {
   "cell_type": "markdown",
   "metadata": {},
   "source": [
    "В исходных данных были пропуски значений в столбцах со стажем (days_employed) и с уровнем ежемесячного дохода (total_income). Т.к. остальные данные в строках были заполнены вероятнее всего, что при предоставлении данных банку поля с величиной стажа и уровнем дохода являлись необязательными и клиенты не стали их заполнять. Данные по величине стажа распределены неравномерно - большая часть клиентов имеет небольшой стаж. Поэтому для заполнения пропусков было выбрано медианное значение. Учитывая, что клиенты имеют разный тип занятости, медианные значения рассчитывались по каждому типу занятости отдельно и пропуски заполнялись с учетом типа занятости клиента.\n",
    "Так же в процессе анализа были выявлены аномально высокие показатели стажа, которые так же были заменены медианными значениями.\n",
    "Данные об уровен ежемесячного дохода так же распределены неравномерно. Пропуски в этом столбце заполнены медианным значением ежемесячного дохода. "
   ]
  },
  {
   "cell_type": "markdown",
   "metadata": {},
   "source": [
    "### 2. Замена типа данных"
   ]
  },
  {
   "cell_type": "code",
   "execution_count": 21,
   "metadata": {},
   "outputs": [
    {
     "name": "stdout",
     "output_type": "stream",
     "text": [
      "<class 'pandas.core.frame.DataFrame'>\n",
      "RangeIndex: 21525 entries, 0 to 21524\n",
      "Data columns (total 12 columns):\n",
      "children            21525 non-null int64\n",
      "days_employed       21525 non-null int64\n",
      "dob_years           21525 non-null int64\n",
      "education           21525 non-null object\n",
      "education_id        21525 non-null int64\n",
      "family_status       21525 non-null object\n",
      "family_status_id    21525 non-null int64\n",
      "gender              21525 non-null object\n",
      "income_type         21525 non-null object\n",
      "debt                21525 non-null int64\n",
      "total_income        21525 non-null int64\n",
      "purpose             21525 non-null object\n",
      "dtypes: int64(7), object(5)\n",
      "memory usage: 2.0+ MB\n"
     ]
    },
    {
     "data": {
      "text/html": [
       "<div>\n",
       "<style scoped>\n",
       "    .dataframe tbody tr th:only-of-type {\n",
       "        vertical-align: middle;\n",
       "    }\n",
       "\n",
       "    .dataframe tbody tr th {\n",
       "        vertical-align: top;\n",
       "    }\n",
       "\n",
       "    .dataframe thead th {\n",
       "        text-align: right;\n",
       "    }\n",
       "</style>\n",
       "<table border=\"1\" class=\"dataframe\">\n",
       "  <thead>\n",
       "    <tr style=\"text-align: right;\">\n",
       "      <th></th>\n",
       "      <th>children</th>\n",
       "      <th>days_employed</th>\n",
       "      <th>dob_years</th>\n",
       "      <th>education</th>\n",
       "      <th>education_id</th>\n",
       "      <th>family_status</th>\n",
       "      <th>family_status_id</th>\n",
       "      <th>gender</th>\n",
       "      <th>income_type</th>\n",
       "      <th>debt</th>\n",
       "      <th>total_income</th>\n",
       "      <th>purpose</th>\n",
       "    </tr>\n",
       "  </thead>\n",
       "  <tbody>\n",
       "    <tr>\n",
       "      <td>0</td>\n",
       "      <td>1</td>\n",
       "      <td>8437</td>\n",
       "      <td>42</td>\n",
       "      <td>высшее</td>\n",
       "      <td>0</td>\n",
       "      <td>женат / замужем</td>\n",
       "      <td>0</td>\n",
       "      <td>F</td>\n",
       "      <td>сотрудник</td>\n",
       "      <td>0</td>\n",
       "      <td>253875</td>\n",
       "      <td>покупка жилья</td>\n",
       "    </tr>\n",
       "    <tr>\n",
       "      <td>1</td>\n",
       "      <td>1</td>\n",
       "      <td>4024</td>\n",
       "      <td>36</td>\n",
       "      <td>среднее</td>\n",
       "      <td>1</td>\n",
       "      <td>женат / замужем</td>\n",
       "      <td>0</td>\n",
       "      <td>F</td>\n",
       "      <td>сотрудник</td>\n",
       "      <td>0</td>\n",
       "      <td>112080</td>\n",
       "      <td>приобретение автомобиля</td>\n",
       "    </tr>\n",
       "    <tr>\n",
       "      <td>2</td>\n",
       "      <td>0</td>\n",
       "      <td>5623</td>\n",
       "      <td>33</td>\n",
       "      <td>Среднее</td>\n",
       "      <td>1</td>\n",
       "      <td>женат / замужем</td>\n",
       "      <td>0</td>\n",
       "      <td>M</td>\n",
       "      <td>сотрудник</td>\n",
       "      <td>0</td>\n",
       "      <td>145885</td>\n",
       "      <td>покупка жилья</td>\n",
       "    </tr>\n",
       "    <tr>\n",
       "      <td>3</td>\n",
       "      <td>3</td>\n",
       "      <td>4124</td>\n",
       "      <td>32</td>\n",
       "      <td>среднее</td>\n",
       "      <td>1</td>\n",
       "      <td>женат / замужем</td>\n",
       "      <td>0</td>\n",
       "      <td>M</td>\n",
       "      <td>сотрудник</td>\n",
       "      <td>0</td>\n",
       "      <td>267628</td>\n",
       "      <td>дополнительное образование</td>\n",
       "    </tr>\n",
       "    <tr>\n",
       "      <td>4</td>\n",
       "      <td>0</td>\n",
       "      <td>2194</td>\n",
       "      <td>53</td>\n",
       "      <td>среднее</td>\n",
       "      <td>1</td>\n",
       "      <td>гражданский брак</td>\n",
       "      <td>1</td>\n",
       "      <td>F</td>\n",
       "      <td>пенсионер</td>\n",
       "      <td>0</td>\n",
       "      <td>158616</td>\n",
       "      <td>сыграть свадьбу</td>\n",
       "    </tr>\n",
       "    <tr>\n",
       "      <td>5</td>\n",
       "      <td>0</td>\n",
       "      <td>926</td>\n",
       "      <td>27</td>\n",
       "      <td>высшее</td>\n",
       "      <td>0</td>\n",
       "      <td>гражданский брак</td>\n",
       "      <td>1</td>\n",
       "      <td>M</td>\n",
       "      <td>компаньон</td>\n",
       "      <td>0</td>\n",
       "      <td>255763</td>\n",
       "      <td>покупка жилья</td>\n",
       "    </tr>\n",
       "    <tr>\n",
       "      <td>6</td>\n",
       "      <td>0</td>\n",
       "      <td>2879</td>\n",
       "      <td>43</td>\n",
       "      <td>высшее</td>\n",
       "      <td>0</td>\n",
       "      <td>женат / замужем</td>\n",
       "      <td>0</td>\n",
       "      <td>F</td>\n",
       "      <td>компаньон</td>\n",
       "      <td>0</td>\n",
       "      <td>240525</td>\n",
       "      <td>операции с жильем</td>\n",
       "    </tr>\n",
       "    <tr>\n",
       "      <td>7</td>\n",
       "      <td>0</td>\n",
       "      <td>152</td>\n",
       "      <td>50</td>\n",
       "      <td>СРЕДНЕЕ</td>\n",
       "      <td>1</td>\n",
       "      <td>женат / замужем</td>\n",
       "      <td>0</td>\n",
       "      <td>M</td>\n",
       "      <td>сотрудник</td>\n",
       "      <td>0</td>\n",
       "      <td>135823</td>\n",
       "      <td>образование</td>\n",
       "    </tr>\n",
       "    <tr>\n",
       "      <td>8</td>\n",
       "      <td>2</td>\n",
       "      <td>6929</td>\n",
       "      <td>35</td>\n",
       "      <td>ВЫСШЕЕ</td>\n",
       "      <td>0</td>\n",
       "      <td>гражданский брак</td>\n",
       "      <td>1</td>\n",
       "      <td>F</td>\n",
       "      <td>сотрудник</td>\n",
       "      <td>0</td>\n",
       "      <td>95856</td>\n",
       "      <td>на проведение свадьбы</td>\n",
       "    </tr>\n",
       "    <tr>\n",
       "      <td>9</td>\n",
       "      <td>0</td>\n",
       "      <td>2188</td>\n",
       "      <td>41</td>\n",
       "      <td>среднее</td>\n",
       "      <td>1</td>\n",
       "      <td>женат / замужем</td>\n",
       "      <td>0</td>\n",
       "      <td>M</td>\n",
       "      <td>сотрудник</td>\n",
       "      <td>0</td>\n",
       "      <td>144425</td>\n",
       "      <td>покупка жилья для семьи</td>\n",
       "    </tr>\n",
       "    <tr>\n",
       "      <td>10</td>\n",
       "      <td>2</td>\n",
       "      <td>4171</td>\n",
       "      <td>36</td>\n",
       "      <td>высшее</td>\n",
       "      <td>0</td>\n",
       "      <td>женат / замужем</td>\n",
       "      <td>0</td>\n",
       "      <td>M</td>\n",
       "      <td>компаньон</td>\n",
       "      <td>0</td>\n",
       "      <td>113943</td>\n",
       "      <td>покупка недвижимости</td>\n",
       "    </tr>\n",
       "    <tr>\n",
       "      <td>11</td>\n",
       "      <td>0</td>\n",
       "      <td>792</td>\n",
       "      <td>40</td>\n",
       "      <td>среднее</td>\n",
       "      <td>1</td>\n",
       "      <td>женат / замужем</td>\n",
       "      <td>0</td>\n",
       "      <td>F</td>\n",
       "      <td>сотрудник</td>\n",
       "      <td>0</td>\n",
       "      <td>77069</td>\n",
       "      <td>покупка коммерческой недвижимости</td>\n",
       "    </tr>\n",
       "    <tr>\n",
       "      <td>12</td>\n",
       "      <td>0</td>\n",
       "      <td>2194</td>\n",
       "      <td>65</td>\n",
       "      <td>среднее</td>\n",
       "      <td>1</td>\n",
       "      <td>гражданский брак</td>\n",
       "      <td>1</td>\n",
       "      <td>M</td>\n",
       "      <td>пенсионер</td>\n",
       "      <td>0</td>\n",
       "      <td>145017</td>\n",
       "      <td>сыграть свадьбу</td>\n",
       "    </tr>\n",
       "    <tr>\n",
       "      <td>13</td>\n",
       "      <td>0</td>\n",
       "      <td>1846</td>\n",
       "      <td>54</td>\n",
       "      <td>неоконченное высшее</td>\n",
       "      <td>2</td>\n",
       "      <td>женат / замужем</td>\n",
       "      <td>0</td>\n",
       "      <td>F</td>\n",
       "      <td>сотрудник</td>\n",
       "      <td>0</td>\n",
       "      <td>130458</td>\n",
       "      <td>приобретение автомобиля</td>\n",
       "    </tr>\n",
       "    <tr>\n",
       "      <td>14</td>\n",
       "      <td>0</td>\n",
       "      <td>1844</td>\n",
       "      <td>56</td>\n",
       "      <td>высшее</td>\n",
       "      <td>0</td>\n",
       "      <td>гражданский брак</td>\n",
       "      <td>1</td>\n",
       "      <td>F</td>\n",
       "      <td>компаньон</td>\n",
       "      <td>1</td>\n",
       "      <td>165127</td>\n",
       "      <td>покупка жилой недвижимости</td>\n",
       "    </tr>\n",
       "  </tbody>\n",
       "</table>\n",
       "</div>"
      ],
      "text/plain": [
       "    children  days_employed  dob_years            education  education_id  \\\n",
       "0          1           8437         42               высшее             0   \n",
       "1          1           4024         36              среднее             1   \n",
       "2          0           5623         33              Среднее             1   \n",
       "3          3           4124         32              среднее             1   \n",
       "4          0           2194         53              среднее             1   \n",
       "5          0            926         27               высшее             0   \n",
       "6          0           2879         43               высшее             0   \n",
       "7          0            152         50              СРЕДНЕЕ             1   \n",
       "8          2           6929         35               ВЫСШЕЕ             0   \n",
       "9          0           2188         41              среднее             1   \n",
       "10         2           4171         36               высшее             0   \n",
       "11         0            792         40              среднее             1   \n",
       "12         0           2194         65              среднее             1   \n",
       "13         0           1846         54  неоконченное высшее             2   \n",
       "14         0           1844         56               высшее             0   \n",
       "\n",
       "       family_status  family_status_id gender income_type  debt  total_income  \\\n",
       "0    женат / замужем                 0      F   сотрудник     0        253875   \n",
       "1    женат / замужем                 0      F   сотрудник     0        112080   \n",
       "2    женат / замужем                 0      M   сотрудник     0        145885   \n",
       "3    женат / замужем                 0      M   сотрудник     0        267628   \n",
       "4   гражданский брак                 1      F   пенсионер     0        158616   \n",
       "5   гражданский брак                 1      M   компаньон     0        255763   \n",
       "6    женат / замужем                 0      F   компаньон     0        240525   \n",
       "7    женат / замужем                 0      M   сотрудник     0        135823   \n",
       "8   гражданский брак                 1      F   сотрудник     0         95856   \n",
       "9    женат / замужем                 0      M   сотрудник     0        144425   \n",
       "10   женат / замужем                 0      M   компаньон     0        113943   \n",
       "11   женат / замужем                 0      F   сотрудник     0         77069   \n",
       "12  гражданский брак                 1      M   пенсионер     0        145017   \n",
       "13   женат / замужем                 0      F   сотрудник     0        130458   \n",
       "14  гражданский брак                 1      F   компаньон     1        165127   \n",
       "\n",
       "                              purpose  \n",
       "0                       покупка жилья  \n",
       "1             приобретение автомобиля  \n",
       "2                       покупка жилья  \n",
       "3          дополнительное образование  \n",
       "4                     сыграть свадьбу  \n",
       "5                       покупка жилья  \n",
       "6                   операции с жильем  \n",
       "7                         образование  \n",
       "8               на проведение свадьбы  \n",
       "9             покупка жилья для семьи  \n",
       "10               покупка недвижимости  \n",
       "11  покупка коммерческой недвижимости  \n",
       "12                    сыграть свадьбу  \n",
       "13            приобретение автомобиля  \n",
       "14         покупка жилой недвижимости  "
      ]
     },
     "execution_count": 21,
     "metadata": {},
     "output_type": "execute_result"
    }
   ],
   "source": [
    "# замена вещественного типа в столбце days_employed  и total_income на целочисленный\n",
    "debt_data['days_employed'] = debt_data['days_employed'].astype('int')\n",
    "debt_data['total_income'] = debt_data['total_income'].astype('int')\n",
    "debt_data.info()\n",
    "debt_data.head(15)"
   ]
  },
  {
   "cell_type": "markdown",
   "metadata": {},
   "source": [
    "**Вывод**"
   ]
  },
  {
   "cell_type": "markdown",
   "metadata": {},
   "source": [
    "В исходных данных для трудового стажа и ежемесячного дохода определен вещественный тип данных. Маловероятно, что при вводе пользователи указывали тысячные доли дней стажа и дохода. Более логичным является преобразование значений данных столбцов к целочисленному типу. Данные были преобразованы с помощью метода **astype()** т.к. изначально они уже являлись числовыми, требовалось поменять только тип.\n",
    "После преобразования значения стали более наглядными и понятными."
   ]
  },
  {
   "cell_type": "markdown",
   "metadata": {},
   "source": [
    "### 3. Обработка дубликатов"
   ]
  },
  {
   "cell_type": "code",
   "execution_count": 22,
   "metadata": {},
   "outputs": [
    {
     "name": "stdout",
     "output_type": "stream",
     "text": [
      "Количество полных дубликатов в таблице: 54\n"
     ]
    }
   ],
   "source": [
    "# поиск полных дубликатов с помощью метода duplicated()\n",
    "print('Количество полных дубликатов в таблице: {:.0f}'.format(debt_data.duplicated().sum()))"
   ]
  },
  {
   "cell_type": "code",
   "execution_count": 23,
   "metadata": {},
   "outputs": [
    {
     "name": "stdout",
     "output_type": "stream",
     "text": [
      "Количество полных дубликатов в таблице: 0\n"
     ]
    }
   ],
   "source": [
    "# удаляем полные дубликаты с помощью метода drop_duplicates()\n",
    "debt_data = debt_data.drop_duplicates().reset_index(drop=True)\n",
    "print('Количество полных дубликатов в таблице: {:.0f}'.format(debt_data.duplicated().sum()))"
   ]
  },
  {
   "cell_type": "markdown",
   "metadata": {},
   "source": [
    "Помимо полных дубликатов в данных так же присутствовали значения, которые являются одинаковыми, но написаны в разном регистре, например столбец education. Проведем поиск таких значений."
   ]
  },
  {
   "cell_type": "code",
   "execution_count": 24,
   "metadata": {},
   "outputs": [
    {
     "data": {
      "text/plain": [
       "среднее                13705\n",
       "высшее                  4710\n",
       "СРЕДНЕЕ                  772\n",
       "Среднее                  711\n",
       "неоконченное высшее      668\n",
       "ВЫСШЕЕ                   273\n",
       "Высшее                   268\n",
       "начальное                250\n",
       "Неоконченное высшее       47\n",
       "НЕОКОНЧЕННОЕ ВЫСШЕЕ       29\n",
       "НАЧАЛЬНОЕ                 17\n",
       "Начальное                 15\n",
       "ученая степень             4\n",
       "Ученая степень             1\n",
       "УЧЕНАЯ СТЕПЕНЬ             1\n",
       "Name: education, dtype: int64"
      ]
     },
     "execution_count": 24,
     "metadata": {},
     "output_type": "execute_result"
    }
   ],
   "source": [
    "# поиск дубликатов в столбце education\n",
    "debt_data['education'].value_counts()"
   ]
  },
  {
   "cell_type": "code",
   "execution_count": 25,
   "metadata": {},
   "outputs": [
    {
     "data": {
      "text/plain": [
       "среднее                15188\n",
       "высшее                  5251\n",
       "неоконченное высшее      744\n",
       "начальное                282\n",
       "ученая степень             6\n",
       "Name: education, dtype: int64"
      ]
     },
     "execution_count": 25,
     "metadata": {},
     "output_type": "execute_result"
    }
   ],
   "source": [
    "# устраним дубликаты в столбце education приведя все значения к нижнему регистру\n",
    "debt_data['education'] = debt_data['education'].str.lower()\n",
    "debt_data['education'].value_counts()"
   ]
  },
  {
   "cell_type": "code",
   "execution_count": 26,
   "metadata": {},
   "outputs": [
    {
     "name": "stdout",
     "output_type": "stream",
     "text": [
      "Количество полных дубликатов в таблице: 17\n"
     ]
    }
   ],
   "source": [
    "# поиск полных дубликатов после удаления дубликатов в столбце education\n",
    "print('Количество полных дубликатов в таблице: {:.0f}'.format(debt_data.duplicated().sum()))"
   ]
  },
  {
   "cell_type": "code",
   "execution_count": 27,
   "metadata": {},
   "outputs": [
    {
     "name": "stdout",
     "output_type": "stream",
     "text": [
      "Количество полных дубликатов в таблице: 0\n"
     ]
    }
   ],
   "source": [
    "# удаляем полные дубликаты с помощью метода drop_duplicates()\n",
    "debt_data = debt_data.drop_duplicates().reset_index(drop=True)\n",
    "print('Количество полных дубликатов в таблице: {:.0f}'.format(debt_data.duplicated().sum()))"
   ]
  },
  {
   "cell_type": "code",
   "execution_count": 28,
   "metadata": {},
   "outputs": [
    {
     "data": {
      "text/plain": [
       "женат / замужем          12339\n",
       "гражданский брак          4151\n",
       "Не женат / не замужем     2810\n",
       "в разводе                 1195\n",
       "вдовец / вдова             959\n",
       "Name: family_status, dtype: int64"
      ]
     },
     "execution_count": 28,
     "metadata": {},
     "output_type": "execute_result"
    }
   ],
   "source": [
    "# проведем проверку других столбцов, в которых потенциально могут быть дубликаты\n",
    "debt_data['family_status'].value_counts()"
   ]
  },
  {
   "cell_type": "code",
   "execution_count": 29,
   "metadata": {},
   "outputs": [
    {
     "data": {
      "text/plain": [
       "F      14174\n",
       "M       7279\n",
       "XNA        1\n",
       "Name: gender, dtype: int64"
      ]
     },
     "execution_count": 29,
     "metadata": {},
     "output_type": "execute_result"
    }
   ],
   "source": [
    "debt_data['gender'].value_counts()"
   ]
  },
  {
   "cell_type": "code",
   "execution_count": 30,
   "metadata": {},
   "outputs": [
    {
     "data": {
      "text/plain": [
       "сотрудник          11084\n",
       "компаньон           5078\n",
       "пенсионер           3829\n",
       "госслужащий         1457\n",
       "предприниматель        2\n",
       "безработный            2\n",
       "студент                1\n",
       "в декрете              1\n",
       "Name: income_type, dtype: int64"
      ]
     },
     "execution_count": 30,
     "metadata": {},
     "output_type": "execute_result"
    }
   ],
   "source": [
    "debt_data['income_type'].value_counts()"
   ]
  },
  {
   "cell_type": "code",
   "execution_count": 31,
   "metadata": {},
   "outputs": [
    {
     "data": {
      "text/plain": [
       "свадьба                                   791\n",
       "на проведение свадьбы                     768\n",
       "сыграть свадьбу                           765\n",
       "операции с недвижимостью                  675\n",
       "покупка коммерческой недвижимости         661\n",
       "операции с жильем                         652\n",
       "покупка жилья для сдачи                   651\n",
       "операции с коммерческой недвижимостью     650\n",
       "жилье                                     646\n",
       "покупка жилья                             646\n",
       "покупка жилья для семьи                   638\n",
       "строительство собственной недвижимости    635\n",
       "недвижимость                              633\n",
       "операции со своей недвижимостью           627\n",
       "строительство жилой недвижимости          624\n",
       "покупка недвижимости                      621\n",
       "покупка своего жилья                      620\n",
       "строительство недвижимости                619\n",
       "ремонт жилью                              607\n",
       "покупка жилой недвижимости                606\n",
       "на покупку своего автомобиля              505\n",
       "заняться высшим образованием              496\n",
       "автомобиль                                494\n",
       "сделка с подержанным автомобилем          486\n",
       "автомобили                                478\n",
       "свой автомобиль                           478\n",
       "на покупку подержанного автомобиля        478\n",
       "на покупку автомобиля                     471\n",
       "приобретение автомобиля                   461\n",
       "дополнительное образование                460\n",
       "сделка с автомобилем                      455\n",
       "высшее образование                        452\n",
       "образование                               447\n",
       "получение дополнительного образования     446\n",
       "получение образования                     442\n",
       "профильное образование                    436\n",
       "получение высшего образования             426\n",
       "заняться образованием                     408\n",
       "Name: purpose, dtype: int64"
      ]
     },
     "execution_count": 31,
     "metadata": {},
     "output_type": "execute_result"
    }
   ],
   "source": [
    "debt_data['purpose'].value_counts()"
   ]
  },
  {
   "cell_type": "markdown",
   "metadata": {},
   "source": [
    "В столбце family_status и income_type дубликатов не обнаружено. В столбце purpose есть много похожих категорий, но для их объединения будет в дальнейшем использована лемматизация. В столбце gender выявлено одна запись с неопределенным полом. Т.к. это запись единственная её можно удалить, на результаты анализа это не повлияет."
   ]
  },
  {
   "cell_type": "code",
   "execution_count": 32,
   "metadata": {},
   "outputs": [
    {
     "data": {
      "text/plain": [
       "F    14174\n",
       "M     7279\n",
       "Name: gender, dtype: int64"
      ]
     },
     "execution_count": 32,
     "metadata": {},
     "output_type": "execute_result"
    }
   ],
   "source": [
    "# удаляем строку с неопределенным полом\n",
    "debt_data = debt_data.loc[debt_data['gender'] != 'XNA']\n",
    "debt_data['gender'].value_counts()"
   ]
  },
  {
   "cell_type": "markdown",
   "metadata": {},
   "source": [
    "**Вывод**"
   ]
  },
  {
   "cell_type": "markdown",
   "metadata": {},
   "source": [
    "В данных были выявлены как полные дубликаты, так и дублированные значения, написанные в другом регистре. Основная причина появления дубликатов - повторные обращения клиентов за кредитом. Клиент может подругому написать уровень образования и для него будет создана новая запись. Так же возможно на стороне банка отсутствует проверка на наличие в системе записей по клиентам из-за чего возникают полные дубликаты.\n",
    "Полные дубликаты были удалены с помощью метода drop_duplicates(), а дубликаты в столбце education - с помощью приведения всех значений к нижнему регистру.\n",
    "Так же из таблицы была удалена единственная запись с неопределенным полом т.к. она не оказывает существенного влияния на результаты анализа."
   ]
  },
  {
   "cell_type": "markdown",
   "metadata": {},
   "source": [
    "### 4. Лемматизация"
   ]
  },
  {
   "cell_type": "code",
   "execution_count": 33,
   "metadata": {},
   "outputs": [
    {
     "data": {
      "text/plain": [
       "Counter({'покупка': 10,\n",
       "         ' ': 96,\n",
       "         'жилье': 7,\n",
       "         'приобретение': 1,\n",
       "         'автомобиль': 9,\n",
       "         'дополнительный': 2,\n",
       "         'образование': 9,\n",
       "         'сыграть': 1,\n",
       "         'свадьба': 3,\n",
       "         'операция': 4,\n",
       "         'с': 5,\n",
       "         'на': 4,\n",
       "         'проведение': 1,\n",
       "         'для': 2,\n",
       "         'семья': 1,\n",
       "         'недвижимость': 10,\n",
       "         'коммерческий': 2,\n",
       "         'жилой': 2,\n",
       "         'строительство': 3,\n",
       "         'собственный': 1,\n",
       "         'подержать': 2,\n",
       "         'свой': 4,\n",
       "         'со': 1,\n",
       "         'заниматься': 2,\n",
       "         'сделка': 2,\n",
       "         'получение': 3,\n",
       "         'высокий': 3,\n",
       "         'профильный': 1,\n",
       "         'сдача': 1,\n",
       "         'ремонт': 1,\n",
       "         '\\n': 1})"
      ]
     },
     "execution_count": 33,
     "metadata": {},
     "output_type": "execute_result"
    }
   ],
   "source": [
    "purpose_unique = debt_data['purpose'].unique() # получаем список уникальных значений\n",
    "purpose_unique_string = \" \".join(purpose_unique) # преобразуем список в строку\n",
    "purpose_lemma = m.lemmatize(purpose_unique_string) # получаем список лемм\n",
    "Counter(purpose_lemma)"
   ]
  },
  {
   "cell_type": "code",
   "execution_count": 34,
   "metadata": {},
   "outputs": [],
   "source": [
    "# создаем список категорий цели использования кредитов\n",
    "purpose_list = ['жилье', 'автомобиль', 'образование', 'свадьба', 'недвижимость']"
   ]
  },
  {
   "cell_type": "code",
   "execution_count": 35,
   "metadata": {},
   "outputs": [],
   "source": [
    "# создание функции определения категории для цели использования кредита\n",
    "def get_purpose(row):\n",
    "    lemma_purpose = m.lemmatize(row['purpose'])\n",
    "    return \"\".join((set(purpose_list) & set(lemma_purpose)))"
   ]
  },
  {
   "cell_type": "code",
   "execution_count": 36,
   "metadata": {},
   "outputs": [
    {
     "data": {
      "text/html": [
       "<div>\n",
       "<style scoped>\n",
       "    .dataframe tbody tr th:only-of-type {\n",
       "        vertical-align: middle;\n",
       "    }\n",
       "\n",
       "    .dataframe tbody tr th {\n",
       "        vertical-align: top;\n",
       "    }\n",
       "\n",
       "    .dataframe thead th {\n",
       "        text-align: right;\n",
       "    }\n",
       "</style>\n",
       "<table border=\"1\" class=\"dataframe\">\n",
       "  <thead>\n",
       "    <tr style=\"text-align: right;\">\n",
       "      <th></th>\n",
       "      <th>children</th>\n",
       "      <th>days_employed</th>\n",
       "      <th>dob_years</th>\n",
       "      <th>education</th>\n",
       "      <th>education_id</th>\n",
       "      <th>family_status</th>\n",
       "      <th>family_status_id</th>\n",
       "      <th>gender</th>\n",
       "      <th>income_type</th>\n",
       "      <th>debt</th>\n",
       "      <th>total_income</th>\n",
       "      <th>purpose</th>\n",
       "      <th>purpose_category</th>\n",
       "    </tr>\n",
       "  </thead>\n",
       "  <tbody>\n",
       "    <tr>\n",
       "      <td>0</td>\n",
       "      <td>1</td>\n",
       "      <td>8437</td>\n",
       "      <td>42</td>\n",
       "      <td>высшее</td>\n",
       "      <td>0</td>\n",
       "      <td>женат / замужем</td>\n",
       "      <td>0</td>\n",
       "      <td>F</td>\n",
       "      <td>сотрудник</td>\n",
       "      <td>0</td>\n",
       "      <td>253875</td>\n",
       "      <td>покупка жилья</td>\n",
       "      <td>жилье</td>\n",
       "    </tr>\n",
       "    <tr>\n",
       "      <td>1</td>\n",
       "      <td>1</td>\n",
       "      <td>4024</td>\n",
       "      <td>36</td>\n",
       "      <td>среднее</td>\n",
       "      <td>1</td>\n",
       "      <td>женат / замужем</td>\n",
       "      <td>0</td>\n",
       "      <td>F</td>\n",
       "      <td>сотрудник</td>\n",
       "      <td>0</td>\n",
       "      <td>112080</td>\n",
       "      <td>приобретение автомобиля</td>\n",
       "      <td>автомобиль</td>\n",
       "    </tr>\n",
       "    <tr>\n",
       "      <td>2</td>\n",
       "      <td>0</td>\n",
       "      <td>5623</td>\n",
       "      <td>33</td>\n",
       "      <td>среднее</td>\n",
       "      <td>1</td>\n",
       "      <td>женат / замужем</td>\n",
       "      <td>0</td>\n",
       "      <td>M</td>\n",
       "      <td>сотрудник</td>\n",
       "      <td>0</td>\n",
       "      <td>145885</td>\n",
       "      <td>покупка жилья</td>\n",
       "      <td>жилье</td>\n",
       "    </tr>\n",
       "    <tr>\n",
       "      <td>3</td>\n",
       "      <td>3</td>\n",
       "      <td>4124</td>\n",
       "      <td>32</td>\n",
       "      <td>среднее</td>\n",
       "      <td>1</td>\n",
       "      <td>женат / замужем</td>\n",
       "      <td>0</td>\n",
       "      <td>M</td>\n",
       "      <td>сотрудник</td>\n",
       "      <td>0</td>\n",
       "      <td>267628</td>\n",
       "      <td>дополнительное образование</td>\n",
       "      <td>образование</td>\n",
       "    </tr>\n",
       "    <tr>\n",
       "      <td>4</td>\n",
       "      <td>0</td>\n",
       "      <td>2194</td>\n",
       "      <td>53</td>\n",
       "      <td>среднее</td>\n",
       "      <td>1</td>\n",
       "      <td>гражданский брак</td>\n",
       "      <td>1</td>\n",
       "      <td>F</td>\n",
       "      <td>пенсионер</td>\n",
       "      <td>0</td>\n",
       "      <td>158616</td>\n",
       "      <td>сыграть свадьбу</td>\n",
       "      <td>свадьба</td>\n",
       "    </tr>\n",
       "    <tr>\n",
       "      <td>5</td>\n",
       "      <td>0</td>\n",
       "      <td>926</td>\n",
       "      <td>27</td>\n",
       "      <td>высшее</td>\n",
       "      <td>0</td>\n",
       "      <td>гражданский брак</td>\n",
       "      <td>1</td>\n",
       "      <td>M</td>\n",
       "      <td>компаньон</td>\n",
       "      <td>0</td>\n",
       "      <td>255763</td>\n",
       "      <td>покупка жилья</td>\n",
       "      <td>жилье</td>\n",
       "    </tr>\n",
       "    <tr>\n",
       "      <td>6</td>\n",
       "      <td>0</td>\n",
       "      <td>2879</td>\n",
       "      <td>43</td>\n",
       "      <td>высшее</td>\n",
       "      <td>0</td>\n",
       "      <td>женат / замужем</td>\n",
       "      <td>0</td>\n",
       "      <td>F</td>\n",
       "      <td>компаньон</td>\n",
       "      <td>0</td>\n",
       "      <td>240525</td>\n",
       "      <td>операции с жильем</td>\n",
       "      <td>жилье</td>\n",
       "    </tr>\n",
       "    <tr>\n",
       "      <td>7</td>\n",
       "      <td>0</td>\n",
       "      <td>152</td>\n",
       "      <td>50</td>\n",
       "      <td>среднее</td>\n",
       "      <td>1</td>\n",
       "      <td>женат / замужем</td>\n",
       "      <td>0</td>\n",
       "      <td>M</td>\n",
       "      <td>сотрудник</td>\n",
       "      <td>0</td>\n",
       "      <td>135823</td>\n",
       "      <td>образование</td>\n",
       "      <td>образование</td>\n",
       "    </tr>\n",
       "    <tr>\n",
       "      <td>8</td>\n",
       "      <td>2</td>\n",
       "      <td>6929</td>\n",
       "      <td>35</td>\n",
       "      <td>высшее</td>\n",
       "      <td>0</td>\n",
       "      <td>гражданский брак</td>\n",
       "      <td>1</td>\n",
       "      <td>F</td>\n",
       "      <td>сотрудник</td>\n",
       "      <td>0</td>\n",
       "      <td>95856</td>\n",
       "      <td>на проведение свадьбы</td>\n",
       "      <td>свадьба</td>\n",
       "    </tr>\n",
       "    <tr>\n",
       "      <td>9</td>\n",
       "      <td>0</td>\n",
       "      <td>2188</td>\n",
       "      <td>41</td>\n",
       "      <td>среднее</td>\n",
       "      <td>1</td>\n",
       "      <td>женат / замужем</td>\n",
       "      <td>0</td>\n",
       "      <td>M</td>\n",
       "      <td>сотрудник</td>\n",
       "      <td>0</td>\n",
       "      <td>144425</td>\n",
       "      <td>покупка жилья для семьи</td>\n",
       "      <td>жилье</td>\n",
       "    </tr>\n",
       "    <tr>\n",
       "      <td>10</td>\n",
       "      <td>2</td>\n",
       "      <td>4171</td>\n",
       "      <td>36</td>\n",
       "      <td>высшее</td>\n",
       "      <td>0</td>\n",
       "      <td>женат / замужем</td>\n",
       "      <td>0</td>\n",
       "      <td>M</td>\n",
       "      <td>компаньон</td>\n",
       "      <td>0</td>\n",
       "      <td>113943</td>\n",
       "      <td>покупка недвижимости</td>\n",
       "      <td>недвижимость</td>\n",
       "    </tr>\n",
       "    <tr>\n",
       "      <td>11</td>\n",
       "      <td>0</td>\n",
       "      <td>792</td>\n",
       "      <td>40</td>\n",
       "      <td>среднее</td>\n",
       "      <td>1</td>\n",
       "      <td>женат / замужем</td>\n",
       "      <td>0</td>\n",
       "      <td>F</td>\n",
       "      <td>сотрудник</td>\n",
       "      <td>0</td>\n",
       "      <td>77069</td>\n",
       "      <td>покупка коммерческой недвижимости</td>\n",
       "      <td>недвижимость</td>\n",
       "    </tr>\n",
       "    <tr>\n",
       "      <td>12</td>\n",
       "      <td>0</td>\n",
       "      <td>2194</td>\n",
       "      <td>65</td>\n",
       "      <td>среднее</td>\n",
       "      <td>1</td>\n",
       "      <td>гражданский брак</td>\n",
       "      <td>1</td>\n",
       "      <td>M</td>\n",
       "      <td>пенсионер</td>\n",
       "      <td>0</td>\n",
       "      <td>145017</td>\n",
       "      <td>сыграть свадьбу</td>\n",
       "      <td>свадьба</td>\n",
       "    </tr>\n",
       "    <tr>\n",
       "      <td>13</td>\n",
       "      <td>0</td>\n",
       "      <td>1846</td>\n",
       "      <td>54</td>\n",
       "      <td>неоконченное высшее</td>\n",
       "      <td>2</td>\n",
       "      <td>женат / замужем</td>\n",
       "      <td>0</td>\n",
       "      <td>F</td>\n",
       "      <td>сотрудник</td>\n",
       "      <td>0</td>\n",
       "      <td>130458</td>\n",
       "      <td>приобретение автомобиля</td>\n",
       "      <td>автомобиль</td>\n",
       "    </tr>\n",
       "    <tr>\n",
       "      <td>14</td>\n",
       "      <td>0</td>\n",
       "      <td>1844</td>\n",
       "      <td>56</td>\n",
       "      <td>высшее</td>\n",
       "      <td>0</td>\n",
       "      <td>гражданский брак</td>\n",
       "      <td>1</td>\n",
       "      <td>F</td>\n",
       "      <td>компаньон</td>\n",
       "      <td>1</td>\n",
       "      <td>165127</td>\n",
       "      <td>покупка жилой недвижимости</td>\n",
       "      <td>недвижимость</td>\n",
       "    </tr>\n",
       "  </tbody>\n",
       "</table>\n",
       "</div>"
      ],
      "text/plain": [
       "    children  days_employed  dob_years            education  education_id  \\\n",
       "0          1           8437         42               высшее             0   \n",
       "1          1           4024         36              среднее             1   \n",
       "2          0           5623         33              среднее             1   \n",
       "3          3           4124         32              среднее             1   \n",
       "4          0           2194         53              среднее             1   \n",
       "5          0            926         27               высшее             0   \n",
       "6          0           2879         43               высшее             0   \n",
       "7          0            152         50              среднее             1   \n",
       "8          2           6929         35               высшее             0   \n",
       "9          0           2188         41              среднее             1   \n",
       "10         2           4171         36               высшее             0   \n",
       "11         0            792         40              среднее             1   \n",
       "12         0           2194         65              среднее             1   \n",
       "13         0           1846         54  неоконченное высшее             2   \n",
       "14         0           1844         56               высшее             0   \n",
       "\n",
       "       family_status  family_status_id gender income_type  debt  total_income  \\\n",
       "0    женат / замужем                 0      F   сотрудник     0        253875   \n",
       "1    женат / замужем                 0      F   сотрудник     0        112080   \n",
       "2    женат / замужем                 0      M   сотрудник     0        145885   \n",
       "3    женат / замужем                 0      M   сотрудник     0        267628   \n",
       "4   гражданский брак                 1      F   пенсионер     0        158616   \n",
       "5   гражданский брак                 1      M   компаньон     0        255763   \n",
       "6    женат / замужем                 0      F   компаньон     0        240525   \n",
       "7    женат / замужем                 0      M   сотрудник     0        135823   \n",
       "8   гражданский брак                 1      F   сотрудник     0         95856   \n",
       "9    женат / замужем                 0      M   сотрудник     0        144425   \n",
       "10   женат / замужем                 0      M   компаньон     0        113943   \n",
       "11   женат / замужем                 0      F   сотрудник     0         77069   \n",
       "12  гражданский брак                 1      M   пенсионер     0        145017   \n",
       "13   женат / замужем                 0      F   сотрудник     0        130458   \n",
       "14  гражданский брак                 1      F   компаньон     1        165127   \n",
       "\n",
       "                              purpose purpose_category  \n",
       "0                       покупка жилья            жилье  \n",
       "1             приобретение автомобиля       автомобиль  \n",
       "2                       покупка жилья            жилье  \n",
       "3          дополнительное образование      образование  \n",
       "4                     сыграть свадьбу          свадьба  \n",
       "5                       покупка жилья            жилье  \n",
       "6                   операции с жильем            жилье  \n",
       "7                         образование      образование  \n",
       "8               на проведение свадьбы          свадьба  \n",
       "9             покупка жилья для семьи            жилье  \n",
       "10               покупка недвижимости     недвижимость  \n",
       "11  покупка коммерческой недвижимости     недвижимость  \n",
       "12                    сыграть свадьбу          свадьба  \n",
       "13            приобретение автомобиля       автомобиль  \n",
       "14         покупка жилой недвижимости     недвижимость  "
      ]
     },
     "metadata": {},
     "output_type": "display_data"
    }
   ],
   "source": [
    "# создание столбца с категорией цель кредита\n",
    "debt_data['purpose_category'] = debt_data.apply(get_purpose, axis=1)\n",
    "display(debt_data.head(15))"
   ]
  },
  {
   "cell_type": "markdown",
   "metadata": {},
   "source": [
    "**Вывод**"
   ]
  },
  {
   "cell_type": "code",
   "execution_count": 37,
   "metadata": {},
   "outputs": [
    {
     "data": {
      "text/plain": [
       "недвижимость    6350\n",
       "жилье           4460\n",
       "автомобиль      4306\n",
       "образование     4013\n",
       "свадьба         2324\n",
       "Name: purpose_category, dtype: int64"
      ]
     },
     "execution_count": 37,
     "metadata": {},
     "output_type": "execute_result"
    }
   ],
   "source": [
    "debt_data['purpose_category'].value_counts()"
   ]
  },
  {
   "cell_type": "markdown",
   "metadata": {},
   "source": [
    "По результатам лемматизации были выделены 5 основных целей кредитов: жилье, автомобиль, образование, свадьба, недвижимость. Была создана функция, которая по цели кредита, указанной клиентом, определяет для него соответствующую категорию. Категория кредита была добавлена в таблицу с исходными данными.\n",
    "Так же было подсчитано количество записей для каждой категории кредита. Больше всего было выдано кредитов на покупку недвижимости, а меньше всего на свадьбы."
   ]
  },
  {
   "cell_type": "markdown",
   "metadata": {},
   "source": [
    "### 5. Категоризация данных"
   ]
  },
  {
   "cell_type": "markdown",
   "metadata": {},
   "source": [
    "Исходные данные можно разделить различные категории. Исходя из запросов банка в первую очередь категории по количеству детей и  семейному положению. Так же можно разделеить на категории в зависимости от образования, пола, типа занятости, уровня доходов и цели кредита."
   ]
  },
  {
   "cell_type": "code",
   "execution_count": 38,
   "metadata": {},
   "outputs": [
    {
     "data": {
      "text/plain": [
       " 0     14090\n",
       " 1      4808\n",
       " 2      2052\n",
       " 3       330\n",
       " 20       76\n",
       "-1        47\n",
       " 4        41\n",
       " 5         9\n",
       "Name: children, dtype: int64"
      ]
     },
     "execution_count": 38,
     "metadata": {},
     "output_type": "execute_result"
    }
   ],
   "source": [
    "# подсчет количества уникальных значений в столбце children\n",
    "debt_data['children'].value_counts()"
   ]
  },
  {
   "cell_type": "markdown",
   "metadata": {},
   "source": [
    "Из полученных данных видно, что часть данных некорректна. Вероятнее всего значения -1 и 20 получились в результате опечатки клиента при вводе данных. Исправим данные значения."
   ]
  },
  {
   "cell_type": "code",
   "execution_count": 39,
   "metadata": {},
   "outputs": [
    {
     "data": {
      "text/plain": [
       "0    14090\n",
       "1     4855\n",
       "2     2128\n",
       "3      330\n",
       "4       41\n",
       "5        9\n",
       "Name: children, dtype: int64"
      ]
     },
     "execution_count": 39,
     "metadata": {},
     "output_type": "execute_result"
    }
   ],
   "source": [
    "# исправляем некорректные значения в столбце children\n",
    "debt_data.loc[debt_data['children'] == 20, 'children'] = 2\n",
    "debt_data.loc[debt_data['children'] == -1, 'children'] = 1\n",
    "debt_data['children'].value_counts()"
   ]
  },
  {
   "cell_type": "code",
   "execution_count": 40,
   "metadata": {},
   "outputs": [
    {
     "data": {
      "text/html": [
       "<div>\n",
       "<style scoped>\n",
       "    .dataframe tbody tr th:only-of-type {\n",
       "        vertical-align: middle;\n",
       "    }\n",
       "\n",
       "    .dataframe tbody tr th {\n",
       "        vertical-align: top;\n",
       "    }\n",
       "\n",
       "    .dataframe thead th {\n",
       "        text-align: right;\n",
       "    }\n",
       "</style>\n",
       "<table border=\"1\" class=\"dataframe\">\n",
       "  <thead>\n",
       "    <tr style=\"text-align: right;\">\n",
       "      <th></th>\n",
       "      <th>family_status_id</th>\n",
       "      <th>family_status</th>\n",
       "    </tr>\n",
       "  </thead>\n",
       "  <tbody>\n",
       "    <tr>\n",
       "      <td>0</td>\n",
       "      <td>0</td>\n",
       "      <td>женат / замужем</td>\n",
       "    </tr>\n",
       "    <tr>\n",
       "      <td>1</td>\n",
       "      <td>1</td>\n",
       "      <td>гражданский брак</td>\n",
       "    </tr>\n",
       "    <tr>\n",
       "      <td>2</td>\n",
       "      <td>2</td>\n",
       "      <td>вдовец / вдова</td>\n",
       "    </tr>\n",
       "    <tr>\n",
       "      <td>3</td>\n",
       "      <td>3</td>\n",
       "      <td>в разводе</td>\n",
       "    </tr>\n",
       "    <tr>\n",
       "      <td>4</td>\n",
       "      <td>4</td>\n",
       "      <td>Не женат / не замужем</td>\n",
       "    </tr>\n",
       "  </tbody>\n",
       "</table>\n",
       "</div>"
      ],
      "text/plain": [
       "   family_status_id          family_status\n",
       "0                 0        женат / замужем\n",
       "1                 1       гражданский брак\n",
       "2                 2         вдовец / вдова\n",
       "3                 3              в разводе\n",
       "4                 4  Не женат / не замужем"
      ]
     },
     "execution_count": 40,
     "metadata": {},
     "output_type": "execute_result"
    }
   ],
   "source": [
    "# создание словаря с семейным положением\n",
    "family_status_categories = debt_data[['family_status_id', 'family_status']]\n",
    "family_status_categories = family_status_categories.drop_duplicates().reset_index(drop=True)\n",
    "family_status_categories.head(10)"
   ]
  },
  {
   "cell_type": "code",
   "execution_count": 41,
   "metadata": {},
   "outputs": [
    {
     "data": {
      "text/html": [
       "<div>\n",
       "<style scoped>\n",
       "    .dataframe tbody tr th:only-of-type {\n",
       "        vertical-align: middle;\n",
       "    }\n",
       "\n",
       "    .dataframe tbody tr th {\n",
       "        vertical-align: top;\n",
       "    }\n",
       "\n",
       "    .dataframe thead th {\n",
       "        text-align: right;\n",
       "    }\n",
       "</style>\n",
       "<table border=\"1\" class=\"dataframe\">\n",
       "  <thead>\n",
       "    <tr style=\"text-align: right;\">\n",
       "      <th></th>\n",
       "      <th>education_id</th>\n",
       "      <th>education</th>\n",
       "    </tr>\n",
       "  </thead>\n",
       "  <tbody>\n",
       "    <tr>\n",
       "      <td>0</td>\n",
       "      <td>0</td>\n",
       "      <td>высшее</td>\n",
       "    </tr>\n",
       "    <tr>\n",
       "      <td>1</td>\n",
       "      <td>1</td>\n",
       "      <td>среднее</td>\n",
       "    </tr>\n",
       "    <tr>\n",
       "      <td>2</td>\n",
       "      <td>2</td>\n",
       "      <td>неоконченное высшее</td>\n",
       "    </tr>\n",
       "    <tr>\n",
       "      <td>3</td>\n",
       "      <td>3</td>\n",
       "      <td>начальное</td>\n",
       "    </tr>\n",
       "    <tr>\n",
       "      <td>4</td>\n",
       "      <td>4</td>\n",
       "      <td>ученая степень</td>\n",
       "    </tr>\n",
       "  </tbody>\n",
       "</table>\n",
       "</div>"
      ],
      "text/plain": [
       "   education_id            education\n",
       "0             0               высшее\n",
       "1             1              среднее\n",
       "2             2  неоконченное высшее\n",
       "3             3            начальное\n",
       "4             4       ученая степень"
      ]
     },
     "execution_count": 41,
     "metadata": {},
     "output_type": "execute_result"
    }
   ],
   "source": [
    "# создание словаря с типом образования\n",
    "education_categories = debt_data[['education_id', 'education']]\n",
    "education_categories = education_categories.drop_duplicates().reset_index(drop=True)\n",
    "education_categories.head(10)"
   ]
  },
  {
   "cell_type": "code",
   "execution_count": 42,
   "metadata": {},
   "outputs": [
    {
     "data": {
      "text/plain": [
       "сотрудник          11084\n",
       "компаньон           5077\n",
       "пенсионер           3829\n",
       "госслужащий         1457\n",
       "предприниматель        2\n",
       "безработный            2\n",
       "студент                1\n",
       "в декрете              1\n",
       "Name: income_type, dtype: int64"
      ]
     },
     "execution_count": 42,
     "metadata": {},
     "output_type": "execute_result"
    }
   ],
   "source": [
    "# проверка корректности категорий по типу занятости\n",
    "debt_data['income_type'].value_counts()"
   ]
  },
  {
   "cell_type": "code",
   "execution_count": 43,
   "metadata": {},
   "outputs": [
    {
     "data": {
      "text/plain": [
       "count      21453\n",
       "mean      165223\n",
       "std        98022\n",
       "min        20667\n",
       "25%       107620\n",
       "50%       145017\n",
       "75%       195799\n",
       "max      2265604\n",
       "Name: total_income, dtype: int64"
      ]
     },
     "execution_count": 43,
     "metadata": {},
     "output_type": "execute_result"
    }
   ],
   "source": [
    "# проанализируем данные по ежемесячному доходу.\n",
    "debt_data.total_income.describe().astype('int')"
   ]
  },
  {
   "cell_type": "markdown",
   "metadata": {},
   "source": [
    "Из общей информации видно, что уровень ежемесячного дохода для 75% записей в исходных данных не превышает 196 тыс. На основании этого можно предложить следующую классификацию: до 65 тыс. - низкий уровень дохода, до 130 тыс. - уровень дохода ниже среднего, до 195 тыс - выше среднего, свыше 195 тыс - высокий."
   ]
  },
  {
   "cell_type": "code",
   "execution_count": 44,
   "metadata": {},
   "outputs": [],
   "source": [
    "# созданим функцию, которая будет определять группу, к которой относится уровень ежемесячного дохода\n",
    "def get_total_income_category(row):\n",
    "    income = row['total_income']\n",
    "    if income <= 65000:\n",
    "        return 'низкий'\n",
    "    if (income > 65000) & (income <= 130000):\n",
    "        return 'ниже среднего'\n",
    "    if (income > 130000) & (income <= 195000):\n",
    "        return 'выше среднего'\n",
    "    if income > 195000:\n",
    "        return 'высокий'"
   ]
  },
  {
   "cell_type": "code",
   "execution_count": 45,
   "metadata": {},
   "outputs": [
    {
     "data": {
      "text/html": [
       "<div>\n",
       "<style scoped>\n",
       "    .dataframe tbody tr th:only-of-type {\n",
       "        vertical-align: middle;\n",
       "    }\n",
       "\n",
       "    .dataframe tbody tr th {\n",
       "        vertical-align: top;\n",
       "    }\n",
       "\n",
       "    .dataframe thead th {\n",
       "        text-align: right;\n",
       "    }\n",
       "</style>\n",
       "<table border=\"1\" class=\"dataframe\">\n",
       "  <thead>\n",
       "    <tr style=\"text-align: right;\">\n",
       "      <th></th>\n",
       "      <th>children</th>\n",
       "      <th>days_employed</th>\n",
       "      <th>dob_years</th>\n",
       "      <th>education</th>\n",
       "      <th>education_id</th>\n",
       "      <th>family_status</th>\n",
       "      <th>family_status_id</th>\n",
       "      <th>gender</th>\n",
       "      <th>income_type</th>\n",
       "      <th>debt</th>\n",
       "      <th>total_income</th>\n",
       "      <th>purpose</th>\n",
       "      <th>purpose_category</th>\n",
       "      <th>total_income_category</th>\n",
       "    </tr>\n",
       "  </thead>\n",
       "  <tbody>\n",
       "    <tr>\n",
       "      <td>0</td>\n",
       "      <td>1</td>\n",
       "      <td>8437</td>\n",
       "      <td>42</td>\n",
       "      <td>высшее</td>\n",
       "      <td>0</td>\n",
       "      <td>женат / замужем</td>\n",
       "      <td>0</td>\n",
       "      <td>F</td>\n",
       "      <td>сотрудник</td>\n",
       "      <td>0</td>\n",
       "      <td>253875</td>\n",
       "      <td>покупка жилья</td>\n",
       "      <td>жилье</td>\n",
       "      <td>высокий</td>\n",
       "    </tr>\n",
       "    <tr>\n",
       "      <td>1</td>\n",
       "      <td>1</td>\n",
       "      <td>4024</td>\n",
       "      <td>36</td>\n",
       "      <td>среднее</td>\n",
       "      <td>1</td>\n",
       "      <td>женат / замужем</td>\n",
       "      <td>0</td>\n",
       "      <td>F</td>\n",
       "      <td>сотрудник</td>\n",
       "      <td>0</td>\n",
       "      <td>112080</td>\n",
       "      <td>приобретение автомобиля</td>\n",
       "      <td>автомобиль</td>\n",
       "      <td>ниже среднего</td>\n",
       "    </tr>\n",
       "    <tr>\n",
       "      <td>2</td>\n",
       "      <td>0</td>\n",
       "      <td>5623</td>\n",
       "      <td>33</td>\n",
       "      <td>среднее</td>\n",
       "      <td>1</td>\n",
       "      <td>женат / замужем</td>\n",
       "      <td>0</td>\n",
       "      <td>M</td>\n",
       "      <td>сотрудник</td>\n",
       "      <td>0</td>\n",
       "      <td>145885</td>\n",
       "      <td>покупка жилья</td>\n",
       "      <td>жилье</td>\n",
       "      <td>выше среднего</td>\n",
       "    </tr>\n",
       "    <tr>\n",
       "      <td>3</td>\n",
       "      <td>3</td>\n",
       "      <td>4124</td>\n",
       "      <td>32</td>\n",
       "      <td>среднее</td>\n",
       "      <td>1</td>\n",
       "      <td>женат / замужем</td>\n",
       "      <td>0</td>\n",
       "      <td>M</td>\n",
       "      <td>сотрудник</td>\n",
       "      <td>0</td>\n",
       "      <td>267628</td>\n",
       "      <td>дополнительное образование</td>\n",
       "      <td>образование</td>\n",
       "      <td>высокий</td>\n",
       "    </tr>\n",
       "    <tr>\n",
       "      <td>4</td>\n",
       "      <td>0</td>\n",
       "      <td>2194</td>\n",
       "      <td>53</td>\n",
       "      <td>среднее</td>\n",
       "      <td>1</td>\n",
       "      <td>гражданский брак</td>\n",
       "      <td>1</td>\n",
       "      <td>F</td>\n",
       "      <td>пенсионер</td>\n",
       "      <td>0</td>\n",
       "      <td>158616</td>\n",
       "      <td>сыграть свадьбу</td>\n",
       "      <td>свадьба</td>\n",
       "      <td>выше среднего</td>\n",
       "    </tr>\n",
       "    <tr>\n",
       "      <td>5</td>\n",
       "      <td>0</td>\n",
       "      <td>926</td>\n",
       "      <td>27</td>\n",
       "      <td>высшее</td>\n",
       "      <td>0</td>\n",
       "      <td>гражданский брак</td>\n",
       "      <td>1</td>\n",
       "      <td>M</td>\n",
       "      <td>компаньон</td>\n",
       "      <td>0</td>\n",
       "      <td>255763</td>\n",
       "      <td>покупка жилья</td>\n",
       "      <td>жилье</td>\n",
       "      <td>высокий</td>\n",
       "    </tr>\n",
       "    <tr>\n",
       "      <td>6</td>\n",
       "      <td>0</td>\n",
       "      <td>2879</td>\n",
       "      <td>43</td>\n",
       "      <td>высшее</td>\n",
       "      <td>0</td>\n",
       "      <td>женат / замужем</td>\n",
       "      <td>0</td>\n",
       "      <td>F</td>\n",
       "      <td>компаньон</td>\n",
       "      <td>0</td>\n",
       "      <td>240525</td>\n",
       "      <td>операции с жильем</td>\n",
       "      <td>жилье</td>\n",
       "      <td>высокий</td>\n",
       "    </tr>\n",
       "    <tr>\n",
       "      <td>7</td>\n",
       "      <td>0</td>\n",
       "      <td>152</td>\n",
       "      <td>50</td>\n",
       "      <td>среднее</td>\n",
       "      <td>1</td>\n",
       "      <td>женат / замужем</td>\n",
       "      <td>0</td>\n",
       "      <td>M</td>\n",
       "      <td>сотрудник</td>\n",
       "      <td>0</td>\n",
       "      <td>135823</td>\n",
       "      <td>образование</td>\n",
       "      <td>образование</td>\n",
       "      <td>выше среднего</td>\n",
       "    </tr>\n",
       "    <tr>\n",
       "      <td>8</td>\n",
       "      <td>2</td>\n",
       "      <td>6929</td>\n",
       "      <td>35</td>\n",
       "      <td>высшее</td>\n",
       "      <td>0</td>\n",
       "      <td>гражданский брак</td>\n",
       "      <td>1</td>\n",
       "      <td>F</td>\n",
       "      <td>сотрудник</td>\n",
       "      <td>0</td>\n",
       "      <td>95856</td>\n",
       "      <td>на проведение свадьбы</td>\n",
       "      <td>свадьба</td>\n",
       "      <td>ниже среднего</td>\n",
       "    </tr>\n",
       "    <tr>\n",
       "      <td>9</td>\n",
       "      <td>0</td>\n",
       "      <td>2188</td>\n",
       "      <td>41</td>\n",
       "      <td>среднее</td>\n",
       "      <td>1</td>\n",
       "      <td>женат / замужем</td>\n",
       "      <td>0</td>\n",
       "      <td>M</td>\n",
       "      <td>сотрудник</td>\n",
       "      <td>0</td>\n",
       "      <td>144425</td>\n",
       "      <td>покупка жилья для семьи</td>\n",
       "      <td>жилье</td>\n",
       "      <td>выше среднего</td>\n",
       "    </tr>\n",
       "    <tr>\n",
       "      <td>10</td>\n",
       "      <td>2</td>\n",
       "      <td>4171</td>\n",
       "      <td>36</td>\n",
       "      <td>высшее</td>\n",
       "      <td>0</td>\n",
       "      <td>женат / замужем</td>\n",
       "      <td>0</td>\n",
       "      <td>M</td>\n",
       "      <td>компаньон</td>\n",
       "      <td>0</td>\n",
       "      <td>113943</td>\n",
       "      <td>покупка недвижимости</td>\n",
       "      <td>недвижимость</td>\n",
       "      <td>ниже среднего</td>\n",
       "    </tr>\n",
       "    <tr>\n",
       "      <td>11</td>\n",
       "      <td>0</td>\n",
       "      <td>792</td>\n",
       "      <td>40</td>\n",
       "      <td>среднее</td>\n",
       "      <td>1</td>\n",
       "      <td>женат / замужем</td>\n",
       "      <td>0</td>\n",
       "      <td>F</td>\n",
       "      <td>сотрудник</td>\n",
       "      <td>0</td>\n",
       "      <td>77069</td>\n",
       "      <td>покупка коммерческой недвижимости</td>\n",
       "      <td>недвижимость</td>\n",
       "      <td>ниже среднего</td>\n",
       "    </tr>\n",
       "    <tr>\n",
       "      <td>12</td>\n",
       "      <td>0</td>\n",
       "      <td>2194</td>\n",
       "      <td>65</td>\n",
       "      <td>среднее</td>\n",
       "      <td>1</td>\n",
       "      <td>гражданский брак</td>\n",
       "      <td>1</td>\n",
       "      <td>M</td>\n",
       "      <td>пенсионер</td>\n",
       "      <td>0</td>\n",
       "      <td>145017</td>\n",
       "      <td>сыграть свадьбу</td>\n",
       "      <td>свадьба</td>\n",
       "      <td>выше среднего</td>\n",
       "    </tr>\n",
       "    <tr>\n",
       "      <td>13</td>\n",
       "      <td>0</td>\n",
       "      <td>1846</td>\n",
       "      <td>54</td>\n",
       "      <td>неоконченное высшее</td>\n",
       "      <td>2</td>\n",
       "      <td>женат / замужем</td>\n",
       "      <td>0</td>\n",
       "      <td>F</td>\n",
       "      <td>сотрудник</td>\n",
       "      <td>0</td>\n",
       "      <td>130458</td>\n",
       "      <td>приобретение автомобиля</td>\n",
       "      <td>автомобиль</td>\n",
       "      <td>выше среднего</td>\n",
       "    </tr>\n",
       "    <tr>\n",
       "      <td>14</td>\n",
       "      <td>0</td>\n",
       "      <td>1844</td>\n",
       "      <td>56</td>\n",
       "      <td>высшее</td>\n",
       "      <td>0</td>\n",
       "      <td>гражданский брак</td>\n",
       "      <td>1</td>\n",
       "      <td>F</td>\n",
       "      <td>компаньон</td>\n",
       "      <td>1</td>\n",
       "      <td>165127</td>\n",
       "      <td>покупка жилой недвижимости</td>\n",
       "      <td>недвижимость</td>\n",
       "      <td>выше среднего</td>\n",
       "    </tr>\n",
       "  </tbody>\n",
       "</table>\n",
       "</div>"
      ],
      "text/plain": [
       "    children  days_employed  dob_years            education  education_id  \\\n",
       "0          1           8437         42               высшее             0   \n",
       "1          1           4024         36              среднее             1   \n",
       "2          0           5623         33              среднее             1   \n",
       "3          3           4124         32              среднее             1   \n",
       "4          0           2194         53              среднее             1   \n",
       "5          0            926         27               высшее             0   \n",
       "6          0           2879         43               высшее             0   \n",
       "7          0            152         50              среднее             1   \n",
       "8          2           6929         35               высшее             0   \n",
       "9          0           2188         41              среднее             1   \n",
       "10         2           4171         36               высшее             0   \n",
       "11         0            792         40              среднее             1   \n",
       "12         0           2194         65              среднее             1   \n",
       "13         0           1846         54  неоконченное высшее             2   \n",
       "14         0           1844         56               высшее             0   \n",
       "\n",
       "       family_status  family_status_id gender income_type  debt  total_income  \\\n",
       "0    женат / замужем                 0      F   сотрудник     0        253875   \n",
       "1    женат / замужем                 0      F   сотрудник     0        112080   \n",
       "2    женат / замужем                 0      M   сотрудник     0        145885   \n",
       "3    женат / замужем                 0      M   сотрудник     0        267628   \n",
       "4   гражданский брак                 1      F   пенсионер     0        158616   \n",
       "5   гражданский брак                 1      M   компаньон     0        255763   \n",
       "6    женат / замужем                 0      F   компаньон     0        240525   \n",
       "7    женат / замужем                 0      M   сотрудник     0        135823   \n",
       "8   гражданский брак                 1      F   сотрудник     0         95856   \n",
       "9    женат / замужем                 0      M   сотрудник     0        144425   \n",
       "10   женат / замужем                 0      M   компаньон     0        113943   \n",
       "11   женат / замужем                 0      F   сотрудник     0         77069   \n",
       "12  гражданский брак                 1      M   пенсионер     0        145017   \n",
       "13   женат / замужем                 0      F   сотрудник     0        130458   \n",
       "14  гражданский брак                 1      F   компаньон     1        165127   \n",
       "\n",
       "                              purpose purpose_category total_income_category  \n",
       "0                       покупка жилья            жилье               высокий  \n",
       "1             приобретение автомобиля       автомобиль         ниже среднего  \n",
       "2                       покупка жилья            жилье         выше среднего  \n",
       "3          дополнительное образование      образование               высокий  \n",
       "4                     сыграть свадьбу          свадьба         выше среднего  \n",
       "5                       покупка жилья            жилье               высокий  \n",
       "6                   операции с жильем            жилье               высокий  \n",
       "7                         образование      образование         выше среднего  \n",
       "8               на проведение свадьбы          свадьба         ниже среднего  \n",
       "9             покупка жилья для семьи            жилье         выше среднего  \n",
       "10               покупка недвижимости     недвижимость         ниже среднего  \n",
       "11  покупка коммерческой недвижимости     недвижимость         ниже среднего  \n",
       "12                    сыграть свадьбу          свадьба         выше среднего  \n",
       "13            приобретение автомобиля       автомобиль         выше среднего  \n",
       "14         покупка жилой недвижимости     недвижимость         выше среднего  "
      ]
     },
     "execution_count": 45,
     "metadata": {},
     "output_type": "execute_result"
    }
   ],
   "source": [
    "# добавим к исходным данным столбец с категориями уровня дохода\n",
    "debt_data['total_income_category'] = debt_data.apply(get_total_income_category, axis=1)\n",
    "debt_data.head(15)"
   ]
  },
  {
   "cell_type": "markdown",
   "metadata": {},
   "source": [
    "**Вывод**"
   ]
  },
  {
   "cell_type": "markdown",
   "metadata": {},
   "source": [
    "Для дальнейшего анализа были определены категории по следующим признакам: количество детей, семейное положение, уровень образования, пола, типа занятости, уровень доходов и цель кредита.\n",
    "Такие категории как пол, уровень образования, тип занятости, цель кредита, были уже изначально указаны в исходных данных. Для определения категорий по количеству детей потребовалось устранить неверные значения (отрицательные и сильно завышенные). Для определения категорий по уровню дохода была написана функция, которая присваивала определенную категорию в зависимости от уровня дохода, после чего эти категории были добавлены к таблице с исходными данными."
   ]
  },
  {
   "cell_type": "markdown",
   "metadata": {},
   "source": [
    "## Анализ зависимости платежеспособности"
   ]
  },
  {
   "cell_type": "markdown",
   "metadata": {},
   "source": [
    "### 1. Зависимость между наличием детей и возвратом кредита в срок"
   ]
  },
  {
   "cell_type": "code",
   "execution_count": 46,
   "metadata": {},
   "outputs": [
    {
     "data": {
      "text/html": [
       "<style  type=\"text/css\" >\n",
       "</style><table id=\"T_69e80df8_445c_11ec_8ac7_02420a399bbb\" ><thead>    <tr>        <th class=\"blank level0\" ></th>        <th class=\"col_heading level0 col0\" colspan=2>Дети и просрочки</th>    </tr>    <tr>        <th class=\"blank level1\" ></th>        <th class=\"col_heading level1 col0\" >Количество заемщиков</th>        <th class=\"col_heading level1 col1\" >Доля кредитов с просрочками</th>    </tr>    <tr>        <th class=\"index_name level0\" >Количество детей заемщика</th>        <th class=\"blank\" ></th>        <th class=\"blank\" ></th>    </tr></thead><tbody>\n",
       "                <tr>\n",
       "                        <th id=\"T_69e80df8_445c_11ec_8ac7_02420a399bbblevel0_row0\" class=\"row_heading level0 row0\" >0</th>\n",
       "                        <td id=\"T_69e80df8_445c_11ec_8ac7_02420a399bbbrow0_col0\" class=\"data row0 col0\" >14090</td>\n",
       "                        <td id=\"T_69e80df8_445c_11ec_8ac7_02420a399bbbrow0_col1\" class=\"data row0 col1\" >7.54%</td>\n",
       "            </tr>\n",
       "            <tr>\n",
       "                        <th id=\"T_69e80df8_445c_11ec_8ac7_02420a399bbblevel0_row1\" class=\"row_heading level0 row1\" >1</th>\n",
       "                        <td id=\"T_69e80df8_445c_11ec_8ac7_02420a399bbbrow1_col0\" class=\"data row1 col0\" >4855</td>\n",
       "                        <td id=\"T_69e80df8_445c_11ec_8ac7_02420a399bbbrow1_col1\" class=\"data row1 col1\" >9.17%</td>\n",
       "            </tr>\n",
       "            <tr>\n",
       "                        <th id=\"T_69e80df8_445c_11ec_8ac7_02420a399bbblevel0_row2\" class=\"row_heading level0 row2\" >2</th>\n",
       "                        <td id=\"T_69e80df8_445c_11ec_8ac7_02420a399bbbrow2_col0\" class=\"data row2 col0\" >2128</td>\n",
       "                        <td id=\"T_69e80df8_445c_11ec_8ac7_02420a399bbbrow2_col1\" class=\"data row2 col1\" >9.49%</td>\n",
       "            </tr>\n",
       "            <tr>\n",
       "                        <th id=\"T_69e80df8_445c_11ec_8ac7_02420a399bbblevel0_row3\" class=\"row_heading level0 row3\" >3</th>\n",
       "                        <td id=\"T_69e80df8_445c_11ec_8ac7_02420a399bbbrow3_col0\" class=\"data row3 col0\" >330</td>\n",
       "                        <td id=\"T_69e80df8_445c_11ec_8ac7_02420a399bbbrow3_col1\" class=\"data row3 col1\" >8.18%</td>\n",
       "            </tr>\n",
       "            <tr>\n",
       "                        <th id=\"T_69e80df8_445c_11ec_8ac7_02420a399bbblevel0_row4\" class=\"row_heading level0 row4\" >4</th>\n",
       "                        <td id=\"T_69e80df8_445c_11ec_8ac7_02420a399bbbrow4_col0\" class=\"data row4 col0\" >41</td>\n",
       "                        <td id=\"T_69e80df8_445c_11ec_8ac7_02420a399bbbrow4_col1\" class=\"data row4 col1\" >9.76%</td>\n",
       "            </tr>\n",
       "            <tr>\n",
       "                        <th id=\"T_69e80df8_445c_11ec_8ac7_02420a399bbblevel0_row5\" class=\"row_heading level0 row5\" >5</th>\n",
       "                        <td id=\"T_69e80df8_445c_11ec_8ac7_02420a399bbbrow5_col0\" class=\"data row5 col0\" >9</td>\n",
       "                        <td id=\"T_69e80df8_445c_11ec_8ac7_02420a399bbbrow5_col1\" class=\"data row5 col1\" >0.00%</td>\n",
       "            </tr>\n",
       "    </tbody></table>"
      ],
      "text/plain": [
       "<pandas.io.formats.style.Styler at 0x7f93d793b110>"
      ]
     },
     "execution_count": 46,
     "metadata": {},
     "output_type": "execute_result"
    }
   ],
   "source": [
    "# создадим новую таблицу для определения процента невозврата кредитов в зависимости от количества детей\n",
    "debt_with_children = debt_data.groupby('children').agg({'debt': ['count', 'mean']})\n",
    "# Переименовываем таблицу и столбцы\n",
    "debt_with_children = debt_with_children.rename(columns = {'debt': 'Дети и просрочки'}, level = 0)\n",
    "debt_with_children = debt_with_children.rename(columns = {'count': 'Количество заемщиков', 'mean': 'Доля кредитов с просрочками'}, level = 1)\n",
    "debt_with_children.index = debt_with_children.index.rename('Количество детей заемщика')\n",
    "# изменяем формат отражения данных в таблице\n",
    "debt_with_children.style.format({('Дети и просрочки', 'Количество заемщиков'): '{:.0f}', ('Дети и просрочки', 'Доля кредитов с просрочками'): '{:.2%}'})"
   ]
  },
  {
   "cell_type": "markdown",
   "metadata": {},
   "source": [
    "**Вывод**"
   ]
  },
  {
   "cell_type": "markdown",
   "metadata": {},
   "source": [
    "При отсутствии детей в семье доля кредитов с просрочками составляет 7,54%. При появлении в семье ребенка доля кредитов с просрочками возрастает примерно на 1,5%. Такой результат выглядит предсказуемым т.к. с появляением детей финансовая нагрузка на семью возрастает, что и приводит к росту количества просрочек по кредитам.\n",
    "Дополнительно отмечаем, что хотя при наличии 5 детей просроченные кредиты отсутствуют, количество заемщиков с таким количеством детей очень маленькое относительно размера выборки, поэтому их можно не учитывать при приняти дальнейших решений."
   ]
  },
  {
   "cell_type": "markdown",
   "metadata": {},
   "source": [
    "### 2. Зависимость между семейным положением и возвратом кредита в срок"
   ]
  },
  {
   "cell_type": "code",
   "execution_count": 47,
   "metadata": {},
   "outputs": [
    {
     "data": {
      "text/html": [
       "<style  type=\"text/css\" >\n",
       "</style><table id=\"T_69ec3806_445c_11ec_8ac7_02420a399bbb\" ><thead>    <tr>        <th class=\"blank level0\" ></th>        <th class=\"col_heading level0 col0\" colspan=2>Семейное положение и просрочки</th>    </tr>    <tr>        <th class=\"blank level1\" ></th>        <th class=\"col_heading level1 col0\" >Количество заемщиков</th>        <th class=\"col_heading level1 col1\" >Доля кредитов с просрочками</th>    </tr>    <tr>        <th class=\"index_name level0\" >Семейное положение заемщика</th>        <th class=\"blank\" ></th>        <th class=\"blank\" ></th>    </tr></thead><tbody>\n",
       "                <tr>\n",
       "                        <th id=\"T_69ec3806_445c_11ec_8ac7_02420a399bbblevel0_row0\" class=\"row_heading level0 row0\" >Не женат / не замужем</th>\n",
       "                        <td id=\"T_69ec3806_445c_11ec_8ac7_02420a399bbbrow0_col0\" class=\"data row0 col0\" >2810</td>\n",
       "                        <td id=\"T_69ec3806_445c_11ec_8ac7_02420a399bbbrow0_col1\" class=\"data row0 col1\" >9.75%</td>\n",
       "            </tr>\n",
       "            <tr>\n",
       "                        <th id=\"T_69ec3806_445c_11ec_8ac7_02420a399bbblevel0_row1\" class=\"row_heading level0 row1\" >в разводе</th>\n",
       "                        <td id=\"T_69ec3806_445c_11ec_8ac7_02420a399bbbrow1_col0\" class=\"data row1 col0\" >1195</td>\n",
       "                        <td id=\"T_69ec3806_445c_11ec_8ac7_02420a399bbbrow1_col1\" class=\"data row1 col1\" >7.11%</td>\n",
       "            </tr>\n",
       "            <tr>\n",
       "                        <th id=\"T_69ec3806_445c_11ec_8ac7_02420a399bbblevel0_row2\" class=\"row_heading level0 row2\" >вдовец / вдова</th>\n",
       "                        <td id=\"T_69ec3806_445c_11ec_8ac7_02420a399bbbrow2_col0\" class=\"data row2 col0\" >959</td>\n",
       "                        <td id=\"T_69ec3806_445c_11ec_8ac7_02420a399bbbrow2_col1\" class=\"data row2 col1\" >6.57%</td>\n",
       "            </tr>\n",
       "            <tr>\n",
       "                        <th id=\"T_69ec3806_445c_11ec_8ac7_02420a399bbblevel0_row3\" class=\"row_heading level0 row3\" >гражданский брак</th>\n",
       "                        <td id=\"T_69ec3806_445c_11ec_8ac7_02420a399bbbrow3_col0\" class=\"data row3 col0\" >4150</td>\n",
       "                        <td id=\"T_69ec3806_445c_11ec_8ac7_02420a399bbbrow3_col1\" class=\"data row3 col1\" >9.35%</td>\n",
       "            </tr>\n",
       "            <tr>\n",
       "                        <th id=\"T_69ec3806_445c_11ec_8ac7_02420a399bbblevel0_row4\" class=\"row_heading level0 row4\" >женат / замужем</th>\n",
       "                        <td id=\"T_69ec3806_445c_11ec_8ac7_02420a399bbbrow4_col0\" class=\"data row4 col0\" >12339</td>\n",
       "                        <td id=\"T_69ec3806_445c_11ec_8ac7_02420a399bbbrow4_col1\" class=\"data row4 col1\" >7.55%</td>\n",
       "            </tr>\n",
       "    </tbody></table>"
      ],
      "text/plain": [
       "<pandas.io.formats.style.Styler at 0x7f93bc4da390>"
      ]
     },
     "execution_count": 47,
     "metadata": {},
     "output_type": "execute_result"
    }
   ],
   "source": [
    "# создадим новую таблицу для определения процента невозврата кредитов в зависимости от семейного положения\n",
    "debt_with_children = debt_data.groupby('family_status').agg({'debt': ['count', 'mean']})\n",
    "# Переименовываем таблицу и столбцы\n",
    "debt_with_children = debt_with_children.rename(columns = {'debt': 'Семейное положение и просрочки'}, level = 0)\n",
    "debt_with_children = debt_with_children.rename(columns = {'count': 'Количество заемщиков', 'mean': 'Доля кредитов с просрочками'}, level = 1)\n",
    "debt_with_children.index = debt_with_children.index.rename('Семейное положение заемщика')\n",
    "# изменяем формат отражения данных в таблице\n",
    "debt_with_children.style.format({('Семейное положение и просрочки', 'Количество заемщиков'): '{:.0f}', ('Семейное положение и просрочки', 'Доля кредитов с просрочками'): '{:.2%}'})"
   ]
  },
  {
   "cell_type": "markdown",
   "metadata": {},
   "source": [
    "**Вывод**"
   ]
  },
  {
   "cell_type": "markdown",
   "metadata": {},
   "source": [
    "Из итоговой таблицы видно, что доля кредитов с просрочками изменяется в зависимости от семейного положения заемщика. \n",
    "Самая высокая доля просрочек по кредитам заемщиков, которые либо не состоят в браке, либо находятся в гражданском браке. Это можно объяснить тем, что заемщик вероятнее всего не имеет дополнительных источников финансирования и может расчитывать только на себя. В случае непредвиденных ситуаций весьма вероятно, что он не сможет погасить кредит в срок. Так же ещё одной причиной может быть тот факт, что данное семейное положение характерно для относительно молодых людей, которые имеют невысокий уровень дохода.\n",
    "\n",
    "На 2% меньше доля кредитов с просрочками у заемщиков, которые либо находятся в официальном браке, либо разведены. Чаще всего это люди среднего возраста со стабильным доходом, которые могут получить поддержку второго члена семьи или бывшего супруга. \n",
    "\n",
    "Самый низкая доля кредитов с просрочками у заемщиков в статусе вдовец/вдова. Скорее всего это люди пожилого возраста, они не так часто берут кредиты, о чем свидетельствует относительно небольшое количество заемщиков с таким семейным положением. И можно предположить, что они более ответственно относятся к платежной дисциплине.\n",
    "\n",
    "Таким образом для скоринговой модели можно посоветовать банку делить людей на следующие категории в зависимости от семейного положения:\n",
    "* не состоят и не состояли в официальном браке\n",
    "* состоят или ранее состояли в официальном браке\n",
    "* вдовы/вдовцы"
   ]
  },
  {
   "cell_type": "markdown",
   "metadata": {},
   "source": [
    "### 3. Зависимость между уровнем дохода и возвратом кредита в срок"
   ]
  },
  {
   "cell_type": "code",
   "execution_count": 48,
   "metadata": {},
   "outputs": [
    {
     "data": {
      "text/html": [
       "<style  type=\"text/css\" >\n",
       "</style><table id=\"T_69f0d3e8_445c_11ec_8ac7_02420a399bbb\" ><thead>    <tr>        <th class=\"blank level0\" ></th>        <th class=\"col_heading level0 col0\" colspan=2>Уровень дохода и просрочки</th>    </tr>    <tr>        <th class=\"blank level1\" ></th>        <th class=\"col_heading level1 col0\" >Количество заемщиков</th>        <th class=\"col_heading level1 col1\" >Доля кредитов с просрочками</th>    </tr>    <tr>        <th class=\"index_name level0\" >Уровень дохода</th>        <th class=\"blank\" ></th>        <th class=\"blank\" ></th>    </tr></thead><tbody>\n",
       "                <tr>\n",
       "                        <th id=\"T_69f0d3e8_445c_11ec_8ac7_02420a399bbblevel0_row0\" class=\"row_heading level0 row0\" >высокий</th>\n",
       "                        <td id=\"T_69f0d3e8_445c_11ec_8ac7_02420a399bbbrow0_col0\" class=\"data row0 col0\" >5422</td>\n",
       "                        <td id=\"T_69f0d3e8_445c_11ec_8ac7_02420a399bbbrow0_col1\" class=\"data row0 col1\" >7.17%</td>\n",
       "            </tr>\n",
       "            <tr>\n",
       "                        <th id=\"T_69f0d3e8_445c_11ec_8ac7_02420a399bbblevel0_row1\" class=\"row_heading level0 row1\" >выше среднего</th>\n",
       "                        <td id=\"T_69f0d3e8_445c_11ec_8ac7_02420a399bbbrow1_col0\" class=\"data row1 col0\" >8088</td>\n",
       "                        <td id=\"T_69f0d3e8_445c_11ec_8ac7_02420a399bbbrow1_col1\" class=\"data row1 col1\" >8.72%</td>\n",
       "            </tr>\n",
       "            <tr>\n",
       "                        <th id=\"T_69f0d3e8_445c_11ec_8ac7_02420a399bbblevel0_row2\" class=\"row_heading level0 row2\" >ниже среднего</th>\n",
       "                        <td id=\"T_69f0d3e8_445c_11ec_8ac7_02420a399bbbrow2_col0\" class=\"data row2 col0\" >6845</td>\n",
       "                        <td id=\"T_69f0d3e8_445c_11ec_8ac7_02420a399bbbrow2_col1\" class=\"data row2 col1\" >8.39%</td>\n",
       "            </tr>\n",
       "            <tr>\n",
       "                        <th id=\"T_69f0d3e8_445c_11ec_8ac7_02420a399bbblevel0_row3\" class=\"row_heading level0 row3\" >низкий</th>\n",
       "                        <td id=\"T_69f0d3e8_445c_11ec_8ac7_02420a399bbbrow3_col0\" class=\"data row3 col0\" >1098</td>\n",
       "                        <td id=\"T_69f0d3e8_445c_11ec_8ac7_02420a399bbbrow3_col1\" class=\"data row3 col1\" >6.65%</td>\n",
       "            </tr>\n",
       "    </tbody></table>"
      ],
      "text/plain": [
       "<pandas.io.formats.style.Styler at 0x7f93bc901a90>"
      ]
     },
     "execution_count": 48,
     "metadata": {},
     "output_type": "execute_result"
    }
   ],
   "source": [
    "# создадим новую таблицу для определения процента невозврата кредитов в зависимости от семейного положения\n",
    "debt_with_children = debt_data.groupby('total_income_category').agg({'debt': ['count', 'mean']})\n",
    "# Переименовываем таблицу и столбцы\n",
    "debt_with_children = debt_with_children.rename(columns = {'debt': 'Уровень дохода и просрочки'}, level = 0)\n",
    "debt_with_children = debt_with_children.rename(columns = {'count': 'Количество заемщиков', 'mean': 'Доля кредитов с просрочками'}, level = 1)\n",
    "debt_with_children.index = debt_with_children.index.rename('Уровень дохода')\n",
    "# изменяем формат отражения данных в таблице\n",
    "debt_with_children.style.format({('Уровень дохода и просрочки', 'Количество заемщиков'): '{:.0f}', ('Уровень дохода и просрочки', 'Доля кредитов с просрочками'): '{:.2%}'})"
   ]
  },
  {
   "cell_type": "markdown",
   "metadata": {},
   "source": [
    "**Вывод**"
   ]
  },
  {
   "cell_type": "markdown",
   "metadata": {},
   "source": [
    "Уровень дохода является одним из ключевых показателей при принятии решения о выдаче кредита и определении условий кредитования. Поэтому логичным выглядит факт, что люди с низким уровнем дохода имеют низкий процент просроченных кредитов. Как правило это кредиты на небольшие суммы с легкособлюдаемыми условиями кредитования.\n",
    "Люди с высоким уровнем дохода так же допускают относительно немного просрочек по кредитам. Можно предположить, что люди с высоким уровнем дохода берут кредиты не только на личные цели, но и для бизнеса, вследствие чего погашение кредита может быть привязано к результативности бизнеса. \n",
    "Люди суровнем дохода ниже и выше среднего имеют наибольшую долю кредитов с просрочками. В данном сегменте ожидается наибольшее разнообразие кредитных продуктов и относительно большое их количество на одного заемщика. Поэтмоу высокая доля просрочек по кредитам может быть связана с большой финансовой нагрузкой на заемщика и сложностью контроля со стороны заемщика за своим кредитным портфелем."
   ]
  },
  {
   "cell_type": "markdown",
   "metadata": {},
   "source": [
    "### 4. Влияние цели кредита его возврат в срок"
   ]
  },
  {
   "cell_type": "code",
   "execution_count": 49,
   "metadata": {},
   "outputs": [
    {
     "data": {
      "text/html": [
       "<style  type=\"text/css\" >\n",
       "</style><table id=\"T_69f4739a_445c_11ec_8ac7_02420a399bbb\" ><thead>    <tr>        <th class=\"blank level0\" ></th>        <th class=\"col_heading level0 col0\" colspan=2>Цель кредита и просрочки</th>    </tr>    <tr>        <th class=\"blank level1\" ></th>        <th class=\"col_heading level1 col0\" >Количество заемщиков</th>        <th class=\"col_heading level1 col1\" >Доля кредитов с просрочками</th>    </tr>    <tr>        <th class=\"index_name level0\" >Цель кредита</th>        <th class=\"blank\" ></th>        <th class=\"blank\" ></th>    </tr></thead><tbody>\n",
       "                <tr>\n",
       "                        <th id=\"T_69f4739a_445c_11ec_8ac7_02420a399bbblevel0_row0\" class=\"row_heading level0 row0\" >автомобиль</th>\n",
       "                        <td id=\"T_69f4739a_445c_11ec_8ac7_02420a399bbbrow0_col0\" class=\"data row0 col0\" >4306</td>\n",
       "                        <td id=\"T_69f4739a_445c_11ec_8ac7_02420a399bbbrow0_col1\" class=\"data row0 col1\" >9.36%</td>\n",
       "            </tr>\n",
       "            <tr>\n",
       "                        <th id=\"T_69f4739a_445c_11ec_8ac7_02420a399bbblevel0_row1\" class=\"row_heading level0 row1\" >жилье</th>\n",
       "                        <td id=\"T_69f4739a_445c_11ec_8ac7_02420a399bbbrow1_col0\" class=\"data row1 col0\" >4460</td>\n",
       "                        <td id=\"T_69f4739a_445c_11ec_8ac7_02420a399bbbrow1_col1\" class=\"data row1 col1\" >6.91%</td>\n",
       "            </tr>\n",
       "            <tr>\n",
       "                        <th id=\"T_69f4739a_445c_11ec_8ac7_02420a399bbblevel0_row2\" class=\"row_heading level0 row2\" >недвижимость</th>\n",
       "                        <td id=\"T_69f4739a_445c_11ec_8ac7_02420a399bbbrow2_col0\" class=\"data row2 col0\" >6350</td>\n",
       "                        <td id=\"T_69f4739a_445c_11ec_8ac7_02420a399bbbrow2_col1\" class=\"data row2 col1\" >7.46%</td>\n",
       "            </tr>\n",
       "            <tr>\n",
       "                        <th id=\"T_69f4739a_445c_11ec_8ac7_02420a399bbblevel0_row3\" class=\"row_heading level0 row3\" >образование</th>\n",
       "                        <td id=\"T_69f4739a_445c_11ec_8ac7_02420a399bbbrow3_col0\" class=\"data row3 col0\" >4013</td>\n",
       "                        <td id=\"T_69f4739a_445c_11ec_8ac7_02420a399bbbrow3_col1\" class=\"data row3 col1\" >9.22%</td>\n",
       "            </tr>\n",
       "            <tr>\n",
       "                        <th id=\"T_69f4739a_445c_11ec_8ac7_02420a399bbblevel0_row4\" class=\"row_heading level0 row4\" >свадьба</th>\n",
       "                        <td id=\"T_69f4739a_445c_11ec_8ac7_02420a399bbbrow4_col0\" class=\"data row4 col0\" >2324</td>\n",
       "                        <td id=\"T_69f4739a_445c_11ec_8ac7_02420a399bbbrow4_col1\" class=\"data row4 col1\" >8.00%</td>\n",
       "            </tr>\n",
       "    </tbody></table>"
      ],
      "text/plain": [
       "<pandas.io.formats.style.Styler at 0x7f93bc4e8090>"
      ]
     },
     "execution_count": 49,
     "metadata": {},
     "output_type": "execute_result"
    }
   ],
   "source": [
    "# создадим новую таблицу для определения процента невозврата кредитов в зависимости от семейного положения\n",
    "debt_with_children = debt_data.groupby('purpose_category').agg({'debt': ['count', 'mean']})\n",
    "# Переименовываем таблицу и столбцы\n",
    "debt_with_children = debt_with_children.rename(columns = {'debt': 'Цель кредита и просрочки'}, level = 0)\n",
    "debt_with_children = debt_with_children.rename(columns = {'count': 'Количество заемщиков', 'mean': 'Доля кредитов с просрочками'}, level = 1)\n",
    "debt_with_children.index = debt_with_children.index.rename('Цель кредита')\n",
    "# изменяем формат отражения данных в таблице\n",
    "debt_with_children.style.format({('Цель кредита и просрочки', 'Количество заемщиков'): '{:.0f}', ('Цель кредита и просрочки', 'Доля кредитов с просрочками'): '{:.2%}'})"
   ]
  },
  {
   "cell_type": "markdown",
   "metadata": {},
   "source": [
    "**Вывод**"
   ]
  },
  {
   "cell_type": "markdown",
   "metadata": {},
   "source": [
    "По результатам анализа исходных данных выявлено, что чаще всего в просрочку попадают кредиты, выданные на приобретение автомобиля или на образование. Вероятнее всего это связано с условиями кредитования, которые не предусматривают серьезных штрафов за просрочку оплаты, и с характеристикой заемщиков. Заемщиком по таким кредитам скорее всего выступает относительно молодой человек с уровнем дохода ниже среднего. Этими  факторами можно так же объяснить просчроки по кредитам на свадьбу. Дополнительным фактором возникновения просрочек здесь может являться отсутствие поддержки родственников т.к. как правило с организацией и оплатой свадьбы помогают родственники.\n",
    "\n",
    "Меньше всего допускается просрочек по кредитам, целью которых является приобретение жилья и недвижимости. Скорее всего это связано с более высокой платежной дисциплиной, которая обусловлена условиями кредитования. Так же важным фактором является то, что такие кредиты часто погашаются заранее (например при покупке новой квартиры продается старая и на полученные деньги гасится кредит)."
   ]
  },
  {
   "cell_type": "markdown",
   "metadata": {},
   "source": [
    "### 5. Влияние пола заемщика на возврат кредита в срок."
   ]
  },
  {
   "cell_type": "code",
   "execution_count": 50,
   "metadata": {},
   "outputs": [
    {
     "data": {
      "text/html": [
       "<style  type=\"text/css\" >\n",
       "</style><table id=\"T_69f7cd38_445c_11ec_8ac7_02420a399bbb\" ><thead>    <tr>        <th class=\"blank level0\" ></th>        <th class=\"col_heading level0 col0\" colspan=2>Пол заемщика и просрочки</th>    </tr>    <tr>        <th class=\"blank level1\" ></th>        <th class=\"col_heading level1 col0\" >Количество заемщиков</th>        <th class=\"col_heading level1 col1\" >Доля кредитов с просрочками</th>    </tr>    <tr>        <th class=\"index_name level0\" >Пол заемщика</th>        <th class=\"blank\" ></th>        <th class=\"blank\" ></th>    </tr></thead><tbody>\n",
       "                <tr>\n",
       "                        <th id=\"T_69f7cd38_445c_11ec_8ac7_02420a399bbblevel0_row0\" class=\"row_heading level0 row0\" >F</th>\n",
       "                        <td id=\"T_69f7cd38_445c_11ec_8ac7_02420a399bbbrow0_col0\" class=\"data row0 col0\" >14174</td>\n",
       "                        <td id=\"T_69f7cd38_445c_11ec_8ac7_02420a399bbbrow0_col1\" class=\"data row0 col1\" >7.01%</td>\n",
       "            </tr>\n",
       "            <tr>\n",
       "                        <th id=\"T_69f7cd38_445c_11ec_8ac7_02420a399bbblevel0_row1\" class=\"row_heading level0 row1\" >M</th>\n",
       "                        <td id=\"T_69f7cd38_445c_11ec_8ac7_02420a399bbbrow1_col0\" class=\"data row1 col0\" >7279</td>\n",
       "                        <td id=\"T_69f7cd38_445c_11ec_8ac7_02420a399bbbrow1_col1\" class=\"data row1 col1\" >10.26%</td>\n",
       "            </tr>\n",
       "    </tbody></table>"
      ],
      "text/plain": [
       "<pandas.io.formats.style.Styler at 0x7f93bc4e55d0>"
      ]
     },
     "execution_count": 50,
     "metadata": {},
     "output_type": "execute_result"
    }
   ],
   "source": [
    "# создадим новую таблицу для определения процента невозврата кредитов в зависимости от семейного положения\n",
    "debt_with_children = debt_data.groupby('gender').agg({'debt': ['count', 'mean']})\n",
    "# Переименовываем таблицу и столбцы\n",
    "debt_with_children = debt_with_children.rename(columns = {'debt': 'Пол заемщика и просрочки'}, level = 0)\n",
    "debt_with_children = debt_with_children.rename(columns = {'count': 'Количество заемщиков', 'mean': 'Доля кредитов с просрочками'}, level = 1)\n",
    "debt_with_children.index = debt_with_children.index.rename('Пол заемщика')\n",
    "# изменяем формат отражения данных в таблице\n",
    "debt_with_children.style.format({('Пол заемщика и просрочки', 'Количество заемщиков'): '{:.0f}', ('Пол заемщика и просрочки', 'Доля кредитов с просрочками'): '{:.2%}'})"
   ]
  },
  {
   "cell_type": "markdown",
   "metadata": {},
   "source": [
    "Доля кредитов с просрочками у мужчин значительно выше, чем у женщин. Это объясняется большей аккуратостью женщины в плане платежной дисциплины, а так же тем, что женщина с большей вероятностью может рассчитывать на финансовую поддержку со стороны (например родственников или бывшего мужа)."
   ]
  },
  {
   "cell_type": "markdown",
   "metadata": {},
   "source": [
    "## Общий вывод"
   ]
  },
  {
   "cell_type": "markdown",
   "metadata": {},
   "source": [
    "В ходе исследования анализировалось влияние различных факторов на погашение кредита в срок. По итогам можно составить портрет идеального заемщика:\n",
    "* женщина\n",
    "* без детей\n",
    "* состоит в браке или разведена\n",
    "* с высоким уровнем дохода (более 200 тыс.)\n",
    "* берет кредит на приобретение жилья\n",
    "\n",
    "Независимо от того, в каком разрезе анализировалась доля просроченных кредитов, доля кредитов с просрочками не превышала 10%. Банк может использовать данную информацию при определении необходимых резервов, чтобы покрыть убытки в случае несвоевременного возврата кредитов.\n",
    "\n",
    "По результатам анализа данных предлагаем следующие рекомендации для банка в части сбора информации:\n",
    "* настроить систему хранения данных клиента таким образом, чтобы при повторном обращении данные клиента не задваивались в системе;\n",
    "* для полей с ограниченным числом вариантов (например уровень образования) убрать из формы свободный ввод и заменить их выпадающими списками;\n",
    "* установить ограничения на размер вводимых значений для количественных полей "
   ]
  },
  {
   "cell_type": "code",
   "execution_count": null,
   "metadata": {},
   "outputs": [],
   "source": []
  }
 ],
 "metadata": {
  "ExecuteTimeLog": [
   {
    "duration": 810,
    "start_time": "2021-11-07T18:33:05.622Z"
   },
   {
    "duration": 85,
    "start_time": "2021-11-07T18:35:17.061Z"
   },
   {
    "duration": 16,
    "start_time": "2021-11-07T18:36:16.818Z"
   },
   {
    "duration": 33,
    "start_time": "2021-11-07T18:37:11.573Z"
   },
   {
    "duration": 388,
    "start_time": "2021-11-07T18:42:38.268Z"
   },
   {
    "duration": 34,
    "start_time": "2021-11-07T18:42:47.626Z"
   },
   {
    "duration": 31,
    "start_time": "2021-11-07T18:43:00.735Z"
   },
   {
    "duration": 33,
    "start_time": "2021-11-07T18:43:25.409Z"
   },
   {
    "duration": 39,
    "start_time": "2021-11-07T18:44:34.777Z"
   },
   {
    "duration": 20,
    "start_time": "2021-11-07T19:35:33.632Z"
   },
   {
    "duration": 14,
    "start_time": "2021-11-07T19:35:37.974Z"
   },
   {
    "duration": 293,
    "start_time": "2021-11-07T19:42:51.810Z"
   },
   {
    "duration": 376,
    "start_time": "2021-11-07T19:43:16.398Z"
   },
   {
    "duration": 28,
    "start_time": "2021-11-07T19:43:23.830Z"
   },
   {
    "duration": 30,
    "start_time": "2021-11-07T19:43:43.332Z"
   },
   {
    "duration": 32,
    "start_time": "2021-11-07T19:44:03.669Z"
   },
   {
    "duration": 30,
    "start_time": "2021-11-07T19:44:13.003Z"
   },
   {
    "duration": 28,
    "start_time": "2021-11-07T19:44:30.450Z"
   },
   {
    "duration": 28,
    "start_time": "2021-11-07T19:44:44.614Z"
   },
   {
    "duration": 28,
    "start_time": "2021-11-07T19:45:57.858Z"
   },
   {
    "duration": 27,
    "start_time": "2021-11-07T19:46:07.161Z"
   },
   {
    "duration": 28,
    "start_time": "2021-11-07T19:46:26.235Z"
   },
   {
    "duration": 29,
    "start_time": "2021-11-07T19:58:16.499Z"
   },
   {
    "duration": 29,
    "start_time": "2021-11-07T20:03:18.037Z"
   },
   {
    "duration": 549,
    "start_time": "2021-11-08T17:46:04.292Z"
   },
   {
    "duration": 51,
    "start_time": "2021-11-08T17:46:05.965Z"
   },
   {
    "duration": 21,
    "start_time": "2021-11-08T17:46:06.508Z"
   },
   {
    "duration": 19,
    "start_time": "2021-11-08T17:46:08.431Z"
   },
   {
    "duration": 11,
    "start_time": "2021-11-08T17:46:09.461Z"
   },
   {
    "duration": 2,
    "start_time": "2021-11-08T18:33:30.959Z"
   },
   {
    "duration": 47,
    "start_time": "2021-11-08T18:33:31.319Z"
   },
   {
    "duration": 14,
    "start_time": "2021-11-08T18:33:35.779Z"
   },
   {
    "duration": 19,
    "start_time": "2021-11-08T18:33:36.416Z"
   },
   {
    "duration": 10,
    "start_time": "2021-11-08T18:33:37.014Z"
   },
   {
    "duration": 29,
    "start_time": "2021-11-08T18:34:16.749Z"
   },
   {
    "duration": 32,
    "start_time": "2021-11-08T18:34:43.810Z"
   },
   {
    "duration": 26,
    "start_time": "2021-11-08T18:35:02.640Z"
   },
   {
    "duration": 261,
    "start_time": "2021-11-08T18:36:20.077Z"
   },
   {
    "duration": 10,
    "start_time": "2021-11-08T18:36:28.707Z"
   },
   {
    "duration": 14,
    "start_time": "2021-11-08T18:36:51.697Z"
   },
   {
    "duration": 9,
    "start_time": "2021-11-08T18:37:10.643Z"
   },
   {
    "duration": 9,
    "start_time": "2021-11-08T18:37:19.199Z"
   },
   {
    "duration": 14,
    "start_time": "2021-11-08T18:37:30.105Z"
   },
   {
    "duration": 9,
    "start_time": "2021-11-08T18:37:38.919Z"
   },
   {
    "duration": 9,
    "start_time": "2021-11-08T18:37:45.996Z"
   },
   {
    "duration": 9,
    "start_time": "2021-11-08T18:37:51.561Z"
   },
   {
    "duration": 8,
    "start_time": "2021-11-08T18:37:56.963Z"
   },
   {
    "duration": 14,
    "start_time": "2021-11-08T18:38:02.331Z"
   },
   {
    "duration": 10,
    "start_time": "2021-11-08T18:38:59.735Z"
   },
   {
    "duration": 7,
    "start_time": "2021-11-08T18:40:13.170Z"
   },
   {
    "duration": 5,
    "start_time": "2021-11-08T18:40:40.688Z"
   },
   {
    "duration": 5,
    "start_time": "2021-11-08T18:40:57.475Z"
   },
   {
    "duration": 9,
    "start_time": "2021-11-08T18:44:05.544Z"
   },
   {
    "duration": 178,
    "start_time": "2021-11-08T18:48:15.018Z"
   },
   {
    "duration": 223,
    "start_time": "2021-11-08T18:48:24.273Z"
   },
   {
    "duration": 176,
    "start_time": "2021-11-08T19:09:36.136Z"
   },
   {
    "duration": 184,
    "start_time": "2021-11-08T19:09:45.165Z"
   },
   {
    "duration": 176,
    "start_time": "2021-11-08T19:11:08.800Z"
   },
   {
    "duration": 174,
    "start_time": "2021-11-08T19:11:20.311Z"
   },
   {
    "duration": 191,
    "start_time": "2021-11-08T19:11:43.346Z"
   },
   {
    "duration": 175,
    "start_time": "2021-11-08T19:11:55.737Z"
   },
   {
    "duration": 181,
    "start_time": "2021-11-08T19:12:04.750Z"
   },
   {
    "duration": 180,
    "start_time": "2021-11-08T19:13:45.475Z"
   },
   {
    "duration": 180,
    "start_time": "2021-11-08T19:14:12.201Z"
   },
   {
    "duration": 181,
    "start_time": "2021-11-08T19:14:19.461Z"
   },
   {
    "duration": 187,
    "start_time": "2021-11-08T19:14:44.771Z"
   },
   {
    "duration": 167,
    "start_time": "2021-11-08T19:14:57.694Z"
   },
   {
    "duration": 192,
    "start_time": "2021-11-08T19:15:06.201Z"
   },
   {
    "duration": 3,
    "start_time": "2021-11-08T19:15:23.507Z"
   },
   {
    "duration": 53,
    "start_time": "2021-11-08T19:15:23.512Z"
   },
   {
    "duration": 13,
    "start_time": "2021-11-08T19:15:23.567Z"
   },
   {
    "duration": 21,
    "start_time": "2021-11-08T19:15:23.581Z"
   },
   {
    "duration": 10,
    "start_time": "2021-11-08T19:15:23.604Z"
   },
   {
    "duration": 186,
    "start_time": "2021-11-08T19:15:23.615Z"
   },
   {
    "duration": 191,
    "start_time": "2021-11-08T19:15:43.431Z"
   },
   {
    "duration": 177,
    "start_time": "2021-11-08T19:15:49.852Z"
   },
   {
    "duration": 9,
    "start_time": "2021-11-08T19:16:05.887Z"
   },
   {
    "duration": 11,
    "start_time": "2021-11-08T19:16:25.841Z"
   },
   {
    "duration": 11,
    "start_time": "2021-11-08T19:16:35.868Z"
   },
   {
    "duration": 175,
    "start_time": "2021-11-08T19:17:43.588Z"
   },
   {
    "duration": 172,
    "start_time": "2021-11-08T19:17:57.277Z"
   },
   {
    "duration": 5,
    "start_time": "2021-11-08T19:18:06.616Z"
   },
   {
    "duration": 4,
    "start_time": "2021-11-08T19:18:15.261Z"
   },
   {
    "duration": 247,
    "start_time": "2021-11-08T20:32:40.936Z"
   },
   {
    "duration": 186,
    "start_time": "2021-11-08T20:52:44.467Z"
   },
   {
    "duration": 9,
    "start_time": "2021-11-08T20:53:08.552Z"
   },
   {
    "duration": 3,
    "start_time": "2021-11-08T20:53:36.630Z"
   },
   {
    "duration": 14,
    "start_time": "2021-11-08T20:54:10.583Z"
   },
   {
    "duration": 189,
    "start_time": "2021-11-08T20:54:33.437Z"
   },
   {
    "duration": 15,
    "start_time": "2021-11-08T20:57:37.131Z"
   },
   {
    "duration": 193,
    "start_time": "2021-11-08T20:58:18.231Z"
   },
   {
    "duration": 16,
    "start_time": "2021-11-08T20:58:33.977Z"
   },
   {
    "duration": 17,
    "start_time": "2021-11-08T20:59:54.938Z"
   },
   {
    "duration": 15,
    "start_time": "2021-11-08T21:00:04.555Z"
   },
   {
    "duration": 173,
    "start_time": "2021-11-08T21:00:11.194Z"
   },
   {
    "duration": 51,
    "start_time": "2021-11-08T21:01:57.329Z"
   },
   {
    "duration": 17,
    "start_time": "2021-11-08T21:02:15.389Z"
   },
   {
    "duration": 255,
    "start_time": "2021-11-08T21:02:23.459Z"
   },
   {
    "duration": 177,
    "start_time": "2021-11-08T21:07:28.297Z"
   },
   {
    "duration": 16,
    "start_time": "2021-11-08T21:07:35.829Z"
   },
   {
    "duration": 15,
    "start_time": "2021-11-08T21:09:16.025Z"
   },
   {
    "duration": 15,
    "start_time": "2021-11-08T21:09:32.456Z"
   },
   {
    "duration": 15,
    "start_time": "2021-11-08T21:09:50.188Z"
   },
   {
    "duration": 12,
    "start_time": "2021-11-08T21:10:09.303Z"
   },
   {
    "duration": 195,
    "start_time": "2021-11-08T21:21:29.986Z"
   },
   {
    "duration": 192,
    "start_time": "2021-11-08T21:21:48.534Z"
   },
   {
    "duration": 99,
    "start_time": "2021-11-09T18:54:29.219Z"
   },
   {
    "duration": 373,
    "start_time": "2021-11-09T18:54:37.388Z"
   },
   {
    "duration": 781,
    "start_time": "2021-11-09T18:54:45.688Z"
   },
   {
    "duration": 88,
    "start_time": "2021-11-09T18:54:46.472Z"
   },
   {
    "duration": 53,
    "start_time": "2021-11-09T18:54:46.564Z"
   },
   {
    "duration": 62,
    "start_time": "2021-11-09T18:54:46.621Z"
   },
   {
    "duration": 21,
    "start_time": "2021-11-09T18:54:46.685Z"
   },
   {
    "duration": 7,
    "start_time": "2021-11-09T18:54:46.709Z"
   },
   {
    "duration": 627,
    "start_time": "2021-11-09T18:54:46.719Z"
   },
   {
    "duration": 35,
    "start_time": "2021-11-09T18:54:47.348Z"
   },
   {
    "duration": 418,
    "start_time": "2021-11-09T18:54:47.387Z"
   },
   {
    "duration": 6,
    "start_time": "2021-11-09T18:54:47.807Z"
   },
   {
    "duration": 28,
    "start_time": "2021-11-09T18:54:47.816Z"
   },
   {
    "duration": 322,
    "start_time": "2021-11-09T18:54:47.846Z"
   },
   {
    "duration": 859,
    "start_time": "2021-11-10T17:32:12.495Z"
   },
   {
    "duration": 73,
    "start_time": "2021-11-10T17:32:13.356Z"
   },
   {
    "duration": 34,
    "start_time": "2021-11-10T17:32:13.431Z"
   },
   {
    "duration": 44,
    "start_time": "2021-11-10T17:32:13.468Z"
   },
   {
    "duration": 17,
    "start_time": "2021-11-10T17:32:13.516Z"
   },
   {
    "duration": 7,
    "start_time": "2021-11-10T17:32:13.537Z"
   },
   {
    "duration": 425,
    "start_time": "2021-11-10T17:32:13.584Z"
   },
   {
    "duration": 25,
    "start_time": "2021-11-10T17:32:14.013Z"
   },
   {
    "duration": 361,
    "start_time": "2021-11-10T17:32:14.041Z"
   },
   {
    "duration": 588,
    "start_time": "2021-11-10T17:32:19.495Z"
   },
   {
    "duration": 6,
    "start_time": "2021-11-10T17:33:06.677Z"
   },
   {
    "duration": 8,
    "start_time": "2021-11-10T17:42:02.940Z"
   },
   {
    "duration": 8,
    "start_time": "2021-11-10T17:42:10.229Z"
   },
   {
    "duration": 103,
    "start_time": "2021-11-10T17:54:53.772Z"
   },
   {
    "duration": 5,
    "start_time": "2021-11-10T17:55:09.951Z"
   },
   {
    "duration": 5,
    "start_time": "2021-11-10T17:55:23.236Z"
   },
   {
    "duration": 7,
    "start_time": "2021-11-10T17:55:32.741Z"
   },
   {
    "duration": 7891,
    "start_time": "2021-11-10T17:57:10.849Z"
   },
   {
    "duration": 8579,
    "start_time": "2021-11-10T18:00:09.077Z"
   },
   {
    "duration": 10,
    "start_time": "2021-11-10T18:00:52.132Z"
   },
   {
    "duration": 7833,
    "start_time": "2021-11-10T18:01:16.913Z"
   },
   {
    "duration": 103,
    "start_time": "2021-11-10T18:02:52.045Z"
   },
   {
    "duration": 106,
    "start_time": "2021-11-10T18:03:22.239Z"
   },
   {
    "duration": 38,
    "start_time": "2021-11-10T18:04:02.086Z"
   },
   {
    "duration": 35,
    "start_time": "2021-11-10T18:04:17.887Z"
   },
   {
    "duration": 37,
    "start_time": "2021-11-10T18:05:34.190Z"
   },
   {
    "duration": 36,
    "start_time": "2021-11-10T18:05:40.476Z"
   },
   {
    "duration": 281,
    "start_time": "2021-11-10T18:38:48.312Z"
   },
   {
    "duration": 364,
    "start_time": "2021-11-10T18:39:32.171Z"
   },
   {
    "duration": 14,
    "start_time": "2021-11-10T18:45:00.505Z"
   },
   {
    "duration": 15,
    "start_time": "2021-11-10T18:46:17.127Z"
   },
   {
    "duration": 25,
    "start_time": "2021-11-10T18:47:09.525Z"
   },
   {
    "duration": 25,
    "start_time": "2021-11-10T18:47:54.313Z"
   },
   {
    "duration": 416,
    "start_time": "2021-11-11T08:40:36.042Z"
   },
   {
    "duration": 737,
    "start_time": "2021-11-11T08:40:46.309Z"
   },
   {
    "duration": 79,
    "start_time": "2021-11-11T08:40:47.049Z"
   },
   {
    "duration": 55,
    "start_time": "2021-11-11T08:40:47.132Z"
   },
   {
    "duration": 44,
    "start_time": "2021-11-11T08:40:47.191Z"
   },
   {
    "duration": 48,
    "start_time": "2021-11-11T08:40:47.238Z"
   },
   {
    "duration": 8,
    "start_time": "2021-11-11T08:40:47.290Z"
   },
   {
    "duration": 690,
    "start_time": "2021-11-11T08:40:47.301Z"
   },
   {
    "duration": 37,
    "start_time": "2021-11-11T08:40:47.994Z"
   },
   {
    "duration": 510,
    "start_time": "2021-11-11T08:40:48.036Z"
   },
   {
    "duration": 19,
    "start_time": "2021-11-11T08:40:48.549Z"
   },
   {
    "duration": 36,
    "start_time": "2021-11-11T08:40:48.571Z"
   },
   {
    "duration": 62,
    "start_time": "2021-11-11T08:40:48.610Z"
   },
   {
    "duration": 302,
    "start_time": "2021-11-11T08:40:48.674Z"
   },
   {
    "duration": 269,
    "start_time": "2021-11-11T08:40:51.844Z"
   },
   {
    "duration": 9,
    "start_time": "2021-11-11T08:40:59.339Z"
   },
   {
    "duration": 9,
    "start_time": "2021-11-11T08:41:12.186Z"
   },
   {
    "duration": 30,
    "start_time": "2021-11-11T10:08:07.157Z"
   },
   {
    "duration": 270,
    "start_time": "2021-11-11T10:11:51.957Z"
   },
   {
    "duration": 264,
    "start_time": "2021-11-11T10:11:59.063Z"
   },
   {
    "duration": 498,
    "start_time": "2021-11-11T10:13:10.975Z"
   },
   {
    "duration": 6,
    "start_time": "2021-11-11T10:14:14.104Z"
   },
   {
    "duration": 6,
    "start_time": "2021-11-11T10:14:28.105Z"
   },
   {
    "duration": 257,
    "start_time": "2021-11-11T10:18:32.846Z"
   },
   {
    "duration": 12,
    "start_time": "2021-11-11T10:22:13.674Z"
   },
   {
    "duration": 15,
    "start_time": "2021-11-11T10:22:52.430Z"
   },
   {
    "duration": 10,
    "start_time": "2021-11-11T10:23:32.738Z"
   },
   {
    "duration": 15,
    "start_time": "2021-11-11T10:23:36.630Z"
   },
   {
    "duration": 19,
    "start_time": "2021-11-11T10:23:55.280Z"
   },
   {
    "duration": 25,
    "start_time": "2021-11-11T10:24:30.310Z"
   },
   {
    "duration": 20,
    "start_time": "2021-11-11T10:24:31.784Z"
   },
   {
    "duration": 25,
    "start_time": "2021-11-11T10:24:42.738Z"
   },
   {
    "duration": 73,
    "start_time": "2021-11-11T10:24:49.636Z"
   },
   {
    "duration": 23,
    "start_time": "2021-11-11T10:25:02.195Z"
   },
   {
    "duration": 15,
    "start_time": "2021-11-11T10:25:06.676Z"
   },
   {
    "duration": 25,
    "start_time": "2021-11-11T10:25:35.854Z"
   },
   {
    "duration": 19,
    "start_time": "2021-11-11T10:25:37.050Z"
   },
   {
    "duration": 23,
    "start_time": "2021-11-11T10:26:15.549Z"
   },
   {
    "duration": 61,
    "start_time": "2021-11-11T10:27:13.708Z"
   },
   {
    "duration": 24,
    "start_time": "2021-11-11T10:27:18.970Z"
   },
   {
    "duration": 21,
    "start_time": "2021-11-11T10:27:23.809Z"
   },
   {
    "duration": 9,
    "start_time": "2021-11-11T10:33:33.007Z"
   },
   {
    "duration": 16,
    "start_time": "2021-11-11T10:33:44.353Z"
   },
   {
    "duration": 26,
    "start_time": "2021-11-11T10:35:12.600Z"
   },
   {
    "duration": 10,
    "start_time": "2021-11-11T10:35:48.738Z"
   },
   {
    "duration": 16,
    "start_time": "2021-11-11T10:35:52.828Z"
   },
   {
    "duration": 32,
    "start_time": "2021-11-11T10:37:04.881Z"
   },
   {
    "duration": 16,
    "start_time": "2021-11-11T10:37:07.364Z"
   },
   {
    "duration": 32,
    "start_time": "2021-11-11T10:38:01.052Z"
   },
   {
    "duration": 84,
    "start_time": "2021-11-11T10:50:08.827Z"
   },
   {
    "duration": 40,
    "start_time": "2021-11-11T10:50:18.912Z"
   },
   {
    "duration": 15,
    "start_time": "2021-11-11T10:50:37.789Z"
   },
   {
    "duration": 300,
    "start_time": "2021-11-11T10:50:56.090Z"
   },
   {
    "duration": 18,
    "start_time": "2021-11-11T10:56:12.863Z"
   },
   {
    "duration": 4,
    "start_time": "2021-11-11T10:56:28.226Z"
   },
   {
    "duration": 70,
    "start_time": "2021-11-11T10:56:28.232Z"
   },
   {
    "duration": 22,
    "start_time": "2021-11-11T10:56:28.305Z"
   },
   {
    "duration": 49,
    "start_time": "2021-11-11T10:56:28.330Z"
   },
   {
    "duration": 14,
    "start_time": "2021-11-11T10:56:28.382Z"
   },
   {
    "duration": 7,
    "start_time": "2021-11-11T10:56:28.399Z"
   },
   {
    "duration": 383,
    "start_time": "2021-11-11T10:56:28.409Z"
   },
   {
    "duration": 25,
    "start_time": "2021-11-11T10:56:28.795Z"
   },
   {
    "duration": 351,
    "start_time": "2021-11-11T10:56:28.823Z"
   },
   {
    "duration": 7,
    "start_time": "2021-11-11T10:56:29.177Z"
   },
   {
    "duration": 44,
    "start_time": "2021-11-11T10:56:29.186Z"
   },
   {
    "duration": 51,
    "start_time": "2021-11-11T10:56:29.232Z"
   },
   {
    "duration": 8,
    "start_time": "2021-11-11T10:56:29.286Z"
   },
   {
    "duration": 30,
    "start_time": "2021-11-11T10:56:29.297Z"
   },
   {
    "duration": 66,
    "start_time": "2021-11-11T10:56:29.330Z"
   },
   {
    "duration": 1121,
    "start_time": "2021-11-11T10:57:08.691Z"
   },
   {
    "duration": 34,
    "start_time": "2021-11-11T10:57:39.856Z"
   },
   {
    "duration": 313,
    "start_time": "2021-11-11T11:25:12.626Z"
   },
   {
    "duration": 310,
    "start_time": "2021-11-11T11:25:20.037Z"
   },
   {
    "duration": 6,
    "start_time": "2021-11-11T12:47:30.869Z"
   },
   {
    "duration": 7,
    "start_time": "2021-11-11T12:48:32.906Z"
   },
   {
    "duration": 18,
    "start_time": "2021-11-11T12:50:32.674Z"
   },
   {
    "duration": 15,
    "start_time": "2021-11-11T14:21:57.211Z"
   },
   {
    "duration": 35,
    "start_time": "2021-11-11T14:44:55.192Z"
   },
   {
    "duration": 64,
    "start_time": "2021-11-11T14:45:25.985Z"
   },
   {
    "duration": 23,
    "start_time": "2021-11-11T14:45:35.535Z"
   },
   {
    "duration": 34,
    "start_time": "2021-11-11T14:46:22.712Z"
   },
   {
    "duration": 15,
    "start_time": "2021-11-11T14:46:38.186Z"
   },
   {
    "duration": 16,
    "start_time": "2021-11-11T14:48:29.873Z"
   },
   {
    "duration": 429,
    "start_time": "2021-11-11T14:48:34.558Z"
   },
   {
    "duration": 297,
    "start_time": "2021-11-11T14:48:43.889Z"
   },
   {
    "duration": 36,
    "start_time": "2021-11-11T14:48:53.331Z"
   },
   {
    "duration": 15,
    "start_time": "2021-11-11T14:49:18.928Z"
   },
   {
    "duration": 32,
    "start_time": "2021-11-11T14:59:12.016Z"
   },
   {
    "duration": 15,
    "start_time": "2021-11-11T14:59:13.511Z"
   },
   {
    "duration": 356,
    "start_time": "2021-11-11T14:59:17.311Z"
   },
   {
    "duration": 472,
    "start_time": "2021-11-11T14:59:21.676Z"
   },
   {
    "duration": 6,
    "start_time": "2021-11-11T14:59:25.064Z"
   },
   {
    "duration": 20,
    "start_time": "2021-11-11T14:59:32.431Z"
   },
   {
    "duration": 16,
    "start_time": "2021-11-11T14:59:33.696Z"
   },
   {
    "duration": 4,
    "start_time": "2021-11-11T14:59:53.652Z"
   },
   {
    "duration": 69,
    "start_time": "2021-11-11T14:59:53.658Z"
   },
   {
    "duration": 23,
    "start_time": "2021-11-11T14:59:53.730Z"
   },
   {
    "duration": 36,
    "start_time": "2021-11-11T14:59:53.756Z"
   },
   {
    "duration": 14,
    "start_time": "2021-11-11T14:59:53.795Z"
   },
   {
    "duration": 7,
    "start_time": "2021-11-11T14:59:53.811Z"
   },
   {
    "duration": 353,
    "start_time": "2021-11-11T14:59:53.821Z"
   },
   {
    "duration": 23,
    "start_time": "2021-11-11T14:59:54.177Z"
   },
   {
    "duration": 353,
    "start_time": "2021-11-11T14:59:54.203Z"
   },
   {
    "duration": 9,
    "start_time": "2021-11-11T14:59:54.559Z"
   },
   {
    "duration": 45,
    "start_time": "2021-11-11T14:59:54.570Z"
   },
   {
    "duration": 50,
    "start_time": "2021-11-11T14:59:54.618Z"
   },
   {
    "duration": 9,
    "start_time": "2021-11-11T14:59:54.670Z"
   },
   {
    "duration": 41,
    "start_time": "2021-11-11T14:59:54.681Z"
   },
   {
    "duration": 16,
    "start_time": "2021-11-11T14:59:54.724Z"
   },
   {
    "duration": 359,
    "start_time": "2021-11-11T14:59:54.743Z"
   },
   {
    "duration": 386,
    "start_time": "2021-11-11T14:59:55.105Z"
   },
   {
    "duration": 6,
    "start_time": "2021-11-11T14:59:58.983Z"
   },
   {
    "duration": 7,
    "start_time": "2021-11-11T15:00:19.490Z"
   },
   {
    "duration": 17,
    "start_time": "2021-11-11T15:00:21.179Z"
   },
   {
    "duration": 5,
    "start_time": "2021-11-11T15:30:23.178Z"
   },
   {
    "duration": 35,
    "start_time": "2021-11-11T15:30:54.540Z"
   },
   {
    "duration": 37,
    "start_time": "2021-11-11T15:52:31.355Z"
   },
   {
    "duration": 23,
    "start_time": "2021-11-11T16:01:01.731Z"
   },
   {
    "duration": 23,
    "start_time": "2021-11-11T16:01:15.828Z"
   },
   {
    "duration": 24,
    "start_time": "2021-11-11T16:01:31.042Z"
   },
   {
    "duration": 24,
    "start_time": "2021-11-11T16:01:42.094Z"
   },
   {
    "duration": 23,
    "start_time": "2021-11-11T16:03:01.101Z"
   },
   {
    "duration": 27,
    "start_time": "2021-11-11T16:03:54.727Z"
   },
   {
    "duration": 45,
    "start_time": "2021-11-11T16:04:08.331Z"
   },
   {
    "duration": 11,
    "start_time": "2021-11-11T16:41:28.460Z"
   },
   {
    "duration": 272,
    "start_time": "2021-11-11T16:43:18.475Z"
   },
   {
    "duration": 20,
    "start_time": "2021-11-11T16:43:46.601Z"
   },
   {
    "duration": 10,
    "start_time": "2021-11-11T16:46:30.574Z"
   },
   {
    "duration": 15,
    "start_time": "2021-11-11T16:46:44.036Z"
   },
   {
    "duration": 12,
    "start_time": "2021-11-11T16:46:47.299Z"
   },
   {
    "duration": 28,
    "start_time": "2021-11-11T16:47:18.284Z"
   },
   {
    "duration": 25,
    "start_time": "2021-11-11T16:49:18.391Z"
   },
   {
    "duration": 10,
    "start_time": "2021-11-11T16:49:36.375Z"
   },
   {
    "duration": 11,
    "start_time": "2021-11-11T16:49:50.419Z"
   },
   {
    "duration": 11,
    "start_time": "2021-11-11T16:50:15.271Z"
   },
   {
    "duration": 11,
    "start_time": "2021-11-11T16:50:50.264Z"
   },
   {
    "duration": 265,
    "start_time": "2021-11-11T17:03:06.618Z"
   },
   {
    "duration": 9,
    "start_time": "2021-11-11T17:03:14.030Z"
   },
   {
    "duration": 18,
    "start_time": "2021-11-11T17:03:34.852Z"
   },
   {
    "duration": 9,
    "start_time": "2021-11-11T17:17:31.418Z"
   },
   {
    "duration": 13,
    "start_time": "2021-11-11T18:15:45.319Z"
   },
   {
    "duration": 253,
    "start_time": "2021-11-11T18:18:43.290Z"
   },
   {
    "duration": 4,
    "start_time": "2021-11-11T18:19:14.153Z"
   },
   {
    "duration": 63,
    "start_time": "2021-11-11T18:19:25.259Z"
   },
   {
    "duration": 7602,
    "start_time": "2021-11-11T18:19:45.344Z"
   },
   {
    "duration": 6,
    "start_time": "2021-11-11T18:23:15.980Z"
   },
   {
    "duration": 283,
    "start_time": "2021-11-11T18:23:47.265Z"
   },
   {
    "duration": 674,
    "start_time": "2021-11-11T18:24:44.560Z"
   },
   {
    "duration": 274,
    "start_time": "2021-11-11T18:26:29.700Z"
   },
   {
    "duration": 6667,
    "start_time": "2021-11-11T18:37:45.443Z"
   },
   {
    "duration": 306,
    "start_time": "2021-11-11T18:39:14.606Z"
   },
   {
    "duration": 264,
    "start_time": "2021-11-11T18:39:55.980Z"
   },
   {
    "duration": 7,
    "start_time": "2021-11-11T18:45:09.085Z"
   },
   {
    "duration": 6,
    "start_time": "2021-11-11T18:46:36.872Z"
   },
   {
    "duration": 13,
    "start_time": "2021-11-11T18:50:05.542Z"
   },
   {
    "duration": 4,
    "start_time": "2021-11-11T18:52:50.893Z"
   },
   {
    "duration": 1223,
    "start_time": "2021-11-11T18:53:29.547Z"
   },
   {
    "duration": 39,
    "start_time": "2021-11-11T18:53:42.317Z"
   },
   {
    "duration": 15,
    "start_time": "2021-11-11T18:55:01.832Z"
   },
   {
    "duration": 14,
    "start_time": "2021-11-11T19:06:25.367Z"
   },
   {
    "duration": 4,
    "start_time": "2021-11-11T19:13:01.342Z"
   },
   {
    "duration": 4,
    "start_time": "2021-11-11T20:08:06.080Z"
   },
   {
    "duration": 4856,
    "start_time": "2021-11-11T20:11:53.388Z"
   },
   {
    "duration": 4925,
    "start_time": "2021-11-11T20:12:11.852Z"
   },
   {
    "duration": 4917,
    "start_time": "2021-11-11T20:12:24.412Z"
   },
   {
    "duration": 4,
    "start_time": "2021-11-11T20:13:04.346Z"
   },
   {
    "duration": 540,
    "start_time": "2021-11-11T20:13:08.032Z"
   },
   {
    "duration": 5,
    "start_time": "2021-11-11T20:13:21.974Z"
   },
   {
    "duration": 525,
    "start_time": "2021-11-11T20:13:23.128Z"
   },
   {
    "duration": 5,
    "start_time": "2021-11-11T20:14:16.172Z"
   },
   {
    "duration": 5225,
    "start_time": "2021-11-11T20:14:17.212Z"
   },
   {
    "duration": 776,
    "start_time": "2021-11-12T07:09:53.594Z"
   },
   {
    "duration": 65,
    "start_time": "2021-11-12T07:09:54.373Z"
   },
   {
    "duration": 31,
    "start_time": "2021-11-12T07:09:54.440Z"
   },
   {
    "duration": 50,
    "start_time": "2021-11-12T07:09:54.474Z"
   },
   {
    "duration": 15,
    "start_time": "2021-11-12T07:09:54.526Z"
   },
   {
    "duration": 6,
    "start_time": "2021-11-12T07:09:54.543Z"
   },
   {
    "duration": 435,
    "start_time": "2021-11-12T07:09:54.552Z"
   },
   {
    "duration": 33,
    "start_time": "2021-11-12T07:09:54.991Z"
   },
   {
    "duration": 328,
    "start_time": "2021-11-12T07:09:55.027Z"
   },
   {
    "duration": 6,
    "start_time": "2021-11-12T07:09:55.358Z"
   },
   {
    "duration": 61,
    "start_time": "2021-11-12T07:09:55.366Z"
   },
   {
    "duration": 24,
    "start_time": "2021-11-12T07:09:55.429Z"
   },
   {
    "duration": 8,
    "start_time": "2021-11-12T07:09:55.456Z"
   },
   {
    "duration": 64,
    "start_time": "2021-11-12T07:09:55.466Z"
   },
   {
    "duration": 14,
    "start_time": "2021-11-12T07:09:55.532Z"
   },
   {
    "duration": 326,
    "start_time": "2021-11-12T07:09:55.549Z"
   },
   {
    "duration": 360,
    "start_time": "2021-11-12T07:09:55.878Z"
   },
   {
    "duration": 6,
    "start_time": "2021-11-12T07:09:56.241Z"
   },
   {
    "duration": 9,
    "start_time": "2021-11-12T07:09:56.250Z"
   },
   {
    "duration": 18,
    "start_time": "2021-11-12T07:09:56.261Z"
   },
   {
    "duration": 71,
    "start_time": "2021-11-12T07:09:56.282Z"
   },
   {
    "duration": 20,
    "start_time": "2021-11-12T07:09:56.356Z"
   },
   {
    "duration": 68,
    "start_time": "2021-11-12T07:09:56.380Z"
   },
   {
    "duration": 9,
    "start_time": "2021-11-12T07:09:56.450Z"
   },
   {
    "duration": 28,
    "start_time": "2021-11-12T07:09:56.461Z"
   },
   {
    "duration": 25,
    "start_time": "2021-11-12T07:10:01.590Z"
   },
   {
    "duration": 40,
    "start_time": "2021-11-12T07:11:20.192Z"
   },
   {
    "duration": 9,
    "start_time": "2021-11-12T07:21:13.635Z"
   },
   {
    "duration": 14,
    "start_time": "2021-11-12T07:21:17.771Z"
   },
   {
    "duration": 10,
    "start_time": "2021-11-12T07:21:20.551Z"
   },
   {
    "duration": 10,
    "start_time": "2021-11-12T07:21:28.787Z"
   },
   {
    "duration": 15,
    "start_time": "2021-11-12T07:21:38.358Z"
   },
   {
    "duration": 901,
    "start_time": "2021-11-12T07:21:44.278Z"
   },
   {
    "duration": 4,
    "start_time": "2021-11-12T07:21:47.797Z"
   },
   {
    "duration": 4,
    "start_time": "2021-11-12T07:21:49.252Z"
   },
   {
    "duration": 4770,
    "start_time": "2021-11-12T08:36:05.634Z"
   },
   {
    "duration": 12,
    "start_time": "2021-11-12T08:39:58.088Z"
   },
   {
    "duration": 53,
    "start_time": "2021-11-12T09:37:33.670Z"
   },
   {
    "duration": 46,
    "start_time": "2021-11-12T09:38:21.406Z"
   },
   {
    "duration": 380,
    "start_time": "2021-11-12T09:40:09.382Z"
   },
   {
    "duration": 8,
    "start_time": "2021-11-12T09:40:25.295Z"
   },
   {
    "duration": 290,
    "start_time": "2021-11-12T09:44:51.142Z"
   },
   {
    "duration": 8,
    "start_time": "2021-11-12T09:44:57.244Z"
   },
   {
    "duration": 12,
    "start_time": "2021-11-12T09:45:15.279Z"
   },
   {
    "duration": 17,
    "start_time": "2021-11-12T09:45:23.917Z"
   },
   {
    "duration": 9,
    "start_time": "2021-11-12T09:50:07.241Z"
   },
   {
    "duration": 8003,
    "start_time": "2021-11-12T09:53:46.737Z"
   },
   {
    "duration": 1903,
    "start_time": "2021-11-12T09:54:16.871Z"
   },
   {
    "duration": 5,
    "start_time": "2021-11-12T09:54:35.502Z"
   },
   {
    "duration": 308,
    "start_time": "2021-11-12T09:54:58.648Z"
   },
   {
    "duration": 273,
    "start_time": "2021-11-12T09:55:09.285Z"
   },
   {
    "duration": 13,
    "start_time": "2021-11-12T09:55:58.707Z"
   },
   {
    "duration": 17,
    "start_time": "2021-11-12T09:56:08.038Z"
   },
   {
    "duration": 17,
    "start_time": "2021-11-12T09:56:21.411Z"
   },
   {
    "duration": 5,
    "start_time": "2021-11-12T09:57:58.770Z"
   },
   {
    "duration": 17,
    "start_time": "2021-11-12T09:58:25.673Z"
   },
   {
    "duration": 281,
    "start_time": "2021-11-12T10:00:38.866Z"
   },
   {
    "duration": 10,
    "start_time": "2021-11-12T10:00:44.482Z"
   },
   {
    "duration": 287,
    "start_time": "2021-11-12T10:08:14.273Z"
   },
   {
    "duration": 12,
    "start_time": "2021-11-12T10:13:02.636Z"
   },
   {
    "duration": 25,
    "start_time": "2021-11-12T10:13:30.016Z"
   },
   {
    "duration": 316,
    "start_time": "2021-11-12T10:13:59.513Z"
   },
   {
    "duration": 23,
    "start_time": "2021-11-12T10:14:13.056Z"
   },
   {
    "duration": 316,
    "start_time": "2021-11-12T10:14:28.726Z"
   },
   {
    "duration": 44,
    "start_time": "2021-11-12T10:14:33.395Z"
   },
   {
    "duration": 10,
    "start_time": "2021-11-12T10:18:09.697Z"
   },
   {
    "duration": 13,
    "start_time": "2021-11-12T10:18:33.160Z"
   },
   {
    "duration": 11,
    "start_time": "2021-11-12T10:18:44.254Z"
   },
   {
    "duration": 373,
    "start_time": "2021-11-12T16:19:46.289Z"
   },
   {
    "duration": 20,
    "start_time": "2021-11-12T16:20:01.589Z"
   },
   {
    "duration": 12,
    "start_time": "2021-11-12T16:20:40.072Z"
   },
   {
    "duration": 19,
    "start_time": "2021-11-12T16:21:17.971Z"
   },
   {
    "duration": 11,
    "start_time": "2021-11-12T16:24:47.498Z"
   },
   {
    "duration": 5,
    "start_time": "2021-11-12T16:29:38.174Z"
   },
   {
    "duration": 309,
    "start_time": "2021-11-12T16:31:53.049Z"
   },
   {
    "duration": 5,
    "start_time": "2021-11-12T16:31:57.570Z"
   },
   {
    "duration": 378,
    "start_time": "2021-11-12T16:31:58.861Z"
   },
   {
    "duration": 388,
    "start_time": "2021-11-12T16:32:13.105Z"
   },
   {
    "duration": 6,
    "start_time": "2021-11-12T16:32:39.441Z"
   },
   {
    "duration": 496,
    "start_time": "2021-11-12T16:32:41.976Z"
   },
   {
    "duration": 5,
    "start_time": "2021-11-12T16:33:50.913Z"
   },
   {
    "duration": 397,
    "start_time": "2021-11-12T16:33:53.166Z"
   },
   {
    "duration": 13,
    "start_time": "2021-11-12T17:11:40.054Z"
   },
   {
    "duration": 19,
    "start_time": "2021-11-12T17:11:50.527Z"
   },
   {
    "duration": 23,
    "start_time": "2021-11-12T17:14:35.220Z"
   },
   {
    "duration": 27,
    "start_time": "2021-11-12T17:16:17.233Z"
   },
   {
    "duration": 28,
    "start_time": "2021-11-12T17:16:28.502Z"
   },
   {
    "duration": 288,
    "start_time": "2021-11-12T17:20:40.099Z"
   },
   {
    "duration": 22,
    "start_time": "2021-11-12T17:21:12.498Z"
   },
   {
    "duration": 26,
    "start_time": "2021-11-12T17:21:34.774Z"
   },
   {
    "duration": 896,
    "start_time": "2021-11-12T17:21:42.293Z"
   },
   {
    "duration": 45,
    "start_time": "2021-11-12T17:22:07.620Z"
   },
   {
    "duration": 31,
    "start_time": "2021-11-12T17:24:17.537Z"
   },
   {
    "duration": 31,
    "start_time": "2021-11-12T17:24:29.814Z"
   },
   {
    "duration": 31,
    "start_time": "2021-11-12T17:24:36.968Z"
   },
   {
    "duration": 31,
    "start_time": "2021-11-12T17:24:45.750Z"
   },
   {
    "duration": 31,
    "start_time": "2021-11-12T17:24:53.153Z"
   },
   {
    "duration": 30,
    "start_time": "2021-11-12T17:24:58.122Z"
   },
   {
    "duration": 312,
    "start_time": "2021-11-12T17:30:31.735Z"
   },
   {
    "duration": 305,
    "start_time": "2021-11-12T17:30:39.265Z"
   },
   {
    "duration": 300,
    "start_time": "2021-11-12T17:31:44.813Z"
   },
   {
    "duration": 27,
    "start_time": "2021-11-12T17:32:00.409Z"
   },
   {
    "duration": 322,
    "start_time": "2021-11-12T17:32:16.357Z"
   },
   {
    "duration": 300,
    "start_time": "2021-11-12T17:32:44.159Z"
   },
   {
    "duration": 332,
    "start_time": "2021-11-12T17:34:46.438Z"
   },
   {
    "duration": 30,
    "start_time": "2021-11-12T17:35:57.855Z"
   },
   {
    "duration": 108,
    "start_time": "2021-11-12T17:39:50.616Z"
   },
   {
    "duration": 7194,
    "start_time": "2021-11-12T17:39:58.618Z"
   },
   {
    "duration": 100,
    "start_time": "2021-11-12T17:40:22.211Z"
   },
   {
    "duration": 7098,
    "start_time": "2021-11-12T17:40:38.699Z"
   },
   {
    "duration": 9081,
    "start_time": "2021-11-12T17:40:52.388Z"
   },
   {
    "duration": 287,
    "start_time": "2021-11-12T17:41:19.022Z"
   },
   {
    "duration": 359,
    "start_time": "2021-11-12T17:41:27.894Z"
   },
   {
    "duration": 9411,
    "start_time": "2021-11-12T17:41:42.434Z"
   },
   {
    "duration": 7914,
    "start_time": "2021-11-12T17:42:02.049Z"
   },
   {
    "duration": 7108,
    "start_time": "2021-11-12T17:42:25.995Z"
   },
   {
    "duration": 96,
    "start_time": "2021-11-12T17:42:42.123Z"
   },
   {
    "duration": 7396,
    "start_time": "2021-11-12T17:42:47.229Z"
   },
   {
    "duration": 31,
    "start_time": "2021-11-12T17:43:15.277Z"
   },
   {
    "duration": 12,
    "start_time": "2021-11-12T17:48:23.544Z"
   },
   {
    "duration": 32,
    "start_time": "2021-11-12T17:49:35.313Z"
   },
   {
    "duration": 29,
    "start_time": "2021-11-12T18:27:13.495Z"
   },
   {
    "duration": 33,
    "start_time": "2021-11-12T18:43:01.209Z"
   },
   {
    "duration": 31,
    "start_time": "2021-11-12T18:48:21.427Z"
   },
   {
    "duration": 30,
    "start_time": "2021-11-12T19:39:14.594Z"
   },
   {
    "duration": 617,
    "start_time": "2021-11-13T08:33:36.944Z"
   },
   {
    "duration": 51,
    "start_time": "2021-11-13T08:33:37.563Z"
   },
   {
    "duration": 18,
    "start_time": "2021-11-13T08:33:37.616Z"
   },
   {
    "duration": 22,
    "start_time": "2021-11-13T08:33:37.636Z"
   },
   {
    "duration": 11,
    "start_time": "2021-11-13T08:33:37.659Z"
   },
   {
    "duration": 4,
    "start_time": "2021-11-13T08:33:37.672Z"
   },
   {
    "duration": 257,
    "start_time": "2021-11-13T08:33:37.678Z"
   },
   {
    "duration": 14,
    "start_time": "2021-11-13T08:33:37.937Z"
   },
   {
    "duration": 190,
    "start_time": "2021-11-13T08:33:37.965Z"
   },
   {
    "duration": 9,
    "start_time": "2021-11-13T08:33:38.157Z"
   },
   {
    "duration": 28,
    "start_time": "2021-11-13T08:33:38.168Z"
   },
   {
    "duration": 16,
    "start_time": "2021-11-13T08:33:38.198Z"
   },
   {
    "duration": 6,
    "start_time": "2021-11-13T08:33:38.215Z"
   },
   {
    "duration": 54,
    "start_time": "2021-11-13T08:33:38.222Z"
   },
   {
    "duration": 10,
    "start_time": "2021-11-13T08:33:38.277Z"
   },
   {
    "duration": 198,
    "start_time": "2021-11-13T08:33:38.289Z"
   },
   {
    "duration": 240,
    "start_time": "2021-11-13T08:33:38.488Z"
   },
   {
    "duration": 5,
    "start_time": "2021-11-13T08:33:38.730Z"
   },
   {
    "duration": 6,
    "start_time": "2021-11-13T08:33:38.737Z"
   },
   {
    "duration": 26,
    "start_time": "2021-11-13T08:33:38.745Z"
   },
   {
    "duration": 25,
    "start_time": "2021-11-13T08:33:38.773Z"
   },
   {
    "duration": 14,
    "start_time": "2021-11-13T08:33:38.800Z"
   },
   {
    "duration": 53,
    "start_time": "2021-11-13T08:33:38.816Z"
   },
   {
    "duration": 8,
    "start_time": "2021-11-13T08:33:38.870Z"
   },
   {
    "duration": 20,
    "start_time": "2021-11-13T08:33:38.879Z"
   },
   {
    "duration": 17,
    "start_time": "2021-11-13T08:33:38.901Z"
   },
   {
    "duration": 55,
    "start_time": "2021-11-13T08:33:38.922Z"
   },
   {
    "duration": 7,
    "start_time": "2021-11-13T08:33:38.979Z"
   },
   {
    "duration": 11,
    "start_time": "2021-11-13T08:33:38.988Z"
   },
   {
    "duration": 13,
    "start_time": "2021-11-13T08:33:39.001Z"
   },
   {
    "duration": 9,
    "start_time": "2021-11-13T08:33:39.016Z"
   },
   {
    "duration": 13,
    "start_time": "2021-11-13T08:33:39.026Z"
   },
   {
    "duration": 668,
    "start_time": "2021-11-13T08:33:39.041Z"
   },
   {
    "duration": 3,
    "start_time": "2021-11-13T08:33:39.711Z"
   },
   {
    "duration": 9,
    "start_time": "2021-11-13T08:33:39.716Z"
   },
   {
    "duration": 3837,
    "start_time": "2021-11-13T08:33:39.726Z"
   },
   {
    "duration": 8,
    "start_time": "2021-11-13T08:33:43.565Z"
   },
   {
    "duration": 11,
    "start_time": "2021-11-13T08:33:43.575Z"
   },
   {
    "duration": 15,
    "start_time": "2021-11-13T08:33:43.587Z"
   },
   {
    "duration": 10,
    "start_time": "2021-11-13T08:33:43.604Z"
   },
   {
    "duration": 11,
    "start_time": "2021-11-13T08:33:43.616Z"
   },
   {
    "duration": 6,
    "start_time": "2021-11-13T08:33:43.628Z"
   },
   {
    "duration": 8,
    "start_time": "2021-11-13T08:33:43.664Z"
   },
   {
    "duration": 3,
    "start_time": "2021-11-13T08:33:43.674Z"
   },
   {
    "duration": 255,
    "start_time": "2021-11-13T08:33:43.678Z"
   },
   {
    "duration": 686,
    "start_time": "2021-11-13T08:33:43.934Z"
   },
   {
    "duration": 23,
    "start_time": "2021-11-13T08:33:44.622Z"
   },
   {
    "duration": 28,
    "start_time": "2021-11-13T08:33:44.647Z"
   },
   {
    "duration": 23,
    "start_time": "2021-11-13T08:33:44.676Z"
   },
   {
    "duration": 21,
    "start_time": "2021-11-13T08:33:44.700Z"
   }
  ],
  "kernelspec": {
   "display_name": "Python 3",
   "language": "python",
   "name": "python3"
  },
  "language_info": {
   "codemirror_mode": {
    "name": "ipython",
    "version": 3
   },
   "file_extension": ".py",
   "mimetype": "text/x-python",
   "name": "python",
   "nbconvert_exporter": "python",
   "pygments_lexer": "ipython3",
   "version": "3.7.3"
  },
  "toc": {
   "base_numbering": 1,
   "nav_menu": {},
   "number_sections": true,
   "sideBar": true,
   "skip_h1_title": true,
   "title_cell": "Table of Contents",
   "title_sidebar": "Contents",
   "toc_cell": false,
   "toc_position": {},
   "toc_section_display": true,
   "toc_window_display": false
  }
 },
 "nbformat": 4,
 "nbformat_minor": 2
}
